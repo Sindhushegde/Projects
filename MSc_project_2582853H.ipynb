{
 "cells": [
  {
   "cell_type": "code",
   "execution_count": 10,
   "id": "9a6b32d7",
   "metadata": {},
   "outputs": [
    {
     "name": "stderr",
     "output_type": "stream",
     "text": [
      "[nltk_data] Downloading package stopwords to\n",
      "[nltk_data]     /Users/sindhuhegde/nltk_data...\n",
      "[nltk_data]   Package stopwords is already up-to-date!\n",
      "[nltk_data] Downloading package wordnet to\n",
      "[nltk_data]     /Users/sindhuhegde/nltk_data...\n",
      "[nltk_data]   Package wordnet is already up-to-date!\n"
     ]
    },
    {
     "data": {
      "text/plain": [
       "True"
      ]
     },
     "execution_count": 10,
     "metadata": {},
     "output_type": "execute_result"
    }
   ],
   "source": [
    "import numpy as np\n",
    "import pandas as pd\n",
    "import networkx as nx\n",
    "import string\n",
    "import math\n",
    "import re\n",
    "import sys\n",
    "import spacy\n",
    "import gensim\n",
    "import matplotlib.pyplot as plt\n",
    "from tqdm import tqdm\n",
    "\n",
    "import nltk\n",
    "from nltk.corpus import stopwords\n",
    "from nltk.stem import WordNetLemmatizer\n",
    "nltk.download('stopwords')\n",
    "nltk.download('wordnet')"
   ]
  },
  {
   "cell_type": "code",
   "execution_count": 11,
   "id": "ff89d9c5",
   "metadata": {},
   "outputs": [],
   "source": [
    "import numpy as np, pandas as pd\n",
    "from scipy import sparse\n",
    "\n",
    "import string, re, emoji, regex, spacy, nltk, gensim  \n",
    "from nltk.corpus import stopwords\n",
    "import gensim.corpora as corpora\n",
    "from gensim.corpora import Dictionary\n",
    "from gensim.utils import  simple_preprocess\n",
    "from gensim.models import CoherenceModel\n",
    "from gensim.models.ldamulticore import LdaMulticore\n",
    "from gensim.parsing.preprocessing import STOPWORDS as SW\n",
    "from wordcloud import WordCloud, STOPWORDS\n",
    "\n",
    "from sklearn.feature_extraction.text import TfidfVectorizer\n",
    "from sklearn.metrics.pairwise import cosine_similarity\n",
    "from sklearn.cluster import MiniBatchKMeans\n",
    "\n",
    "import matplotlib.pyplot as plt, matplotlib.colors as mcolors, seaborn as sns, plotly.express as px, pyLDAvis\n",
    "from matplotlib.patches import Rectangle\n",
    "from matplotlib.ticker import FuncFormatter\n",
    "import pyLDAvis.gensim_models as gensimvis\n",
    "\n",
    "import sys, logging, warnings, pickle\n",
    "from collections import Counter\n",
    "warnings.simplefilter(\"ignore\")"
   ]
  },
  {
   "cell_type": "markdown",
   "id": "89407990",
   "metadata": {},
   "source": [
    "# Pre-processing"
   ]
  },
  {
   "cell_type": "code",
   "execution_count": 12,
   "id": "3e9d5c44",
   "metadata": {},
   "outputs": [],
   "source": [
    "df = pd.read_csv(\"ietf_data.csv\")"
   ]
  },
  {
   "cell_type": "code",
   "execution_count": 13,
   "id": "f0147f34",
   "metadata": {},
   "outputs": [],
   "source": [
    "df = df[df.columns[df.columns.isin(['_id', 'body', 'gridfs_id','headers.Date','headers.From', 'headers.In-Reply-To', 'headers.Message-ID', 'headers.Subject', 'imap_uid', 'list', 'size', 'timestamp' ])]]"
   ]
  },
  {
   "cell_type": "code",
   "execution_count": 14,
   "id": "6e5153de",
   "metadata": {},
   "outputs": [],
   "source": [
    "#df"
   ]
  },
  {
   "cell_type": "code",
   "execution_count": 15,
   "id": "c3d8ffa7",
   "metadata": {},
   "outputs": [],
   "source": [
    "df = df.dropna(subset=[\"list\"])\n",
    "df = df.dropna(subset=[\"headers.Date\"])\n",
    "df = df.dropna(subset = [\"headers.Subject\"])"
   ]
  },
  {
   "cell_type": "code",
   "execution_count": 16,
   "id": "b9ada630",
   "metadata": {},
   "outputs": [],
   "source": [
    "\"\"\"\n",
    "Drop the rows which are having Nan values in the headers.From and body column.\n",
    "\"\"\"\n",
    "\n",
    "df = df.dropna(subset=[\"headers.From\",\"body\"])\n",
    "\n",
    "\n",
    "\"\"\"\n",
    "Delete the first paragraph from the body that contains From, message-ID, Date and some other informations.\n",
    "\"\"\"\n",
    "s = []\n",
    "for i in range(len(df)):\n",
    "    s.append(df.iloc[i][\"body\"].split(\"\\n\\n\",1)[0])\n",
    "\n",
    "df[\"body\"] = s\n"
   ]
  },
  {
   "cell_type": "code",
   "execution_count": 17,
   "id": "7db7132e",
   "metadata": {},
   "outputs": [
    {
     "name": "stdout",
     "output_type": "stream",
     "text": [
      "['i', 'me', 'my', 'myself', 'we', 'our', 'ours', 'ourselves', 'you', \"you're\", \"you've\", \"you'll\", \"you'd\", 'your', 'yours', 'yourself', 'yourselves', 'he', 'him', 'his', 'himself', 'she', \"she's\", 'her', 'hers', 'herself', 'it', \"it's\", 'its', 'itself', 'they', 'them', 'their', 'theirs', 'themselves', 'what', 'which', 'who', 'whom', 'this', 'that', \"that'll\", 'these', 'those', 'am', 'is', 'are', 'was', 'were', 'be', 'been', 'being', 'have', 'has', 'had', 'having', 'do', 'does', 'did', 'doing', 'a', 'an', 'the', 'and', 'but', 'if', 'or', 'because', 'as', 'until', 'while', 'of', 'at', 'by', 'for', 'with', 'about', 'against', 'between', 'into', 'through', 'during', 'before', 'after', 'above', 'below', 'to', 'from', 'up', 'down', 'in', 'out', 'on', 'off', 'over', 'under', 'again', 'further', 'then', 'once', 'here', 'there', 'when', 'where', 'why', 'how', 'all', 'any', 'both', 'each', 'few', 'more', 'most', 'other', 'some', 'such', 'no', 'nor', 'not', 'only', 'own', 'same', 'so', 'than', 'too', 'very', 's', 't', 'can', 'will', 'just', 'don', \"don't\", 'should', \"should've\", 'now', 'd', 'll', 'm', 'o', 're', 've', 'y', 'ain', 'aren', \"aren't\", 'couldn', \"couldn't\", 'didn', \"didn't\", 'doesn', \"doesn't\", 'hadn', \"hadn't\", 'hasn', \"hasn't\", 'haven', \"haven't\", 'isn', \"isn't\", 'ma', 'mightn', \"mightn't\", 'mustn', \"mustn't\", 'needn', \"needn't\", 'shan', \"shan't\", 'shouldn', \"shouldn't\", 'wasn', \"wasn't\", 'weren', \"weren't\", 'won', \"won't\", 'wouldn', \"wouldn't\"]\n"
     ]
    }
   ],
   "source": [
    "\"\"\"\n",
    "get the stopwords list and the lemmetizers\n",
    "\"\"\"\n",
    "stopwords_list = stopwords.words('english')\n",
    "wordnet_lemmatizer = WordNetLemmatizer()\n",
    "print(stopwords_list)"
   ]
  },
  {
   "cell_type": "code",
   "execution_count": 18,
   "id": "ab07f198",
   "metadata": {},
   "outputs": [],
   "source": [
    "\"\"\"\n",
    "Define a function to process the data which does the following operations:\n",
    "1.removes the punctualtions, stop\n",
    "2. Stopword removal\n",
    "3.lemmatization\n",
    "\"\"\"\n",
    "def process_text(data):\n",
    "\n",
    "    #Removed punctuation\n",
    "    if data:\n",
    "        data = ''.join([char for char in data if char not in string.punctuation]) \n",
    "    #removed stopwords\n",
    "        data = ' '.join([word.lower() for word in data.split() if word.lower() not in stopwords_list]) \n",
    "    #lemmatization\n",
    "        data = ' '.join([wordnet_lemmatizer.lemmatize(word) for word in data.split()]) \n",
    "    return data"
   ]
  },
  {
   "cell_type": "code",
   "execution_count": 19,
   "id": "0fb4176c",
   "metadata": {
    "scrolled": false
   },
   "outputs": [],
   "source": [
    "\"\"\"\n",
    "Processing the headers.From column - get the name of the author and the company\n",
    "\"\"\"\n",
    "\n",
    "email_addr = []\n",
    "for i in range(len(df)):\n",
    "    s = df[\"headers.From\"].iloc[i]\n",
    "#     print(s)\n",
    "    s = s.strip('\\\"')\n",
    "    if type(s) == str:\n",
    "        if len(s) == 0:\n",
    "            print(i, df[\"headers.From\"].iloc[i])\n",
    "            email_addr.append([\"\", \"\"])\n",
    "        if len(s) != 0:\n",
    "            lst = re.search(r'([\\w\\.-]+)@([\\w\\.-]+)', s)\n",
    "            if not lst:\n",
    "                lst = re.search(r'(\\S+) at (\\S+)', s)\n",
    "            if lst:\n",
    "                email_addr.append([lst.group(1), lst.group(2)])    "
   ]
  },
  {
   "cell_type": "code",
   "execution_count": 20,
   "id": "9d089d0a",
   "metadata": {},
   "outputs": [],
   "source": [
    "\"\"\"\n",
    "Get the list of unique authors\n",
    "\"\"\"\n",
    "name = []\n",
    "affiliation = []\n",
    "for i in range(len(email_addr)):\n",
    "    if email_addr[i][0]:\n",
    "        name.append(email_addr[i][0].lower())\n",
    "        affiliation.append(email_addr[i][1])\n",
    "name_df = pd.DataFrame({'authors':name})\n",
    "aff_df = pd.DataFrame({'affiliation':affiliation})\n",
    "unique_name = name_df['authors'].unique()"
   ]
  },
  {
   "cell_type": "code",
   "execution_count": 21,
   "id": "afef5f8d",
   "metadata": {},
   "outputs": [],
   "source": [
    "df['name'] = name_df['authors']\n",
    "df['affiliation'] = aff_df['affiliation']\n",
    "#df.head(100)"
   ]
  },
  {
   "cell_type": "code",
   "execution_count": 22,
   "id": "b511ee1f",
   "metadata": {},
   "outputs": [
    {
     "data": {
      "text/plain": [
       "gmail.com       9671\n",
       "mnot.net        4041\n",
       "gmx.de          3075\n",
       "ericsson.com    2398\n",
       "cisco.com       2056\n",
       "Name: affiliation, dtype: int64"
      ]
     },
     "execution_count": 22,
     "metadata": {},
     "output_type": "execute_result"
    }
   ],
   "source": [
    "df['affiliation'].value_counts().head(5)"
   ]
  },
  {
   "cell_type": "code",
   "execution_count": 23,
   "id": "eec86c0f",
   "metadata": {},
   "outputs": [
    {
     "data": {
      "text/plain": [
       "1700"
      ]
     },
     "execution_count": 23,
     "metadata": {},
     "output_type": "execute_result"
    }
   ],
   "source": [
    "len(unique_name)"
   ]
  },
  {
   "cell_type": "code",
   "execution_count": 24,
   "id": "b0a28f76",
   "metadata": {},
   "outputs": [
    {
     "data": {
      "text/plain": [
       "57966"
      ]
     },
     "execution_count": 24,
     "metadata": {},
     "output_type": "execute_result"
    }
   ],
   "source": [
    "from collections import defaultdict\n",
    "d = defaultdict(lambda: len(d))\n",
    "unique_id = [d[x] for x in df['name']]\n",
    "len(unique_id)"
   ]
  },
  {
   "cell_type": "code",
   "execution_count": 25,
   "id": "855a5307",
   "metadata": {},
   "outputs": [
    {
     "name": "stderr",
     "output_type": "stream",
     "text": [
      "100%|██████████| 57966/57966 [00:00<00:00, 136547.10it/s]\n"
     ]
    }
   ],
   "source": [
    "\"\"\"\n",
    "Pre-processing of headers.subject by removing non-important information\n",
    "\"\"\"\n",
    "\n",
    "subject = []\n",
    "indexs = []\n",
    "\n",
    "for i in tqdm(range(len(df))):\n",
    "    try:\n",
    "        mystring = str(df[\"headers.Subject\"].iloc[i])\n",
    "        if not mystring:\n",
    "            continue\n",
    "        start = mystring.rfind(\"[\")\n",
    "        end = mystring[start:].find(\"]\")\n",
    "        while start != -1 and end != -1:\n",
    "            mystring = mystring[:start] + mystring[start+end+1:]\n",
    "            start = mystring.rfind(\"[\")\n",
    "            end = mystring[start:].find(\"]\")\n",
    "        if len(mystring) == 0:\n",
    "    #         print(i, df[\"headers.Subject\"].iloc[i],\"\\n\", mystring)\n",
    "            indexs.append(df.iloc[[i]].index[0])\n",
    "        else:\n",
    "            mystring = mystring.replace(\"Re:\", \"\").strip()\n",
    "            if len(mystring) == 0:\n",
    "                indexs.append(df.iloc[[i]].index[0])\n",
    "            else:\n",
    "                subject.append(mystring)\n",
    "    except:\n",
    "        print(mystring)\n",
    "        break\n",
    "# df = df.drop(index=indexs)\n",
    "# df[\"headers.Subject\"] = subject\n",
    "# len(df)"
   ]
  },
  {
   "cell_type": "code",
   "execution_count": 26,
   "id": "d7280d96",
   "metadata": {},
   "outputs": [
    {
     "data": {
      "text/plain": [
       "15999"
      ]
     },
     "execution_count": 26,
     "metadata": {},
     "output_type": "execute_result"
    }
   ],
   "source": [
    "len(df[\"headers.Subject\"].unique())\n"
   ]
  },
  {
   "cell_type": "markdown",
   "id": "46238c82",
   "metadata": {},
   "source": [
    "# Examine the pattern of connections generated over time "
   ]
  },
  {
   "cell_type": "code",
   "execution_count": 27,
   "id": "54150560",
   "metadata": {},
   "outputs": [
    {
     "name": "stderr",
     "output_type": "stream",
     "text": [
      "\r",
      "  0%|          | 0/4 [00:00<?, ?it/s]"
     ]
    },
    {
     "data": {
      "image/png": "[encoded data removed]",
      "text/plain": [
       "<Figure size 1800x360 with 1 Axes>"
      ]
     },
     "metadata": {
      "needs_background": "light"
     },
     "output_type": "display_data"
    },
    {
     "name": "stderr",
     "output_type": "stream",
     "text": [
      "\r",
      " 25%|██▌       | 1/4 [00:02<00:06,  2.08s/it]"
     ]
    },
    {
     "data": {
      "image/png": "[encoded data removed]",
      "text/plain": [
       "<Figure size 1800x360 with 1 Axes>"
      ]
     },
     "metadata": {
      "needs_background": "light"
     },
     "output_type": "display_data"
    },
    {
     "name": "stderr",
     "output_type": "stream",
     "text": [
      "\r",
      " 50%|█████     | 2/4 [00:04<00:04,  2.12s/it]"
     ]
    },
    {
     "data": {
      "image/png": "[encoded data removed]",
      "text/plain": [
       "<Figure size 1800x360 with 1 Axes>"
      ]
     },
     "metadata": {
      "needs_background": "light"
     },
     "output_type": "display_data"
    },
    {
     "name": "stderr",
     "output_type": "stream",
     "text": [
      "\r",
      " 75%|███████▌  | 3/4 [00:06<00:02,  2.12s/it]"
     ]
    },
    {
     "data": {
      "image/png": "[encoded data removed]",
      "text/plain": [
       "<Figure size 1800x360 with 1 Axes>"
      ]
     },
     "metadata": {
      "needs_background": "light"
     },
     "output_type": "display_data"
    },
    {
     "name": "stderr",
     "output_type": "stream",
     "text": [
      "100%|██████████| 4/4 [00:08<00:00,  2.11s/it]\n"
     ]
    }
   ],
   "source": [
    "from datetime import datetime\n",
    "\n",
    "years = ['2010','2011','2012','2013','2014','2015','2016', '2017', '2018', '2019', '2020', '2021']\n",
    "# months = [\"Jan\", \"Feb\", \"Mar\", \"Apr\", \"May\",\"Jun\",\"Jul\", \"Aug\", \"Sep\", \"Oct\", \"Nov\", \"Dec\"]\n",
    "count_emails_per_month = {}\n",
    "for i in range(2000,2022):\n",
    "#     for y in years:\n",
    "# #         count_emails_per_month[str(i) + \" \" + y] = 0\n",
    "         count_emails_per_month[str(i)] = 0\n",
    "     \n",
    "for grp in tqdm(list(df[\"list\"].unique())):\n",
    "    for index, row in df.iterrows():\n",
    "        if row[\"list\"] == grp:\n",
    "#             s = row['headers.Date'].split()[3] +  \" \" + row['headers.Date'].split()[2]\n",
    "            s = row['headers.Date'].split()[3]\n",
    "#             print(s)\n",
    "#             except:\n",
    "#                 print(row)\n",
    "#                 break\n",
    "            if s in count_emails_per_month.keys():\n",
    "                count_emails_per_month[s] += 1\n",
    "            else:\n",
    "                count_emails_per_month[s] = 1\n",
    "#     break    \n",
    "#     print(count_emails_per_month)\n",
    "    fig, ax = plt.subplots(figsize=(25,5))\n",
    "    ax.set_title(grp + \": Emails per Year\")\n",
    "    ax.bar(range(len(count_emails_per_month)), list(count_emails_per_month.values()), align='center')\n",
    "    ax.set_xticks(np.arange(len(count_emails_per_month)))\n",
    "    ax.set_xticklabels(list(count_emails_per_month.keys()), rotation=\"vertical\",\n",
    "                      fontdict={'fontsize': 10})\n",
    "    # plt.setp( ax.xaxis.get_minorticklabels(), rotation=70 )\n",
    "    plt.show()"
   ]
  },
  {
   "cell_type": "markdown",
   "id": "10c802fe",
   "metadata": {},
   "source": [
    "# Creation of network"
   ]
  },
  {
   "cell_type": "code",
   "execution_count": 28,
   "id": "a90cdeee",
   "metadata": {},
   "outputs": [
    {
     "name": "stderr",
     "output_type": "stream",
     "text": [
      "100%|██████████| 57966/57966 [02:30<00:00, 384.44it/s]\n"
     ]
    }
   ],
   "source": [
    "connection = dict()\n",
    "for i in tqdm(range(len(df))):\n",
    "    mid = df.iloc[i][\"headers.Message-ID\"]\n",
    "    replies = df[df[\"headers.In-Reply-To\"] == mid]\n",
    "    if df.iloc[i]['name'] in connection.keys():\n",
    "        connection[df.iloc[i]['name']] = connection[df.iloc[i]['name']].union(set([ replies.iloc[j]['name'] for j in range(len(replies))]))\n",
    "    else:\n",
    "        connection[df.iloc[i]['name']] = set([ replies.iloc[j]['name'] for j in range(len(replies)) ])"
   ]
  },
  {
   "cell_type": "code",
   "execution_count": 29,
   "id": "46e733df",
   "metadata": {
    "scrolled": false
   },
   "outputs": [],
   "source": [
    "# connection\n"
   ]
  },
  {
   "cell_type": "code",
   "execution_count": 30,
   "id": "77260124",
   "metadata": {},
   "outputs": [],
   "source": [
    "network = nx.Graph()\n",
    "for k,v in connection.items():\n",
    "    for u in list(v):\n",
    "        network.add_edge(k,u)"
   ]
  },
  {
   "cell_type": "code",
   "execution_count": 31,
   "id": "109d69e6",
   "metadata": {},
   "outputs": [
    {
     "data": {
      "image/png": "[encoded data removed]",
      "text/plain": [
       "<Figure size 432x288 with 1 Axes>"
      ]
     },
     "metadata": {},
     "output_type": "display_data"
    }
   ],
   "source": [
    "##### # nx.draw_networkx(network, with_labels=False, node_size=1500, node_color=\"skyblue\")\n",
    "# plt.title(\"random_layout\")\n",
    "# plt.show()\n",
    " \n",
    "\n",
    "nx.random_layout(network)\n",
    "nx.draw_networkx(network, with_labels=False, node_size=100)\n"
   ]
  },
  {
   "cell_type": "code",
   "execution_count": 32,
   "id": "3a623488",
   "metadata": {},
   "outputs": [],
   "source": [
    "sub_graph = (network.subgraph(c) for c in nx.connected_components(network))\n",
    "sub_graph = list(sub_graph)\n"
   ]
  },
  {
   "cell_type": "code",
   "execution_count": 33,
   "id": "b513ef99",
   "metadata": {},
   "outputs": [
    {
     "data": {
      "image/png": "[encoded data removed]",
      "text/plain": [
       "<Figure size 432x288 with 1 Axes>"
      ]
     },
     "metadata": {},
     "output_type": "display_data"
    }
   ],
   "source": [
    "sub_graph\n",
    "nx.draw_networkx(sub_graph[0], with_labels=False)"
   ]
  },
  {
   "cell_type": "markdown",
   "id": "cb7828b4",
   "metadata": {},
   "source": [
    "# Network connectivity"
   ]
  },
  {
   "cell_type": "markdown",
   "id": "8c3fea62",
   "metadata": {},
   "source": [
    "Now the network is made, we can now explore more about a particular node in the network.\n",
    "\n",
    "1) Degree -\n",
    "Degree of a node defines the number of connections a node has. NetworkX has the function degree which we can use to determine the degree of a node in the network.\n",
    "\n",
    "2) Clustering Coefficient -\n",
    "It is observed that people who share connections in a social network tend to form associations. In other words, there is a tendency in a social network to form clusters. We can determine the clusters of a node, Local Clustering Coefficient, which is the fraction of pairs of the node's friends that are connected with each other using nx.clustering(Graph, Node) function.\n",
    "\n"
   ]
  },
  {
   "cell_type": "code",
   "execution_count": 34,
   "id": "4d2f6435",
   "metadata": {},
   "outputs": [],
   "source": [
    "\"\"\"\n",
    "Degree of a node defines the number of connections a node has\n",
    "\"\"\"\n",
    "degree = nx.degree(network)\n",
    "#degree"
   ]
  },
  {
   "cell_type": "code",
   "execution_count": 35,
   "id": "55eb046a",
   "metadata": {},
   "outputs": [],
   "source": [
    "\n",
    "degree_values = sorted([v for k, v in degree], reverse=True)\n",
    "#degree_values\n"
   ]
  },
  {
   "cell_type": "code",
   "execution_count": 36,
   "id": "5f3de8d0",
   "metadata": {},
   "outputs": [
    {
     "data": {
      "text/plain": [
       "429"
      ]
     },
     "execution_count": 36,
     "metadata": {},
     "output_type": "execute_result"
    }
   ],
   "source": [
    "max(degree_values)"
   ]
  },
  {
   "cell_type": "code",
   "execution_count": 37,
   "id": "0199f189",
   "metadata": {},
   "outputs": [],
   "source": [
    "\"\"\"\n",
    "clustering coefficient is a measure of the degree to which nodes in a graph tend to cluster together\n",
    "\"\"\"\n",
    "clustering_coefficient = nx.clustering(network)\n",
    "#clustering_coefficient\n",
    "\n"
   ]
  },
  {
   "cell_type": "code",
   "execution_count": 38,
   "id": "2a00cac9",
   "metadata": {},
   "outputs": [],
   "source": [
    "# \"\"\"\n",
    "# Find the distance of a node from every other node in the network using breadth-first search algorithm\n",
    "# \"\"\"\n",
    "# T =nx.bfs_tree(network, \"doug\")\n"
   ]
  },
  {
   "cell_type": "code",
   "execution_count": 39,
   "id": "22557aed",
   "metadata": {},
   "outputs": [],
   "source": [
    "# # nx.random_layout(T)\n",
    "# pos=nx.fruchterman_reingold_layout(T)\n",
    "# nx.draw_networkx(T, pos=pos, with_labels=False)"
   ]
  },
  {
   "cell_type": "markdown",
   "id": "a67fa16a",
   "metadata": {},
   "source": [
    "# Network Influencers"
   ]
  },
  {
   "cell_type": "markdown",
   "id": "f38cbfed",
   "metadata": {},
   "source": [
    "In this section, we will learn how to find the most important nodes (individuals) in the network. Parameters called centrality measures\n",
    "helps us in identifying popularity, most liked, and biggest influencers within the network.\n",
    "\n",
    "1) Degree Centrality - \n",
    "Degree centrality is a measure of the number of connections a particular node has in the network. It is based on the fact that important nodes have many connections. NetworkX has the function degree_centrality() to calculate the degree centrality of all the nodes of a network.\n",
    "\n",
    "2) Eigenvector Centrality -\n",
    "It is not just how many individuals one is connected to, but the type of people one is connected with that can decide the importance of a node.\n",
    "It decides that a node is important if it is connected to other important nodes. We can use the eigenvector_centrality() function of NetworkX to calculate eigenvector centrality of all the nodes in a network.\n",
    "\n",
    "3) Betweenness Centrality -\n",
    "The Betweenness Centrality is the centrality of control. It represents the frequency at which a point occurs on the shortest paths that connected pair of points. It quantifies how many times a particular node comes in the shortest chosen path between two other nodes.\n",
    "Networkx has the function betweenness_centrality() to measure it for the network.\n",
    "\n",
    "\n"
   ]
  },
  {
   "cell_type": "code",
   "execution_count": 40,
   "id": "8b7beccb",
   "metadata": {},
   "outputs": [],
   "source": [
    "deg_cent = nx.degree_centrality(network)\n",
    "#deg_cent"
   ]
  },
  {
   "cell_type": "code",
   "execution_count": 41,
   "id": "cae3469b",
   "metadata": {},
   "outputs": [],
   "source": [
    "eig_cent = nx.eigenvector_centrality(network)\n",
    "#eig_cent"
   ]
  },
  {
   "cell_type": "code",
   "execution_count": 42,
   "id": "0b3963c8",
   "metadata": {},
   "outputs": [],
   "source": [
    "betwn_cent = nx.betweenness_centrality(network)\n",
    "#betwn_cent"
   ]
  },
  {
   "cell_type": "markdown",
   "id": "d8ce3d74",
   "metadata": {},
   "source": [
    "Below graph is to visualize the network such that the node color varies with Degree and node size with Betweenness Centrality. "
   ]
  },
  {
   "cell_type": "code",
   "execution_count": 43,
   "id": "b273fcc4",
   "metadata": {},
   "outputs": [
    {
     "data": {
      "text/plain": [
       "'\\nWe can also visualize the network such that the node color varies with Degree and node size with Betweenness Centrality. \\n'"
      ]
     },
     "execution_count": 43,
     "metadata": {},
     "output_type": "execute_result"
    }
   ],
   "source": [
    "\"\"\"\n",
    "We can also visualize the network such that the node color varies with Degree and node size with Betweenness Centrality. \n",
    "\"\"\"\n",
    "# pos=nx.random_layout(network)\n",
    "# betCent = nx.betweenness_centrality(network, normalized=True, endpoints=True)\n",
    "# node_color = [20000.0 * network.degree(v) for v in network]\n",
    "# node_size =  [v * 10000 for v in betCent.values()]\n",
    "# plt.figure(figsize=(25,25))\n",
    "# nx.draw_networkx(network, pos=pos, with_labels=False,\n",
    "#                  node_color=node_color,\n",
    "#                  node_size=node_size )\n",
    "# plt.axis('off')"
   ]
  },
  {
   "cell_type": "code",
   "execution_count": 44,
   "id": "dcf46e45",
   "metadata": {},
   "outputs": [
    {
     "data": {
      "text/plain": [
       "['mnot', 'martin.thomson', 'julian.reschke', 'w', 'harald']"
      ]
     },
     "execution_count": 44,
     "metadata": {},
     "output_type": "execute_result"
    }
   ],
   "source": [
    "sorted(deg_cent, key=deg_cent.get, reverse=True)[:5]\n"
   ]
  },
  {
   "cell_type": "code",
   "execution_count": 45,
   "id": "a20bc6dc",
   "metadata": {},
   "outputs": [
    {
     "data": {
      "text/plain": [
       "['martin.thomson', 'mnot', 'julian.reschke', 'ekr', 'internet-drafts']"
      ]
     },
     "execution_count": 45,
     "metadata": {},
     "output_type": "execute_result"
    }
   ],
   "source": [
    " sorted(eig_cent, key=eig_cent.get, reverse=True)[:5]"
   ]
  },
  {
   "cell_type": "code",
   "execution_count": 46,
   "id": "3ab51d49",
   "metadata": {},
   "outputs": [
    {
     "data": {
      "text/plain": [
       "['mnot', 'julian.reschke', 'martin.thomson', 'internet-drafts', 'w']"
      ]
     },
     "execution_count": 46,
     "metadata": {},
     "output_type": "execute_result"
    }
   ],
   "source": [
    "sorted(betwn_cent, key=betwn_cent.get, reverse=True)[:5]"
   ]
  },
  {
   "cell_type": "code",
   "execution_count": 47,
   "id": "14931d4e",
   "metadata": {},
   "outputs": [],
   "source": [
    "data = [['touch', 'michael.scharf', 'internet-drafts', 'mallman', 'ycheng'], ['touch', 'michael.scharf', 'internet-drafts', 'ycheng', 'mallman'], ['touch', 'internet-drafts', 'michael.scharf', 'cyrus', 'mallman']]"
   ]
  },
  {
   "cell_type": "code",
   "execution_count": 48,
   "id": "9321a0b8",
   "metadata": {},
   "outputs": [
    {
     "data": {
      "text/html": [
       "<div>\n",
       "<style scoped>\n",
       "    .dataframe tbody tr th:only-of-type {\n",
       "        vertical-align: middle;\n",
       "    }\n",
       "\n",
       "    .dataframe tbody tr th {\n",
       "        vertical-align: top;\n",
       "    }\n",
       "\n",
       "    .dataframe thead th {\n",
       "        text-align: right;\n",
       "    }\n",
       "</style>\n",
       "<table border=\"1\" class=\"dataframe\">\n",
       "  <thead>\n",
       "    <tr style=\"text-align: right;\">\n",
       "      <th></th>\n",
       "      <th>Degree_cent</th>\n",
       "      <th>Eig_cent</th>\n",
       "      <th>Between_cent</th>\n",
       "    </tr>\n",
       "  </thead>\n",
       "  <tbody>\n",
       "    <tr>\n",
       "      <th>0</th>\n",
       "      <td>touch</td>\n",
       "      <td>touch</td>\n",
       "      <td>touch</td>\n",
       "    </tr>\n",
       "    <tr>\n",
       "      <th>1</th>\n",
       "      <td>michael.scharf</td>\n",
       "      <td>michael.scharf</td>\n",
       "      <td>internet-drafts</td>\n",
       "    </tr>\n",
       "    <tr>\n",
       "      <th>2</th>\n",
       "      <td>internet-drafts</td>\n",
       "      <td>internet-drafts</td>\n",
       "      <td>michael.scharf</td>\n",
       "    </tr>\n",
       "    <tr>\n",
       "      <th>3</th>\n",
       "      <td>mallman</td>\n",
       "      <td>ycheng</td>\n",
       "      <td>cyrus</td>\n",
       "    </tr>\n",
       "    <tr>\n",
       "      <th>4</th>\n",
       "      <td>ycheng</td>\n",
       "      <td>mallman</td>\n",
       "      <td>mallman</td>\n",
       "    </tr>\n",
       "  </tbody>\n",
       "</table>\n",
       "</div>"
      ],
      "text/plain": [
       "       Degree_cent         Eig_cent     Between_cent\n",
       "0            touch            touch            touch\n",
       "1   michael.scharf   michael.scharf  internet-drafts\n",
       "2  internet-drafts  internet-drafts   michael.scharf\n",
       "3          mallman           ycheng            cyrus\n",
       "4           ycheng          mallman          mallman"
      ]
     },
     "execution_count": 48,
     "metadata": {},
     "output_type": "execute_result"
    }
   ],
   "source": [
    "# data.transpose()\n",
    "df_new = pd.DataFrame(data)\n",
    "df_new = df_new.transpose()\n",
    "df_new.columns=[\"Degree_cent\", \"Eig_cent\", \"Between_cent\"]\n",
    "df_new\n",
    "# df_new = pd.DataFrame(data_transposed, columns=[\"Degree_cent\", \"Eig_cent\", \"Between_cent\"])\n"
   ]
  },
  {
   "cell_type": "code",
   "execution_count": 49,
   "id": "71a5d05b",
   "metadata": {},
   "outputs": [
    {
     "data": {
      "image/png": "[encoded data removed]",
      "text/plain": [
       "<Figure size 432x288 with 1 Axes>"
      ]
     },
     "metadata": {
      "needs_background": "light"
     },
     "output_type": "display_data"
    }
   ],
   "source": [
    "fig, ax = plt.subplots()\n",
    "ax.axis('off')\n",
    "ax.axis('tight')\n",
    "t= ax.table(cellText=df_new.values, colWidths = [0.3]*len(df_new.columns), colLabels=df_new.columns, loc='center')\n",
    "t.auto_set_font_size(False) \n",
    "t.set_fontsize(10)\n",
    "fig.tight_layout()\n",
    "plt.show()"
   ]
  },
  {
   "cell_type": "markdown",
   "id": "a9daa7e0",
   "metadata": {},
   "source": [
    "# Topic modelling"
   ]
  },
  {
   "cell_type": "code",
   "execution_count": 50,
   "id": "0fbd03bc",
   "metadata": {},
   "outputs": [],
   "source": [
    "\"\"\"\n",
    "Convert sentence to words\n",
    "\"\"\"\n",
    "def sent_to_words(sentences):\n",
    "    for sent in sentences:\n",
    "        try:\n",
    "            sent = re.sub('\\S*@\\S*\\s?', '', sent)  # remove emails\n",
    "            sent = re.sub('\\s+', ' ', sent)  # remove newline chars\n",
    "            sent = re.sub(\"\\'\", \"\", sent)  # remove single quotes\n",
    "            sent = gensim.utils.simple_preprocess(str(sent), deacc=True) \n",
    "        except:\n",
    "            print(sent)\n",
    "            continue\n",
    "        yield(sent)  \n",
    "\n",
    "# Convert to list\n",
    "data = df[\"headers.Subject\"].values.tolist()\n",
    "data_words = list(sent_to_words(data))\n"
   ]
  },
  {
   "cell_type": "code",
   "execution_count": 51,
   "id": "115cfa72",
   "metadata": {},
   "outputs": [],
   "source": [
    "stopwords_list.extend(['from', 'subject', 're', 'edu', 'use', 'not', 'would', 'say', 'could', '_', 'be', 'know', 'good', 'go', 'get', 'do', 'done', 'try', 'many', 'some', 'nice', 'thank', 'think', 'see', 'rather', 'easy', 'easily', 'lot', 'lack', 'make', 'want', 'seem', 'run', 'need', 'even', 'right', 'line', 'even', 'also', 'may', 'take', 'come'])\n",
    "\n",
    "# Build the bigram and trigram models\n",
    "bigram = gensim.models.Phrases(data_words, min_count=5, threshold=100) # higher threshold fewer phrases.\n",
    "trigram = gensim.models.Phrases(bigram[data_words], threshold=100)  \n",
    "bigram_mod = gensim.models.phrases.Phraser(bigram)\n",
    "trigram_mod = gensim.models.phrases.Phraser(trigram)\n",
    "\n",
    "# !python3 -m spacy download en  # run in terminal once\n",
    "def process_words(texts, stopwords_list=stopwords_list, allowed_postags=['NOUN', 'ADJ', 'VERB', 'ADV']):\n",
    "    \"\"\"Remove Stopwords, Form Bigrams, Trigrams and Lemmatization\"\"\"\n",
    "    texts = [[word for word in simple_preprocess(str(doc)) if word not in stopwords_list] for doc in texts]\n",
    "    texts_out = []\n",
    "    nlp = spacy.load(\"en_core_web_sm\")\n",
    "    for sent in texts:\n",
    "        doc = nlp(\" \".join(sent)) \n",
    "        texts_out.append([token.lemma_ for token in doc if token.pos_ in allowed_postags])\n",
    "    # remove stopwords once more after lemmatization\n",
    "    texts_out = [[word for word in simple_preprocess(str(doc)) if word not in stopwords_list] for doc in texts_out]    \n",
    "    return texts_out\n",
    "\n",
    "data_ready = process_words(data_words)  # processed Text Data!"
   ]
  },
  {
   "cell_type": "code",
   "execution_count": 52,
   "id": "cb37e77e",
   "metadata": {},
   "outputs": [
    {
     "name": "stdout",
     "output_type": "stream",
     "text": [
      "4826 ['re']\n",
      "4829 ['re']\n",
      "4833 ['re']\n",
      "4836 ['re']\n",
      "4838 ['re']\n",
      "4857 ['re']\n",
      "4859 ['re']\n",
      "4860 ['re']\n",
      "4890 ['re']\n",
      "5083 ['re']\n",
      "5087 ['re']\n",
      "5088 ['re']\n",
      "5089 ['re']\n",
      "5090 ['re']\n",
      "5091 ['re']\n",
      "5095 ['re']\n",
      "5107 ['re']\n",
      "5130 ['re']\n",
      "5131 ['re']\n",
      "5132 ['re']\n",
      "5136 ['re']\n",
      "5138 ['re']\n",
      "5142 ['re']\n",
      "5143 ['re']\n",
      "5145 ['re']\n",
      "5146 ['re']\n",
      "5147 ['re']\n",
      "5149 ['re']\n",
      "5150 ['re']\n",
      "7533 ['http']\n",
      "7535 ['re', 'http']\n",
      "7536 ['re', 'http']\n",
      "7537 ['re', 'http']\n",
      "7538 ['re', 'http']\n",
      "7539 ['re', 'http']\n",
      "7540 ['re', 'http']\n",
      "7542 ['re', 'http']\n",
      "7543 ['re', 'http']\n",
      "7544 ['re', 'http']\n",
      "7545 ['re', 'http']\n",
      "7546 ['re', 'http']\n",
      "7547 ['re', 'http']\n",
      "7548 ['re', 'http']\n",
      "7549 ['re', 'http']\n",
      "7552 ['re', 'http']\n",
      "7553 ['re', 'http']\n",
      "7606 ['re', 'http']\n",
      "7608 ['re', 'http']\n",
      "7974 ['re', 'http']\n",
      "11367 ['the', 'use', 'of', 'http']\n",
      "11368 ['re', 'the', 'use', 'of', 'http']\n",
      "12472 ['cr', 'cr', 'lf']\n",
      "12474 ['re', 'cr', 'cr', 'lf']\n",
      "12680 ['re', 'cr', 'cr', 'lf']\n",
      "13984 ['may', 'should']\n",
      "14019 ['use', 'of', 'may', 'and', 'should']\n",
      "14021 ['re', 'use', 'of', 'may', 'and', 'should']\n",
      "14029 ['re', 'use', 'of', 'may', 'and', 'should']\n",
      "14061 []\n",
      "14062 ['re', 'use', 'of', 'may', 'and', 'should']\n",
      "14066 ['re', 'use', 'of', 'may', 'and', 'should']\n",
      "14069 ['re', 'use', 'of', 'may', 'and', 'should']\n",
      "14070 ['re', 'use', 'of', 'may', 'and', 'should']\n",
      "14094 ['re', 'use', 'of', 'may', 'and', 'should']\n",
      "14095 ['re', 'use', 'of', 'may', 'and', 'should']\n",
      "14096 ['re', 'use', 'of', 'may', 'and', 'should']\n",
      "14099 ['re', 'use', 'of', 'may', 'and', 'should']\n",
      "17257 ['invalid_stream', 'and']\n",
      "17258 ['re', 'invalid_stream', 'and']\n",
      "17261 ['re', 'invalid_stream', 'and']\n",
      "17265 ['re', 'invalid_stream', 'and']\n",
      "17268 ['re', 'invalid_stream', 'and']\n",
      "19389 ['nice']\n",
      "19390 ['re', 'nice']\n",
      "19391 ['re', 'nice']\n",
      "19392 ['re', 'nice']\n",
      "19393 ['re', 'nice']\n",
      "19394 ['re', 'nice']\n",
      "19395 ['re', 'nice']\n",
      "19396 ['re', 'nice']\n",
      "19397 ['re', 'nice']\n",
      "19398 ['re', 'nice']\n",
      "19404 ['re', 'nice']\n",
      "19406 ['re', 'nice']\n",
      "19407 ['re', 'nice']\n",
      "19422 []\n",
      "19424 ['re']\n",
      "19425 ['re']\n",
      "21795 ['http']\n",
      "24440 ['done']\n",
      "24451 ['re', 'done']\n",
      "27101 ['http']\n",
      "27132 ['re', 'http']\n",
      "27882 []\n",
      "29526 []\n",
      "29866 []\n",
      "29958 ['srv', 'in', 'http']\n",
      "29960 ['re', 'srv', 'in', 'http']\n",
      "30636 []\n",
      "31242 ['hello']\n",
      "31244 ['hello']\n",
      "32143 ['hello']\n",
      "33708 ['hello']\n",
      "34390 ['re']\n",
      "34723 ['hello']\n",
      "35948 ['srv', 'and', 'http']\n",
      "35958 ['re', 'srv', 'and', 'http']\n"
     ]
    },
    {
     "data": {
      "text/plain": [
       "False"
      ]
     },
     "execution_count": 52,
     "metadata": {},
     "output_type": "execute_result"
    }
   ],
   "source": [
    "for i,x in enumerate(data_ready):\n",
    "    if len(x) == 0:\n",
    "        print(i,data_words[i])\n",
    "        \n",
    "'tcp' in stopwords_list"
   ]
  },
  {
   "cell_type": "code",
   "execution_count": 53,
   "id": "498bb231",
   "metadata": {},
   "outputs": [],
   "source": [
    "id2word = Dictionary(data_ready)\n",
    "len(id2word)\n",
    "\n",
    "corpus = [id2word.doc2bow(d) for d in data_ready]\n"
   ]
  },
  {
   "cell_type": "code",
   "execution_count": 54,
   "id": "e1447405",
   "metadata": {},
   "outputs": [
    {
     "data": {
      "text/plain": [
       "[[(0, 2),\n",
       "  (1, 1),\n",
       "  (2, 1),\n",
       "  (3, 1),\n",
       "  (4, 1),\n",
       "  (5, 1),\n",
       "  (6, 1),\n",
       "  (7, 1),\n",
       "  (8, 1),\n",
       "  (9, 1)]]"
      ]
     },
     "execution_count": 54,
     "metadata": {},
     "output_type": "execute_result"
    }
   ],
   "source": [
    "corpus[:1]"
   ]
  },
  {
   "cell_type": "code",
   "execution_count": 55,
   "id": "432f02b9",
   "metadata": {},
   "outputs": [
    {
     "data": {
      "text/plain": [
       "'delivery'"
      ]
     },
     "execution_count": 55,
     "metadata": {},
     "output_type": "execute_result"
    }
   ],
   "source": [
    "id2word[3]"
   ]
  },
  {
   "cell_type": "code",
   "execution_count": 56,
   "id": "8c5b903f",
   "metadata": {},
   "outputs": [],
   "source": [
    "models = []\n",
    "perplexities = []\n",
    "coherences = []\n",
    "# topics = [20, 100, 200]\n",
    "\n",
    "lda_model = LdaMulticore(corpus=corpus,\n",
    "                       id2word=id2word,\n",
    "                       num_topics=20, \n",
    "                       random_state=100,\n",
    "                       chunksize=100,\n",
    "                       passes=5,\n",
    "                       alpha='symmetric',\n",
    "                       iterations=100,\n",
    "                       per_word_topics=True,\n",
    "                       workers=5)\n",
    "models.append(lda_model)\n",
    "perplexities.append(lda_model.log_perplexity(corpus))\n",
    "coherence_model = CoherenceModel(model=lda_model, texts=data_ready, dictionary=id2word, coherence='c_v')\n",
    "coherences.append(coherence_model.get_coherence())"
   ]
  },
  {
   "cell_type": "code",
   "execution_count": 57,
   "id": "aee43f3b",
   "metadata": {},
   "outputs": [],
   "source": [
    "topics =[20,100,200]"
   ]
  },
  {
   "cell_type": "code",
   "execution_count": 58,
   "id": "baa904c2",
   "metadata": {},
   "outputs": [
    {
     "name": "stdout",
     "output_type": "stream",
     "text": [
      "[(0, '0.371*\"group\" + 0.166*\"working\" + 0.132*\"meeting\" + 0.114*\"ietf\" + 0.092*\"draft\" + 0.037*\"adopt\" + 0.033*\"last\" + 0.004*\"july\" + 0.003*\"quebec\" + 0.002*\"city\"'), (1, '0.289*\"discuss\" + 0.209*\"datum\" + 0.085*\"list\" + 0.085*\"name\" + 0.074*\"trust\" + 0.066*\"design\" + 0.046*\"submit\" + 0.024*\"model\" + 0.017*\"mailing\" + 0.013*\"creation\"'), (2, '0.281*\"digest\" + 0.170*\"early\" + 0.148*\"push\" + 0.107*\"continuation\" + 0.064*\"problem\" + 0.061*\"relate\" + 0.046*\"charter\" + 0.022*\"date\" + 0.014*\"june\" + 0.013*\"pull\"'), (3, '0.473*\"cdni\" + 0.302*\"case\" + 0.065*\"next\" + 0.049*\"requirement\" + 0.017*\"step\" + 0.008*\"scenario\" + 0.004*\"replace\" + 0.003*\"incorporate\" + 0.002*\"draft\" + 0.002*\"publisher\"'), (4, '0.236*\"consensus\" + 0.160*\"requirement\" + 0.110*\"forward\" + 0.104*\"cdn\" + 0.066*\"sign\" + 0.063*\"loop\" + 0.042*\"extend\" + 0.036*\"side\" + 0.035*\"language\" + 0.034*\"level\"'), (5, '0.736*\"request\" + 0.113*\"limit\" + 0.036*\"definition\" + 0.019*\"available\" + 0.010*\"route\" + 0.007*\"week\" + 0.002*\"agree\" + 0.001*\"iterative\" + 0.000*\"cdni\" + 0.000*\"header\"'), (6, '0.345*\"review\" + 0.271*\"draft\" + 0.224*\"ietf\" + 0.018*\"progress\" + 0.016*\"interface\" + 0.014*\"metadata\" + 0.014*\"extensibility\" + 0.012*\"informal\" + 0.012*\"trigger\" + 0.011*\"note\"'), (7, '0.424*\"question\" + 0.214*\"session\" + 0.130*\"redirect\" + 0.073*\"additional\" + 0.057*\"schedule\" + 0.017*\"framework\" + 0.007*\"delegation\" + 0.001*\"advanced\" + 0.000*\"rtcweb\" + 0.000*\"client\"'), (8, '0.298*\"issue\" + 0.284*\"proposal\" + 0.100*\"specification\" + 0.068*\"interim\" + 0.060*\"reference\" + 0.048*\"regard\" + 0.038*\"final\" + 0.036*\"base\" + 0.027*\"app\" + 0.001*\"system\"'), (9, '0.313*\"non\" + 0.224*\"redirection\" + 0.107*\"information\" + 0.055*\"delivery\" + 0.050*\"network\" + 0.029*\"routing\" + 0.028*\"wg\" + 0.011*\"tie\" + 0.009*\"slot\" + 0.007*\"interconnection\"'), (10, '0.496*\"service\" + 0.220*\"thought\" + 0.052*\"dynamic\" + 0.037*\"experiment\" + 0.026*\"milestone\" + 0.018*\"pre\" + 0.003*\"enforce\" + 0.002*\"upstream\" + 0.001*\"provider\" + 0.000*\"rtcweb\"'), (11, '0.277*\"new\" + 0.194*\"version\" + 0.190*\"draft\" + 0.176*\"notification\" + 0.143*\"txt\" + 0.008*\"high\" + 0.001*\"intra\" + 0.000*\"tr\" + 0.000*\"framework\" + 0.000*\"davie\"'), (12, '0.765*\"draft\" + 0.115*\"document\" + 0.036*\"statement\" + 0.026*\"terminology\" + 0.005*\"space\" + 0.000*\"rtcweb\" + 0.000*\"adoption\" + 0.000*\"header\" + 0.000*\"cdni\" + 0.000*\"client\"'), (13, '0.290*\"comment\" + 0.266*\"draft\" + 0.235*\"ietf\" + 0.081*\"semantic\" + 0.070*\"editorial\" + 0.008*\"log\" + 0.007*\"prefix\" + 0.007*\"capability\" + 0.004*\"explanation\" + 0.004*\"footprint\"'), (14, '0.130*\"agenda\" + 0.100*\"fyi\" + 0.080*\"internet\" + 0.077*\"post\" + 0.071*\"minute\" + 0.070*\"info\" + 0.058*\"streaming\" + 0.055*\"deployment\" + 0.047*\"core\" + 0.045*\"example\"'), (15, '0.381*\"rfc\" + 0.225*\"status\" + 0.181*\"fwd\" + 0.115*\"update\" + 0.024*\"resolution\" + 0.019*\"relationship\" + 0.011*\"adaptive\" + 0.007*\"meet\" + 0.005*\"informational\" + 0.003*\"vancouver\"'), (16, '0.328*\"draft\" + 0.327*\"ietf\" + 0.172*\"txt\" + 0.161*\"action\" + 0.000*\"cdni\" + 0.000*\"httpbis\" + 0.000*\"httpbi\" + 0.000*\"rtcweb\" + 0.000*\"header\" + 0.000*\"structure\"'), (17, '0.500*\"protocol\" + 0.263*\"propose\" + 0.089*\"text\" + 0.040*\"first\" + 0.035*\"secure\" + 0.011*\"label\" + 0.004*\"naming\" + 0.002*\"conclusion\" + 0.000*\"portion\" + 0.000*\"draft\"'), (18, '0.818*\"http\" + 0.118*\"content\" + 0.041*\"dns\" + 0.008*\"scope\" + 0.001*\"thursday\" + 0.000*\"acquisition\" + 0.000*\"status\" + 0.000*\"model\" + 0.000*\"header\" + 0.000*\"httpbi\"'), (19, '0.457*\"call\" + 0.195*\"last\" + 0.120*\"control\" + 0.118*\"work\" + 0.055*\"extension\" + 0.009*\"policy\" + 0.008*\"draft\" + 0.007*\"selection\" + 0.007*\"detail\" + 0.004*\"second\"')]\n"
     ]
    }
   ],
   "source": [
    "print(lda_model.print_topics())\n",
    "# doc_lda = lda_model[corpus]"
   ]
  },
  {
   "cell_type": "code",
   "execution_count": 59,
   "id": "68d3d0ca",
   "metadata": {},
   "outputs": [
    {
     "name": "stdout",
     "output_type": "stream",
     "text": [
      "20 -23.005634986181033 0.4988451754816329\n"
     ]
    }
   ],
   "source": [
    "print(topics[0], perplexities[0], coherences[0])"
   ]
  },
  {
   "cell_type": "code",
   "execution_count": 60,
   "id": "dac9abf7",
   "metadata": {},
   "outputs": [
    {
     "name": "stderr",
     "output_type": "stream",
     "text": [
      "57966it [01:45, 550.92it/s]\n"
     ]
    },
    {
     "data": {
      "text/html": [
       "<div>\n",
       "<style scoped>\n",
       "    .dataframe tbody tr th:only-of-type {\n",
       "        vertical-align: middle;\n",
       "    }\n",
       "\n",
       "    .dataframe tbody tr th {\n",
       "        vertical-align: top;\n",
       "    }\n",
       "\n",
       "    .dataframe thead th {\n",
       "        text-align: right;\n",
       "    }\n",
       "</style>\n",
       "<table border=\"1\" class=\"dataframe\">\n",
       "  <thead>\n",
       "    <tr style=\"text-align: right;\">\n",
       "      <th></th>\n",
       "      <th>Document_No</th>\n",
       "      <th>Dominant_Topic</th>\n",
       "      <th>Topic_Perc_Contrib</th>\n",
       "      <th>Keywords</th>\n",
       "      <th>Text</th>\n",
       "    </tr>\n",
       "  </thead>\n",
       "  <tbody>\n",
       "    <tr>\n",
       "      <th>0</th>\n",
       "      <td>0</td>\n",
       "      <td>9.0</td>\n",
       "      <td>0.4224</td>\n",
       "      <td>non, redirection, information, delivery, netwo...</td>\n",
       "      <td>[cdni, new, non, mailing, list, cdni, intercon...</td>\n",
       "    </tr>\n",
       "    <tr>\n",
       "      <th>1</th>\n",
       "      <td>1</td>\n",
       "      <td>1.0</td>\n",
       "      <td>0.4722</td>\n",
       "      <td>discuss, datum, list, name, trust, design, sub...</td>\n",
       "      <td>[cdni, cdn, interconnect, bof, prague, request...</td>\n",
       "    </tr>\n",
       "    <tr>\n",
       "      <th>2</th>\n",
       "      <td>2</td>\n",
       "      <td>13.0</td>\n",
       "      <td>0.2100</td>\n",
       "      <td>comment, draft, ietf, semantic, editorial, log...</td>\n",
       "      <td>[cdni, comment, problem, statement]</td>\n",
       "    </tr>\n",
       "    <tr>\n",
       "      <th>3</th>\n",
       "      <td>3</td>\n",
       "      <td>13.0</td>\n",
       "      <td>0.2100</td>\n",
       "      <td>comment, draft, ietf, semantic, editorial, log...</td>\n",
       "      <td>[cdni, comment, problem, statement]</td>\n",
       "    </tr>\n",
       "    <tr>\n",
       "      <th>4</th>\n",
       "      <td>4</td>\n",
       "      <td>13.0</td>\n",
       "      <td>0.2100</td>\n",
       "      <td>comment, draft, ietf, semantic, editorial, log...</td>\n",
       "      <td>[cdni, comment, problem, statement]</td>\n",
       "    </tr>\n",
       "    <tr>\n",
       "      <th>5</th>\n",
       "      <td>5</td>\n",
       "      <td>1.0</td>\n",
       "      <td>0.4722</td>\n",
       "      <td>discuss, datum, list, name, trust, design, sub...</td>\n",
       "      <td>[cdni, cdn, interconnect, bof, prague, request...</td>\n",
       "    </tr>\n",
       "    <tr>\n",
       "      <th>6</th>\n",
       "      <td>6</td>\n",
       "      <td>13.0</td>\n",
       "      <td>0.2100</td>\n",
       "      <td>comment, draft, ietf, semantic, editorial, log...</td>\n",
       "      <td>[cdni, comment, problem, statement]</td>\n",
       "    </tr>\n",
       "    <tr>\n",
       "      <th>7</th>\n",
       "      <td>7</td>\n",
       "      <td>19.0</td>\n",
       "      <td>0.3418</td>\n",
       "      <td>call, last, control, work, extension, policy, ...</td>\n",
       "      <td>[cdni, cdn, interconnect, prior, work]</td>\n",
       "    </tr>\n",
       "    <tr>\n",
       "      <th>8</th>\n",
       "      <td>8</td>\n",
       "      <td>13.0</td>\n",
       "      <td>0.2100</td>\n",
       "      <td>comment, draft, ietf, semantic, editorial, log...</td>\n",
       "      <td>[cdni, comment, problem, statement]</td>\n",
       "    </tr>\n",
       "    <tr>\n",
       "      <th>9</th>\n",
       "      <td>9</td>\n",
       "      <td>13.0</td>\n",
       "      <td>0.2100</td>\n",
       "      <td>comment, draft, ietf, semantic, editorial, log...</td>\n",
       "      <td>[cdni, comment, problem, statement]</td>\n",
       "    </tr>\n",
       "    <tr>\n",
       "      <th>10</th>\n",
       "      <td>10</td>\n",
       "      <td>13.0</td>\n",
       "      <td>0.2100</td>\n",
       "      <td>comment, draft, ietf, semantic, editorial, log...</td>\n",
       "      <td>[cdni, comment, problem, statement]</td>\n",
       "    </tr>\n",
       "    <tr>\n",
       "      <th>11</th>\n",
       "      <td>11</td>\n",
       "      <td>14.0</td>\n",
       "      <td>0.2638</td>\n",
       "      <td>agenda, fyi, internet, post, minute, info, str...</td>\n",
       "      <td>[cdni, cdn, interconnect, bof, prague, scope]</td>\n",
       "    </tr>\n",
       "    <tr>\n",
       "      <th>12</th>\n",
       "      <td>12</td>\n",
       "      <td>13.0</td>\n",
       "      <td>0.2100</td>\n",
       "      <td>comment, draft, ietf, semantic, editorial, log...</td>\n",
       "      <td>[cdni, comment, problem, statement]</td>\n",
       "    </tr>\n",
       "    <tr>\n",
       "      <th>13</th>\n",
       "      <td>13</td>\n",
       "      <td>14.0</td>\n",
       "      <td>0.2637</td>\n",
       "      <td>agenda, fyi, internet, post, minute, info, str...</td>\n",
       "      <td>[cdni, cdn, interconnect, bof, prague, scope]</td>\n",
       "    </tr>\n",
       "    <tr>\n",
       "      <th>14</th>\n",
       "      <td>14</td>\n",
       "      <td>14.0</td>\n",
       "      <td>0.2634</td>\n",
       "      <td>agenda, fyi, internet, post, minute, info, str...</td>\n",
       "      <td>[cdni, cdn, interconnect, bof, prague, scope]</td>\n",
       "    </tr>\n",
       "    <tr>\n",
       "      <th>15</th>\n",
       "      <td>15</td>\n",
       "      <td>1.0</td>\n",
       "      <td>0.4537</td>\n",
       "      <td>discuss, datum, list, name, trust, design, sub...</td>\n",
       "      <td>[cdni, cdn, interconnect, bof, prague, sdo, de...</td>\n",
       "    </tr>\n",
       "    <tr>\n",
       "      <th>16</th>\n",
       "      <td>16</td>\n",
       "      <td>14.0</td>\n",
       "      <td>0.2637</td>\n",
       "      <td>agenda, fyi, internet, post, minute, info, str...</td>\n",
       "      <td>[cdni, cdn, interconnect, bof, prague, scope]</td>\n",
       "    </tr>\n",
       "    <tr>\n",
       "      <th>17</th>\n",
       "      <td>17</td>\n",
       "      <td>1.0</td>\n",
       "      <td>0.4537</td>\n",
       "      <td>discuss, datum, list, name, trust, design, sub...</td>\n",
       "      <td>[cdni, cdn, interconnect, bof, prague, sdo, de...</td>\n",
       "    </tr>\n",
       "    <tr>\n",
       "      <th>18</th>\n",
       "      <td>18</td>\n",
       "      <td>1.0</td>\n",
       "      <td>0.4537</td>\n",
       "      <td>discuss, datum, list, name, trust, design, sub...</td>\n",
       "      <td>[cdni, cdn, interconnect, bof, prague, sdo, de...</td>\n",
       "    </tr>\n",
       "    <tr>\n",
       "      <th>19</th>\n",
       "      <td>19</td>\n",
       "      <td>4.0</td>\n",
       "      <td>0.2130</td>\n",
       "      <td>consensus, requirement, forward, cdn, sign, lo...</td>\n",
       "      <td>[cdni, cdn, interconnect, bof, prague, require...</td>\n",
       "    </tr>\n",
       "  </tbody>\n",
       "</table>\n",
       "</div>"
      ],
      "text/plain": [
       "    Document_No  Dominant_Topic  Topic_Perc_Contrib  \\\n",
       "0             0             9.0              0.4224   \n",
       "1             1             1.0              0.4722   \n",
       "2             2            13.0              0.2100   \n",
       "3             3            13.0              0.2100   \n",
       "4             4            13.0              0.2100   \n",
       "5             5             1.0              0.4722   \n",
       "6             6            13.0              0.2100   \n",
       "7             7            19.0              0.3418   \n",
       "8             8            13.0              0.2100   \n",
       "9             9            13.0              0.2100   \n",
       "10           10            13.0              0.2100   \n",
       "11           11            14.0              0.2638   \n",
       "12           12            13.0              0.2100   \n",
       "13           13            14.0              0.2637   \n",
       "14           14            14.0              0.2634   \n",
       "15           15             1.0              0.4537   \n",
       "16           16            14.0              0.2637   \n",
       "17           17             1.0              0.4537   \n",
       "18           18             1.0              0.4537   \n",
       "19           19             4.0              0.2130   \n",
       "\n",
       "                                             Keywords  \\\n",
       "0   non, redirection, information, delivery, netwo...   \n",
       "1   discuss, datum, list, name, trust, design, sub...   \n",
       "2   comment, draft, ietf, semantic, editorial, log...   \n",
       "3   comment, draft, ietf, semantic, editorial, log...   \n",
       "4   comment, draft, ietf, semantic, editorial, log...   \n",
       "5   discuss, datum, list, name, trust, design, sub...   \n",
       "6   comment, draft, ietf, semantic, editorial, log...   \n",
       "7   call, last, control, work, extension, policy, ...   \n",
       "8   comment, draft, ietf, semantic, editorial, log...   \n",
       "9   comment, draft, ietf, semantic, editorial, log...   \n",
       "10  comment, draft, ietf, semantic, editorial, log...   \n",
       "11  agenda, fyi, internet, post, minute, info, str...   \n",
       "12  comment, draft, ietf, semantic, editorial, log...   \n",
       "13  agenda, fyi, internet, post, minute, info, str...   \n",
       "14  agenda, fyi, internet, post, minute, info, str...   \n",
       "15  discuss, datum, list, name, trust, design, sub...   \n",
       "16  agenda, fyi, internet, post, minute, info, str...   \n",
       "17  discuss, datum, list, name, trust, design, sub...   \n",
       "18  discuss, datum, list, name, trust, design, sub...   \n",
       "19  consensus, requirement, forward, cdn, sign, lo...   \n",
       "\n",
       "                                                 Text  \n",
       "0   [cdni, new, non, mailing, list, cdni, intercon...  \n",
       "1   [cdni, cdn, interconnect, bof, prague, request...  \n",
       "2                 [cdni, comment, problem, statement]  \n",
       "3                 [cdni, comment, problem, statement]  \n",
       "4                 [cdni, comment, problem, statement]  \n",
       "5   [cdni, cdn, interconnect, bof, prague, request...  \n",
       "6                 [cdni, comment, problem, statement]  \n",
       "7              [cdni, cdn, interconnect, prior, work]  \n",
       "8                 [cdni, comment, problem, statement]  \n",
       "9                 [cdni, comment, problem, statement]  \n",
       "10                [cdni, comment, problem, statement]  \n",
       "11      [cdni, cdn, interconnect, bof, prague, scope]  \n",
       "12                [cdni, comment, problem, statement]  \n",
       "13      [cdni, cdn, interconnect, bof, prague, scope]  \n",
       "14      [cdni, cdn, interconnect, bof, prague, scope]  \n",
       "15  [cdni, cdn, interconnect, bof, prague, sdo, de...  \n",
       "16      [cdni, cdn, interconnect, bof, prague, scope]  \n",
       "17  [cdni, cdn, interconnect, bof, prague, sdo, de...  \n",
       "18  [cdni, cdn, interconnect, bof, prague, sdo, de...  \n",
       "19  [cdni, cdn, interconnect, bof, prague, require...  "
      ]
     },
     "execution_count": 60,
     "metadata": {},
     "output_type": "execute_result"
    }
   ],
   "source": [
    "def format_topics_sentences(ldamodel=None, corpus=corpus, texts=data):\n",
    "    # Init output\n",
    "    sent_topics_df = pd.DataFrame()\n",
    "\n",
    "    # Get main topic in each document\n",
    "    for i, row_list in tqdm(enumerate(ldamodel[corpus])):\n",
    "        row = row_list[0] if ldamodel.per_word_topics else row_list            \n",
    "        # print(row)\n",
    "        row = sorted(row, key=lambda x: (x[1]), reverse=True)\n",
    "        # Get the Dominant topic, Perc Contribution and Keywords for each document\n",
    "        for j, (topic_num, prop_topic) in enumerate(row):\n",
    "            if j == 0:  # => dominant topic\n",
    "                wp = ldamodel.show_topic(topic_num)\n",
    "                topic_keywords = \", \".join([word for word, prop in wp])\n",
    "                sent_topics_df = sent_topics_df.append(pd.Series([int(topic_num), round(prop_topic,4), topic_keywords]), ignore_index=True)\n",
    "#                 print(topic_num,topic_keywords)\n",
    "            else:\n",
    "                break\n",
    "    sent_topics_df.columns = ['Dominant_Topic', 'Perc_Contribution', 'Topic_Keywords']\n",
    "\n",
    "    # Add original text to the end of the output\n",
    "    contents = pd.Series(texts)\n",
    "    sent_topics_df = pd.concat([sent_topics_df, contents], axis=1)\n",
    "    return(sent_topics_df)\n",
    "\n",
    "\n",
    "df_topic_sents_keywords = format_topics_sentences(ldamodel=lda_model, corpus=corpus, texts=data_ready)\n",
    "\n",
    "# Format\n",
    "df_dominant_topic = df_topic_sents_keywords.reset_index()\n",
    "df_dominant_topic.columns = ['Document_No', 'Dominant_Topic', 'Topic_Perc_Contrib', 'Keywords', 'Text']\n",
    "df_dominant_topic.head(20)"
   ]
  },
  {
   "cell_type": "code",
   "execution_count": 61,
   "id": "cb469bba",
   "metadata": {},
   "outputs": [
    {
     "data": {
      "text/html": [
       "<div>\n",
       "<style scoped>\n",
       "    .dataframe tbody tr th:only-of-type {\n",
       "        vertical-align: middle;\n",
       "    }\n",
       "\n",
       "    .dataframe tbody tr th {\n",
       "        vertical-align: top;\n",
       "    }\n",
       "\n",
       "    .dataframe thead th {\n",
       "        text-align: right;\n",
       "    }\n",
       "</style>\n",
       "<table border=\"1\" class=\"dataframe\">\n",
       "  <thead>\n",
       "    <tr style=\"text-align: right;\">\n",
       "      <th></th>\n",
       "      <th>Document_No</th>\n",
       "      <th>Dominant_Topic</th>\n",
       "      <th>Topic_Perc_Contrib</th>\n",
       "      <th>Keywords</th>\n",
       "      <th>Text</th>\n",
       "    </tr>\n",
       "  </thead>\n",
       "  <tbody>\n",
       "    <tr>\n",
       "      <th>0</th>\n",
       "      <td>0</td>\n",
       "      <td>9.0</td>\n",
       "      <td>0.4224</td>\n",
       "      <td>non, redirection, information, delivery, netwo...</td>\n",
       "      <td>[cdni, new, non, mailing, list, cdni, intercon...</td>\n",
       "    </tr>\n",
       "    <tr>\n",
       "      <th>1</th>\n",
       "      <td>1</td>\n",
       "      <td>1.0</td>\n",
       "      <td>0.4722</td>\n",
       "      <td>discuss, datum, list, name, trust, design, sub...</td>\n",
       "      <td>[cdni, cdn, interconnect, bof, prague, request...</td>\n",
       "    </tr>\n",
       "    <tr>\n",
       "      <th>2</th>\n",
       "      <td>2</td>\n",
       "      <td>13.0</td>\n",
       "      <td>0.2100</td>\n",
       "      <td>comment, draft, ietf, semantic, editorial, log...</td>\n",
       "      <td>[cdni, comment, problem, statement]</td>\n",
       "    </tr>\n",
       "    <tr>\n",
       "      <th>3</th>\n",
       "      <td>3</td>\n",
       "      <td>13.0</td>\n",
       "      <td>0.2100</td>\n",
       "      <td>comment, draft, ietf, semantic, editorial, log...</td>\n",
       "      <td>[cdni, comment, problem, statement]</td>\n",
       "    </tr>\n",
       "    <tr>\n",
       "      <th>4</th>\n",
       "      <td>4</td>\n",
       "      <td>13.0</td>\n",
       "      <td>0.2100</td>\n",
       "      <td>comment, draft, ietf, semantic, editorial, log...</td>\n",
       "      <td>[cdni, comment, problem, statement]</td>\n",
       "    </tr>\n",
       "    <tr>\n",
       "      <th>5</th>\n",
       "      <td>5</td>\n",
       "      <td>1.0</td>\n",
       "      <td>0.4722</td>\n",
       "      <td>discuss, datum, list, name, trust, design, sub...</td>\n",
       "      <td>[cdni, cdn, interconnect, bof, prague, request...</td>\n",
       "    </tr>\n",
       "    <tr>\n",
       "      <th>6</th>\n",
       "      <td>6</td>\n",
       "      <td>13.0</td>\n",
       "      <td>0.2100</td>\n",
       "      <td>comment, draft, ietf, semantic, editorial, log...</td>\n",
       "      <td>[cdni, comment, problem, statement]</td>\n",
       "    </tr>\n",
       "    <tr>\n",
       "      <th>7</th>\n",
       "      <td>7</td>\n",
       "      <td>19.0</td>\n",
       "      <td>0.3418</td>\n",
       "      <td>call, last, control, work, extension, policy, ...</td>\n",
       "      <td>[cdni, cdn, interconnect, prior, work]</td>\n",
       "    </tr>\n",
       "    <tr>\n",
       "      <th>8</th>\n",
       "      <td>8</td>\n",
       "      <td>13.0</td>\n",
       "      <td>0.2100</td>\n",
       "      <td>comment, draft, ietf, semantic, editorial, log...</td>\n",
       "      <td>[cdni, comment, problem, statement]</td>\n",
       "    </tr>\n",
       "    <tr>\n",
       "      <th>9</th>\n",
       "      <td>9</td>\n",
       "      <td>13.0</td>\n",
       "      <td>0.2100</td>\n",
       "      <td>comment, draft, ietf, semantic, editorial, log...</td>\n",
       "      <td>[cdni, comment, problem, statement]</td>\n",
       "    </tr>\n",
       "  </tbody>\n",
       "</table>\n",
       "</div>"
      ],
      "text/plain": [
       "   Document_No  Dominant_Topic  Topic_Perc_Contrib  \\\n",
       "0            0             9.0              0.4224   \n",
       "1            1             1.0              0.4722   \n",
       "2            2            13.0              0.2100   \n",
       "3            3            13.0              0.2100   \n",
       "4            4            13.0              0.2100   \n",
       "5            5             1.0              0.4722   \n",
       "6            6            13.0              0.2100   \n",
       "7            7            19.0              0.3418   \n",
       "8            8            13.0              0.2100   \n",
       "9            9            13.0              0.2100   \n",
       "\n",
       "                                            Keywords  \\\n",
       "0  non, redirection, information, delivery, netwo...   \n",
       "1  discuss, datum, list, name, trust, design, sub...   \n",
       "2  comment, draft, ietf, semantic, editorial, log...   \n",
       "3  comment, draft, ietf, semantic, editorial, log...   \n",
       "4  comment, draft, ietf, semantic, editorial, log...   \n",
       "5  discuss, datum, list, name, trust, design, sub...   \n",
       "6  comment, draft, ietf, semantic, editorial, log...   \n",
       "7  call, last, control, work, extension, policy, ...   \n",
       "8  comment, draft, ietf, semantic, editorial, log...   \n",
       "9  comment, draft, ietf, semantic, editorial, log...   \n",
       "\n",
       "                                                Text  \n",
       "0  [cdni, new, non, mailing, list, cdni, intercon...  \n",
       "1  [cdni, cdn, interconnect, bof, prague, request...  \n",
       "2                [cdni, comment, problem, statement]  \n",
       "3                [cdni, comment, problem, statement]  \n",
       "4                [cdni, comment, problem, statement]  \n",
       "5  [cdni, cdn, interconnect, bof, prague, request...  \n",
       "6                [cdni, comment, problem, statement]  \n",
       "7             [cdni, cdn, interconnect, prior, work]  \n",
       "8                [cdni, comment, problem, statement]  \n",
       "9                [cdni, comment, problem, statement]  "
      ]
     },
     "execution_count": 61,
     "metadata": {},
     "output_type": "execute_result"
    }
   ],
   "source": [
    "df_dominant_topic.head(10)"
   ]
  },
  {
   "cell_type": "code",
   "execution_count": 62,
   "id": "dd277275",
   "metadata": {},
   "outputs": [
    {
     "data": {
      "text/plain": [
       "0.0     15326\n",
       "18.0     5146\n",
       "16.0     4994\n",
       "19.0     3595\n",
       "8.0      3412\n",
       "11.0     2859\n",
       "13.0     2517\n",
       "15.0     2096\n",
       "3.0      1952\n",
       "12.0     1920\n",
       "7.0      1834\n",
       "17.0     1735\n",
       "2.0      1681\n",
       "4.0      1679\n",
       "5.0      1499\n",
       "1.0      1497\n",
       "6.0      1483\n",
       "14.0     1455\n",
       "9.0       792\n",
       "10.0      494\n",
       "Name: Dominant_Topic, dtype: int64"
      ]
     },
     "execution_count": 62,
     "metadata": {},
     "output_type": "execute_result"
    }
   ],
   "source": [
    "df_dominant_topic[\"Dominant_Topic\"].value_counts()"
   ]
  },
  {
   "cell_type": "code",
   "execution_count": 62,
   "id": "a69631a7",
   "metadata": {},
   "outputs": [
    {
     "data": {
      "text/plain": [
       "0.0     15326\n",
       "18.0     5146\n",
       "16.0     4994\n",
       "19.0     3595\n",
       "8.0      3412\n",
       "11.0     2859\n",
       "13.0     2517\n",
       "15.0     2096\n",
       "3.0      1952\n",
       "12.0     1920\n",
       "7.0      1834\n",
       "17.0     1735\n",
       "2.0      1681\n",
       "4.0      1679\n",
       "5.0      1499\n",
       "1.0      1497\n",
       "6.0      1483\n",
       "14.0     1455\n",
       "9.0       792\n",
       "10.0      494\n",
       "Name: Dominant_Topic, dtype: int64"
      ]
     },
     "execution_count": 62,
     "metadata": {},
     "output_type": "execute_result"
    }
   ],
   "source": [
    "df_dominant_topic[\"Dominant_Topic\"].value_counts()"
   ]
  },
  {
   "cell_type": "code",
   "execution_count": 62,
   "id": "c861e97c",
   "metadata": {},
   "outputs": [
    {
     "data": {
      "text/plain": [
       "0.0     15326\n",
       "18.0     5146\n",
       "16.0     4994\n",
       "19.0     3595\n",
       "8.0      3412\n",
       "11.0     2859\n",
       "13.0     2517\n",
       "15.0     2096\n",
       "3.0      1952\n",
       "12.0     1920\n",
       "7.0      1834\n",
       "17.0     1735\n",
       "2.0      1681\n",
       "4.0      1679\n",
       "5.0      1499\n",
       "1.0      1497\n",
       "6.0      1483\n",
       "14.0     1455\n",
       "9.0       792\n",
       "10.0      494\n",
       "Name: Dominant_Topic, dtype: int64"
      ]
     },
     "execution_count": 62,
     "metadata": {},
     "output_type": "execute_result"
    }
   ],
   "source": [
    "df_dominant_topic[\"Dominant_Topic\"].value_counts()"
   ]
  },
  {
   "cell_type": "code",
   "execution_count": 62,
   "id": "93a8b456",
   "metadata": {},
   "outputs": [
    {
     "data": {
      "text/plain": [
       "0.0     15326\n",
       "18.0     5146\n",
       "16.0     4994\n",
       "19.0     3595\n",
       "8.0      3412\n",
       "11.0     2859\n",
       "13.0     2517\n",
       "15.0     2096\n",
       "3.0      1952\n",
       "12.0     1920\n",
       "7.0      1834\n",
       "17.0     1735\n",
       "2.0      1681\n",
       "4.0      1679\n",
       "5.0      1499\n",
       "1.0      1497\n",
       "6.0      1483\n",
       "14.0     1455\n",
       "9.0       792\n",
       "10.0      494\n",
       "Name: Dominant_Topic, dtype: int64"
      ]
     },
     "execution_count": 62,
     "metadata": {},
     "output_type": "execute_result"
    }
   ],
   "source": [
    "df_dominant_topic[\"Dominant_Topic\"].value_counts()"
   ]
  },
  {
   "cell_type": "code",
   "execution_count": 63,
   "id": "437d3696",
   "metadata": {},
   "outputs": [
    {
     "name": "stdout",
     "output_type": "stream",
     "text": [
      "group, working, meeting, ietf, draft, adopt, last, july, quebec, city\n",
      "discuss, datum, list, name, trust, design, submit, model, mailing, creation\n",
      "digest, early, push, continuation, problem, relate, charter, date, june, pull\n",
      "cdni, case, next, requirement, step, scenario, replace, incorporate, draft, publisher\n",
      "consensus, requirement, forward, cdn, sign, loop, extend, side, language, level\n",
      "request, limit, definition, available, route, week, agree, iterative, cdni, header\n",
      "review, draft, ietf, progress, interface, metadata, extensibility, informal, trigger, note\n",
      "question, session, redirect, additional, schedule, framework, delegation, advanced, rtcweb, client\n",
      "issue, proposal, specification, interim, reference, regard, final, base, app, system\n",
      "non, redirection, information, delivery, network, routing, wg, tie, slot, interconnection\n"
     ]
    }
   ],
   "source": [
    "for i in range(10):\n",
    "    print(df_dominant_topic[df_dominant_topic[\"Dominant_Topic\"] == i].iloc[0][\"Keywords\"])"
   ]
  },
  {
   "cell_type": "code",
   "execution_count": 64,
   "id": "77c6939d",
   "metadata": {},
   "outputs": [
    {
     "data": {
      "text/html": [
       "\n",
       "<link rel=\"stylesheet\" type=\"text/css\" href=\"https://cdn.jsdelivr.net/gh/bmabey/pyLDAvis@3.3.1/pyLDAvis/js/ldavis.v1.0.0.css\">\n",
       "\n",
       "\n",
       "<div id=\"ldavis_el288121402938018846886577231812\"></div>\n",
       "<script type=\"text/javascript\">\n",
       "\n",
       "var ldavis_el288121402938018846886577231812_data = {\"mdsDat\": {\"x\": [-0.36515952325876044, -0.22972550260331165, 0.11209319147762546, 0.05831218917695462, -0.3173668317813407, 0.12242298071704538, 0.12087168928311517, 0.11767562770270827, -0.2855773300659614, 0.1240572964603237, -0.3042049206876285, 0.12537984875853786, 0.13184078368863525, 0.12135473845491956, 0.12737681996510403, 0.13020335594334548, 0.13002090571640848, -0.19409588748858023, 0.13794368667638532, 0.13657688186447473], \"y\": [0.000919208122194542, 0.03878941420637718, 0.3142205016986966, 0.21093635079884582, -0.02127619089036808, 0.04530332882152222, -0.144816555127916, 0.13984405659492882, -0.033142810538707816, 0.026908032079222273, -0.040184444477799515, -0.023157224590838653, -0.09446378903441212, 0.06872604513557724, -0.06584574520447536, -0.07693019888115235, -0.07421459096307098, 0.00662149846730658, -0.14399573223882484, -0.1342411539771051], \"topics\": [1, 2, 3, 4, 5, 6, 7, 8, 9, 10, 11, 12, 13, 14, 15, 16, 17, 18, 19, 20], \"cluster\": [1, 1, 1, 1, 1, 1, 1, 1, 1, 1, 1, 1, 1, 1, 1, 1, 1, 1, 1, 1], \"Freq\": [10.185305108556411, 7.37637376250823, 7.269211595013195, 6.701618090083203, 5.931930847691427, 5.487750203908161, 5.114807850523194, 4.95364972683139, 4.852298030619936, 4.828029185824527, 4.64338997926781, 4.357074383638091, 4.32626793915574, 3.899620935104448, 3.7910008839170395, 3.778427532759691, 3.6096894269875808, 3.4316372719348247, 2.912626241070492, 2.5492910046046093]}, \"tinfo\": {\"Term\": [\"http\", \"draft\", \"request\", \"ietf\", \"call\", \"cdni\", \"protocol\", \"rfc\", \"new\", \"question\", \"review\", \"txt\", \"comment\", \"issue\", \"service\", \"case\", \"proposal\", \"group\", \"discuss\", \"action\", \"version\", \"propose\", \"digest\", \"last\", \"notification\", \"status\", \"non\", \"consensus\", \"datum\", \"fwd\", \"action\", \"txt\", \"ietf\", \"draft\", \"httpbis\", \"httpbi\", \"header\", \"structure\", \"encryption\", \"bis\", \"message\", \"hint\", \"field\", \"bcp\", \"unicode\", \"signature\", \"client\", \"range\", \"encode\", \"standard\", \"replay\", \"late\", \"value\", \"sequence\", \"escape\", \"handle\", \"rtp\", \"serialize\", \"websocket\", \"rosenberg\", \"priority\", \"rtcweb\", \"cache\", \"alt\", \"svc\", \"cdni\", \"log\", \"new\", \"version\", \"notification\", \"high\", \"intra\", \"txt\", \"draft\", \"tr\", \"nottingham\", \"header\", \"thomson\", \"kazuho\", \"mcmanus\", \"websocket\", \"structured\", \"httpbis\", \"encryption\", \"hybi\", \"replay\", \"proxy\", \"bishop\", \"snell\", \"hint\", \"priority\", \"structure\", \"compression\", \"code\", \"bikeshed\", \"variant\", \"cert\", \"search\", \"framework\", \"cache\", \"method\", \"httpbi\", \"rtcweb\", \"davie\", \"cdni\", \"loop\", \"cdn\", \"http\", \"content\", \"dns\", \"scope\", \"thursday\", \"acquisition\", \"priority\", \"length\", \"upgrade\", \"encode\", \"adoption\", \"response\", \"tls\", \"github\", \"weekly\", \"uris\", \"activity\", \"encryption\", \"websocket\", \"summary\", \"interest\", \"prioritization\", \"anima\", \"disable\", \"method\", \"expression\", \"allow\", \"mandatory\", \"transfer\", \"section\", \"header\", \"proxy\", \"message\", \"field\", \"httpbi\", \"stream\", \"frame\", \"server\", \"client\", \"status\", \"model\", \"cdn\", \"call\", \"control\", \"work\", \"extension\", \"policy\", \"selection\", \"detail\", \"second\", \"last\", \"picture\", \"prior\", \"\\u8f6c\\u53d1\", \"white\", \"nomcom\", \"fw\", \"adoption\", \"cache\", \"trailer\", \"httpbi\", \"search\", \"header\", \"frame\", \"method\", \"bis\", \"flow\", \"standard\", \"hint\", \"revision\", \"genart\", \"encrypt\", \"httpbis\", \"draft\", \"encode\", \"cdn\", \"ietf\", \"rtcweb\", \"trigger\", \"cdni\", \"incorporate\", \"content\", \"comment\", \"semantic\", \"editorial\", \"log\", \"prefix\", \"capability\", \"explanation\", \"participation\", \"portal\", \"bertrand\", \"conf\", \"bgp\", \"hijacking\", \"footprint\", \"ietf\", \"draft\", \"httpbis\", \"objection\", \"httpbi\", \"benjamin\", \"kaduks\", \"eric\", \"hint\", \"rescorla\", \"structure\", \"roach\", \"adam\", \"origin\", \"campbell\", \"report\", \"header\", \"client\", \"rtcweb\", \"cdn\", \"cdni\", \"issue\", \"proposal\", \"specification\", \"interim\", \"reference\", \"regard\", \"final\", \"base\", \"app\", \"system\", \"tv\", \"business\", \"frame\", \"large\", \"set\", \"unit\", \"priority\", \"remove\", \"prioritization\", \"state\", \"range\", \"hpack\", \"byte\", \"live\", \"compression\", \"consideration\", \"block\", \"location\", \"security\", \"flag\", \"body\", \"svc\", \"alt\", \"github\", \"stream\", \"rtcweb\", \"data\", \"header\", \"sign\", \"normative\", \"new\", \"content\", \"cdni\", \"status\", \"case\", \"next\", \"cdni\", \"step\", \"scenario\", \"replace\", \"incorporate\", \"publisher\", \"shepherd\", \"requirement\", \"jsep\", \"voicemail\", \"sdp_pranswer\", \"fedex\", \"video\", \"offer\", \"change\", \"signing\", \"record\", \"faithful\", \"necessarily\", \"scheduler\", \"bad\", \"desktop\", \"sharing\", \"sdp_pransw\", \"previous\", \"sdp_offer\", \"screen\", \"follow\", \"uri\", \"rtcweb\", \"wglc\", \"size\", \"ietf\", \"draft\", \"recording\", \"server\", \"remote\", \"httpbis\", \"response\", \"comment\", \"action\", \"rfc\", \"status\", \"fwd\", \"update\", \"resolution\", \"relationship\", \"adaptive\", \"meet\", \"informational\", \"vancouver\", \"\\u7b54\\u590d\", \"distribution\", \"extended\", \"erratum\", \"report\", \"technical\", \"code\", \"bis\", \"tcp\", \"tune\", \"reject\", \"hold\", \"proxy\", \"websocket\", \"part\", \"skip\", \"dtmf\", \"search\", \"bcp\", \"validator\", \"hint\", \"header\", \"response\", \"rtcweb\", \"httpbis\", \"adoption\", \"httpbi\", \"draft\", \"cdn\", \"dynamic\", \"bertrand\", \"cdni\", \"charter\", \"ietf\", \"document\", \"statement\", \"terminology\", \"space\", \"draft\", \"rtcweb\", \"adoption\", \"cert\", \"header\", \"codec\", \"feedback\", \"stick\", \"train\", \"reading\", \"prefer\", \"nottingham\", \"sip\", \"answer\", \"websocket\", \"origin\", \"richanna\", \"transport\", \"jenning\", \"signature\", \"montenegro\", \"gendispatch\", \"reschke\", \"sdp\", \"offer\", \"message\", \"client\", \"link\", \"httpbi\", \"httpbis\", \"frame\", \"cdni\", \"discuss\", \"datum\", \"list\", \"name\", \"trust\", \"design\", \"submit\", \"model\", \"mailing\", \"creation\", \"description\", \"interconnect\", \"mpeg\", \"maximum\", \"announce\", \"alto\", \"object\", \"dash\", \"sdo\", \"bof\", \"team\", \"header\", \"field\", \"proxy\", \"rtt\", \"structure\", \"benjamin\", \"empty\", \"kaduks\", \"httpbis\", \"rtcweb\", \"tls\", \"cdn\", \"cdni\", \"ietf\", \"draft\", \"review\", \"progress\", \"interface\", \"metadata\", \"extensibility\", \"informal\", \"trigger\", \"note\", \"paris\", \"md\", \"prepare\", \"approach\", \"webex\", \"ready\", \"sheperd\", \"ietf\", \"draft\", \"httpbis\", \"httpbi\", \"ad\", \"genart\", \"alt\", \"svc\", \"art\", \"gen\", \"bis\", \"traversal\", \"kaufman\", \"rtcweb\", \"bcp\", \"cache\", \"header\", \"cdni\", \"last\", \"problem\", \"protocol\", \"propose\", \"text\", \"first\", \"secure\", \"label\", \"naming\", \"conclusion\", \"portion\", \"rtcweb\", \"signal\", \"define\", \"webrtc\", \"default\", \"standard\", \"wire\", \"general\", \"setting\", \"hypertext\", \"tunnel\", \"orient\", \"wish\", \"purpose\", \"transfer\", \"layer\", \"byte\", \"application\", \"stream\", \"message\", \"search\", \"frame\", \"httpbi\", \"draft\", \"http\", \"cdn\", \"new\", \"ietf\", \"consensus\", \"forward\", \"sign\", \"loop\", \"cdn\", \"extend\", \"side\", \"language\", \"level\", \"rough\", \"virtual\", \"normative\", \"url\", \"ipv\", \"detection\", \"lefaucheur\", \"delay\", \"requirement\", \"ttl\", \"response\", \"certificate\", \"server\", \"origin\", \"query\", \"move\", \"security\", \"https\", \"improve\", \"code\", \"future\", \"proxy\", \"rtcweb\", \"httpbis\", \"upstream\", \"cdni\", \"high\", \"incorporate\", \"digest\", \"early\", \"push\", \"continuation\", \"problem\", \"relate\", \"charter\", \"date\", \"june\", \"pull\", \"precondition\", \"ipr\", \"recursive\", \"cut\", \"disclosure\", \"gpp\", \"troubleshoot\", \"ref\", \"talk\", \"happy\", \"vol\", \"capacity\", \"storage\", \"inc\", \"cloud\", \"weekly\", \"github\", \"server\", \"cache\", \"activity\", \"header\", \"statement\", \"cdni\", \"terminology\", \"agenda\", \"fyi\", \"internet\", \"post\", \"minute\", \"info\", \"streaming\", \"deployment\", \"core\", \"example\", \"advertising\", \"chair\", \"discovery\", \"req\", \"prague\", \"domain\", \"optimization\", \"presentation\", \"slide\", \"advertisement\", \"cap\", \"role\", \"taipei\", \"previdi\", \"contact\", \"volunteer\", \"brandenburg\", \"ps\", \"tr\", \"davie\", \"footprint\", \"team\", \"bof\", \"question\", \"session\", \"redirect\", \"additional\", \"schedule\", \"framework\", \"delegation\", \"advanced\", \"client\", \"recording\", \"web\", \"acting\", \"siprec\", \"rtc\", \"sip\", \"remote\", \"browser\", \"rtcweb\", \"tls\", \"chunk\", \"encode\", \"reuse\", \"expectation\", \"introduce\", \"comprehensive\", \"ask\", \"bug\", \"recordingclient\", \"remoterecorde\", \"solution\", \"header\", \"size\", \"transport\", \"httpbi\", \"websocket\", \"httpbis\", \"cdni\", \"request\", \"limit\", \"definition\", \"available\", \"route\", \"week\", \"agree\", \"iterative\", \"header\", \"body\", \"response\", \"server\", \"range\", \"conditional\", \"complete\", \"retry\", \"stream\", \"delete\", \"resource\", \"concurrent\", \"field\", \"part\", \"error\", \"publication\", \"key\", \"safety\", \"sdp\", \"form\", \"wait\", \"become\", \"cache\", \"code\", \"httpbi\", \"rtcweb\", \"size\", \"cdni\", \"encode\", \"group\", \"working\", \"meeting\", \"adopt\", \"july\", \"quebec\", \"city\", \"last\", \"ietf\", \"weekly\", \"github\", \"httpbi\", \"revision\", \"httpbis\", \"encode\", \"structured\", \"hint\", \"encryption\", \"expect\", \"face\", \"legally\", \"bis\", \"restrict\", \"authority\", \"host\", \"bcp\", \"contribution\", \"encrypt\", \"auth\", \"access\", \"draft\", \"rtcweb\", \"cache\", \"header\", \"call\", \"cdni\", \"non\", \"redirection\", \"information\", \"delivery\", \"network\", \"routing\", \"wg\", \"tie\", \"slot\", \"interconnection\", \"material\", \"cdns\", \"adpatation\", \"ip\", \"address\", \"ice\", \"medium\", \"mux\", \"expose\", \"upcoming\", \"current\", \"authoritative\", \"communicate\", \"warning\", \"apis\", \"require\", \"certificate\", \"rtcp\", \"mechanism\", \"deprecate\", \"method\", \"rtc\", \"rtcweb\", \"cdni\", \"content\", \"request\", \"service\", \"thought\", \"dynamic\", \"experiment\", \"milestone\", \"pre\", \"enforce\", \"upstream\", \"provider\", \"cookie\", \"baked\", \"half\", \"realiable\", \"data\", \"rtcweb\", \"alternative\", \"clarification\", \"table\", \"failure\", \"connection\", \"size\", \"fix\", \"web\", \"implementation\", \"change\", \"pseudotcp\", \"serve\", \"different\", \"practice\", \"property\", \"medium\", \"cdni\"], \"Freq\": [18725.0, 36749.0, 8367.0, 19416.0, 9653.0, 7648.0, 6860.0, 5950.0, 6424.0, 5047.0, 5048.0, 8833.0, 5410.0, 5147.0, 3984.0, 4863.0, 4904.0, 4010.0, 4401.0, 5177.0, 4500.0, 3614.0, 3452.0, 4468.0, 4080.0, 3506.0, 2874.0, 3218.0, 3186.0, 2818.0, 5174.250289610718, 5509.575971067381, 10495.005560137855, 10513.967130426105, 0.10157017536987924, 0.10061290865803649, 0.10002081903955773, 0.09957663153858613, 0.09946321901679694, 0.0994673014884947, 0.09938466059712733, 0.09936699661690651, 0.09934619059150404, 0.0993021436379365, 0.09925930684562222, 0.09925340184191654, 0.09936451797337574, 0.0992356868307995, 0.09925582216442307, 0.09924538270108167, 0.09920872064721024, 0.09917162118565691, 0.09917833539357411, 0.09915299490853591, 0.09915299490853591, 0.09914994763501866, 0.09917115461746288, 0.09913434676103082, 0.09920617639252717, 0.09912812828181977, 0.09917618480580476, 0.10004581688857843, 0.09922373831095554, 0.09917331249536027, 0.09917240851948433, 0.14962236901880663, 0.09955919355233431, 6421.0513258468245, 4496.54962371186, 4077.160278801373, 187.5741461811406, 32.416442658315056, 3320.654957728834, 4420.348664844555, 3.850600282634422, 0.07028818682235487, 0.07000067365467487, 0.06972297533134394, 0.06965745504174098, 0.0696457289689603, 0.06966559624130325, 0.0696319966342901, 0.06984432777747805, 0.06960994887205142, 0.06956456511625551, 0.06956182498488533, 0.06960780533961154, 0.06953325687150567, 0.06953177329363473, 0.06956606981267267, 0.06954237480382995, 0.06954688889308142, 0.06952929714409212, 0.06953368452206633, 0.0694791669950365, 0.06948053442090332, 0.06949224993441089, 0.06949751373205265, 1.9494474249454672, 0.06954253847256305, 0.0695112302278132, 0.06960331764854286, 0.06977275174475062, 0.09534312972761931, 0.07275983283498658, 0.07051077101972565, 0.06995474609631418, 18720.76428968891, 2697.687285751707, 938.3329728660835, 186.69055335209902, 31.128988918602086, 2.784323589672779, 0.08212981092040554, 0.08206011239948632, 0.0820563766919602, 0.08211036755128975, 0.08213314600191564, 0.08209284926822503, 0.08209347882339309, 0.08207698551857717, 0.08207014886162825, 0.08201855655545962, 0.08202999260719002, 0.08204805719845842, 0.08206923834795544, 0.08203208418716983, 0.08199507050563658, 0.08199919643330819, 0.08199005487603327, 0.08199167819183849, 0.08203461801664785, 0.08198600178945548, 0.08199285405521022, 0.08198604861587293, 0.08201091864647862, 0.08199093417209442, 0.08227784483479741, 0.08206191261509084, 0.08203593956220724, 0.08204217267866448, 0.0821901389548978, 0.08201998215972446, 0.08203511749843408, 0.08202286978880106, 0.08202176676652316, 0.1140415357482707, 0.08511751845698702, 0.08208466505104035, 9650.215152159102, 2525.3226040505974, 2491.8255373208904, 1170.268678964353, 188.00569777494243, 158.20241329237555, 149.55671067517372, 76.30590573336191, 4107.365382170118, 11.941555324046412, 11.295110767321715, 6.273838226128593, 6.192498191215493, 2.742043177917082, 0.8283735900782975, 0.09967406042465737, 0.09911901734301179, 0.09868837137216867, 0.09878108161191534, 0.09842534060298676, 0.09876548280709041, 0.09850031271842759, 0.09842957127514407, 0.09845971361509481, 0.09837490830473052, 0.09834771112657636, 0.09836135288577749, 0.0982878677412763, 0.09829142687817055, 0.0982713863472485, 0.09861065555551017, 168.3162728103052, 0.09833531650429235, 2.136996659620987, 4.664329829504639, 0.09869843480775375, 0.1035458929174715, 0.09893463294649575, 0.09856422368874963, 0.09855652021994618, 5406.676648341174, 1520.893085130575, 1302.3332678594409, 148.37128749733185, 139.22847317268676, 132.02640913847102, 80.64610733654419, 40.63527330815175, 26.75700531913103, 21.430765559273123, 2.320298308971694, 1.8143485466023164, 1.8143485466023164, 66.3613447063049, 4389.012494651913, 4960.595932321336, 0.11910214057009, 0.11806305455325106, 0.11763153924178878, 0.11656900804371231, 0.11654752441150262, 0.11650563557447086, 0.11645622322038858, 0.11635655784835496, 0.11633591488001435, 0.11621712652784782, 0.11620416841608816, 0.11624774707241231, 0.11618512185994337, 0.11623803273436967, 0.11657718541043877, 0.11631695323941188, 0.11679993586108084, 1.2197286162824705, 0.44386753384431443, 5144.412076051387, 4900.831246045064, 1732.073629407168, 1179.4778759436244, 1043.4624006004497, 824.3456703353368, 659.9628335256722, 626.9002703014011, 465.9639750471272, 14.036077849856023, 4.465980435638122, 3.3721694749219373, 0.18274006018689948, 0.1820553879262196, 0.18192650714797465, 0.18176180433213393, 0.1818158987511876, 0.18174723984579563, 0.18173371231317723, 0.18173265964803734, 0.18179757923546974, 0.181761128741074, 0.18175284882273499, 0.18172186590249859, 0.1817193520752989, 0.18165903593392596, 0.18165325413136663, 0.18164693814052738, 0.18170957957206005, 0.18163458896440882, 0.181675737173384, 0.18172657932849806, 0.18171272185605966, 0.18172910886711774, 0.1817142615752195, 0.18253909541370297, 0.18179241017829034, 0.1818945186968584, 0.21837110976121066, 0.1894664333165125, 0.19343435243704823, 0.19002082648256763, 0.1821389883920298, 0.1819013060302976, 4859.818206570219, 1050.7136763978842, 7608.292597548019, 281.7072155768142, 125.19133910664391, 68.54432962634088, 44.670492528127475, 29.204735092115325, 20.15035573427129, 784.5959731072297, 0.315257398607297, 0.3151259861633817, 0.31512364317351915, 0.3151254004159161, 0.3151193086422735, 0.3150777205722134, 0.3151899204992558, 0.31502087378067345, 0.31512876846384347, 0.3149963895366099, 0.3149963895366099, 0.3149963895366099, 0.3149963895366099, 0.31499041491246044, 0.31499041491246044, 0.3149837373913522, 0.3149837373913522, 0.314981950861582, 0.31499041491246044, 0.314981950861582, 0.31503452169662277, 0.317393121729123, 0.3150186186529308, 0.31511561843324, 25.278873761414467, 30.916304181836683, 0.3150580980321146, 0.31505185982160555, 0.3150156899156026, 0.31503762615819064, 0.3149999625961503, 0.3152699043156883, 0.3151361195945372, 5947.406369660196, 3502.947712661291, 2814.9997211685354, 1793.2258245125845, 378.88384211987284, 293.4765941716665, 177.68303443463955, 102.96724988610525, 83.31236061295321, 44.608079218393456, 21.327653531859752, 16.934104070837076, 7.748987882773258, 0.11156026386953914, 0.11111466337142498, 0.11068552142223939, 0.11014851605739132, 0.10984402226549421, 0.10960618524220057, 0.10960361115634917, 0.10957830285771665, 0.10954659125461083, 0.10965646855562261, 0.10961806291107405, 0.1095138017973744, 0.10949897421193293, 0.10949727233698986, 0.10951912724771709, 0.10953486959094046, 0.10948931607163102, 0.10955634157980548, 0.10975947453655176, 0.10954015249440956, 0.11001576981183207, 0.10968434384896093, 0.10955087430655089, 0.10963325214494093, 0.9773185913474467, 0.31946586652124787, 0.11900225807631143, 0.11437978136115538, 0.11179258398155902, 0.11058327419388903, 0.11050235713149179, 1750.2636389423185, 554.6908346667796, 394.8153114244151, 83.35586542482253, 11690.860238173314, 0.21815520701925095, 0.21606155317989156, 0.21516601146279316, 0.21595111081437077, 0.21518330715399736, 0.21512678011182074, 0.21508834061177093, 0.21508834061177093, 0.2150554579603008, 0.21503500875752762, 0.21509759276465606, 0.21509081340938888, 0.21500943336193973, 0.21514204755329336, 0.21510442768840904, 0.21498349677119416, 0.21503896801214062, 0.21497814830443623, 0.2149964025520204, 0.2149662983248401, 0.21500534907823368, 0.21496693736242675, 0.21500937779345392, 0.214966048266654, 0.2150882711511637, 0.2152086463835206, 0.21498082948387592, 0.21519126733958774, 0.2151837100255194, 0.21499388807803813, 0.21558459497417767, 4398.2913465548445, 3183.0972422653053, 1299.062221448571, 1284.2874233863245, 1130.5417210694623, 999.4325009162397, 693.29334943022, 371.872361569097, 251.52573803313345, 201.02135616029864, 173.47389753101982, 126.89359191374038, 118.95860226206304, 92.61042328469858, 77.53755514508906, 37.882299172246434, 36.73805530057788, 28.87109692216713, 4.1915905583138295, 30.319520256821534, 50.55804113932022, 0.16507259062096966, 0.16438002107715288, 0.16411798529473762, 0.16381374899305698, 0.1638504342790479, 0.1637034857954874, 0.16365138826613554, 0.16367109935046978, 0.164218462063339, 0.1646121170217926, 0.16370955393435327, 1.4577844686416725, 0.1965564034379481, 0.19925552266359897, 0.17968885726983996, 5045.488062756342, 260.5582203222098, 228.9991659153713, 210.583643811324, 204.3994963423108, 181.4934838160272, 172.53118010972378, 167.4182182443949, 92.30471063503751, 83.68108660840647, 35.55774188452539, 28.5890389012745, 26.91968629732469, 10.838022861823397, 7.625723558524373, 3271.3263429084095, 3960.8305249607865, 0.16979329879135796, 0.1695911898351796, 0.16888146209437227, 0.16843599284405456, 0.16844033998795183, 0.16844033998795183, 0.16826636117393445, 0.1682565900706791, 0.16837488024315, 0.16808049750779425, 0.16808049750779425, 0.16979171680321187, 0.1681079629490535, 0.16819316431063655, 0.16836740900501462, 4.420426905813054, 0.20777001434807124, 0.17118189885711457, 6857.489446057404, 3611.488873335661, 1216.4664728561636, 544.8243819829818, 486.22108817036093, 148.90305684510693, 55.170807985267395, 21.504646878579344, 3.829553676500098, 0.21098185085477947, 0.20871548316288677, 0.20744694695793664, 0.20732286512622283, 0.20709540879572427, 0.20697420852660484, 0.20662870792411395, 0.20637014069703408, 0.20635288874435886, 0.20633185707970927, 0.20633992794983283, 0.20629764008318863, 0.20629764008318863, 0.20629764008318863, 0.2063331294579977, 0.20630321609392313, 0.2063381316510727, 0.206303927128849, 0.20632408559271243, 0.20633016057532474, 0.2062314888864883, 0.20639199566528205, 0.2065924825657851, 1.9872419252977853, 1.5395313245905449, 0.20707549981779977, 0.2070468588320136, 0.20632997346087056, 3215.394233069794, 1503.5271218951402, 894.1741532212054, 861.3171364828686, 1411.8426312688857, 565.964700724209, 487.68941818124085, 477.3808868504666, 463.1800846220251, 362.3196871148193, 219.51969018431427, 167.04377888719065, 153.99205143232825, 48.39632613084262, 23.725038690330212, 20.769060101712924, 10.21970338750064, 2184.5827014279257, 2.201283719810473, 0.14775780263058627, 0.14744059465711237, 0.14748160502806795, 0.14744268790769877, 0.14736235167513526, 0.14735666645608705, 0.1473879041956068, 0.14738390348590621, 0.1473140087340783, 0.14731979304191165, 0.1472146102964708, 0.14734971785502812, 0.14772198203475315, 0.14734143155536963, 0.15351687998202468, 0.15631681939801995, 0.1500348009829319, 0.14737229771194507, 3449.242579800263, 2084.206734789095, 1819.7249988539731, 1314.6344480532682, 786.9366976618492, 745.0907876823225, 561.4693469383566, 269.65757553394906, 177.35198541042692, 159.10910807867245, 99.81550098035977, 79.87776391656593, 54.212652023417014, 50.14404433714398, 49.381538377973406, 35.117485988041686, 33.92928297593396, 23.83240408022461, 18.180349808106964, 13.858895358418566, 10.384161241553107, 9.019424512300946, 7.507309949651125, 6.878123348907182, 1.8167760059707878, 0.11261531773977346, 0.11261531773977346, 0.11252459413143916, 0.11255539728617633, 0.11237589271137952, 0.1126585805975504, 0.126800644992106, 0.12174203905178894, 0.11284415871934869, 1557.1270258099955, 1189.4062553236072, 951.3230296419522, 922.5279541373484, 850.5557806825191, 834.6422329786297, 697.7927824120032, 662.1037537912865, 559.7905756785588, 537.2747537328524, 481.41244773635395, 284.2579564585018, 238.76527678506122, 206.92228819064013, 153.25700963629768, 149.7361797738785, 102.96597686141875, 63.44084423458707, 60.630862151511444, 39.94746349803302, 34.52858982084513, 32.94655090293428, 28.993484712953585, 27.154823622821496, 26.995188788526768, 24.548807806362188, 21.978937875397808, 20.437861423234438, 35.85731023767422, 15.648281527534449, 148.86102089570886, 109.11731805313632, 52.32693331259565, 5043.938255375859, 2540.351167906687, 1550.986039191797, 872.0578832866589, 677.9401090583992, 196.5116133664234, 83.46894499648852, 10.440827340651955, 0.24894151231750794, 0.24861246158907238, 0.24800619822447112, 0.24781673821862524, 0.24781673821862524, 0.24781673821862524, 0.247650406309873, 0.24757368766413482, 0.24739164855380166, 0.24963152578861023, 0.24716975728739132, 0.24697391487869919, 0.247083605666599, 0.24689652553978053, 0.24687748650756122, 0.24680879454472457, 0.24680256358872552, 0.24680070295603138, 0.24680256358872552, 0.24679289262576867, 0.24679289262576867, 0.24680256358872552, 0.24772794709563886, 0.2469493588541891, 0.2468238743236528, 0.24690552580955694, 0.24682264111361132, 0.2468271845190273, 0.24846490908937285, 8363.810312538537, 1280.0420340806045, 413.8891521193335, 217.56908920085897, 114.38702798483284, 79.65746093596141, 21.241884374600684, 9.221318747843124, 0.23362206455819956, 0.2324865885267419, 0.23247005327071368, 0.23237644305252395, 0.2322946142042543, 0.23215788830597098, 0.23203304712295794, 0.23205485299184517, 0.23213597909173359, 0.23200367637443783, 0.23205522503510578, 0.23198003095831748, 0.23213860406362807, 0.23197186667565353, 0.23196781553792664, 0.23196700944419527, 0.23193821742963613, 0.23192608468552542, 0.2319895387305337, 0.2319404290201299, 0.23191215373232166, 0.23191215373232166, 0.2321302330902638, 0.2319878438667908, 0.2321914135375682, 0.23273928857699314, 0.23198184983648057, 0.25420748686703803, 0.2319698411067901, 4006.694498212565, 1788.840196101718, 1428.1920661910324, 399.7732304110061, 44.772921449971584, 27.91642716823173, 26.770790217241927, 357.4175210346116, 1228.1780238500883, 0.13468398712253926, 0.13468398712253926, 0.13488730095398432, 0.1337369380518755, 0.13420695514360895, 0.13371063713727327, 0.1336523172907739, 0.13367009030329366, 0.13361100412457952, 0.13359021490706055, 0.13354249598953233, 0.13354847927567082, 0.13365963674590228, 0.13354847927567082, 0.13354278090791988, 0.13354595430927083, 0.13357727568235708, 0.133502410919836, 0.13350766717284765, 0.13352094043979856, 0.13350484746328814, 997.4097150117508, 0.13448416108514863, 0.13357051623923183, 0.1336997807642305, 0.1579419242218976, 0.14190135304522358, 2871.6755581553707, 2055.7793592619555, 977.3430374573347, 506.0721425734628, 457.42914566491277, 266.79145729736547, 254.75534297122778, 100.15334797002816, 79.80934746452158, 66.42772526377473, 42.22268990998866, 39.794072639139365, 22.70389822822478, 0.38346148547227443, 0.38346738937399544, 0.3802122381369878, 0.3801351538608455, 0.3798827537234294, 0.3796687789802651, 0.37966664423614, 0.37966664423614, 0.3796332555038084, 0.37960193480484794, 0.37960193480484794, 0.37960193480484794, 0.3796016012510784, 0.37966664423614, 0.37948795948179376, 0.3794896939613954, 0.3794691804045683, 0.37961734498900096, 0.3796118079964265, 0.3820250695190979, 17.507866985408114, 0.3805759118119247, 0.3796280854203804, 3981.0380150419464, 1766.7154447615892, 414.52331971669037, 295.6153751542349, 210.51190337670093, 143.80585056258127, 25.935356741860385, 18.983776463525768, 7.405708342896804, 0.31936527938483267, 0.31767042396210204, 0.31767042396210204, 0.3172697299414148, 0.3172697299414148, 0.31948582332737674, 0.315034222236782, 0.3138053980455436, 0.31294494960315994, 0.3127828619381067, 0.3127828619381067, 0.31281900468474505, 0.3125574806747402, 0.3126972929636343, 0.31247573617507357, 0.3124440309869886, 0.31229683249866036, 0.312140671309833, 0.312140671309833, 0.3121413427825088, 0.31203145481938555, 0.3121586259052955, 0.3155693567649567], \"Total\": [18725.0, 36749.0, 8367.0, 19416.0, 9653.0, 7648.0, 6860.0, 5950.0, 6424.0, 5047.0, 5048.0, 8833.0, 5410.0, 5147.0, 3984.0, 4863.0, 4904.0, 4010.0, 4401.0, 5177.0, 4500.0, 3614.0, 3452.0, 4468.0, 4080.0, 3506.0, 2874.0, 3218.0, 3186.0, 2818.0, 5177.732283397715, 8833.643704208858, 19416.205080843556, 36749.52514001562, 3.594127160294065, 3.592673953831833, 3.594843184273549, 3.5831327348879514, 3.5826045181123547, 3.584247623958502, 3.5835176890670306, 3.5838766003114157, 3.583934651585952, 3.582478448474869, 3.580988704835275, 3.58156077937259, 3.5859733798419215, 3.5829234880472502, 3.5836899486490053, 3.5833190303793367, 3.5821316181073994, 3.5814941657409705, 3.5817598939208173, 3.580879730024831, 3.580883156495129, 3.5810653718895047, 3.5818438719508094, 3.580861081877326, 3.583633327843179, 3.5808842703789017, 3.5827389273223846, 3.6180287896762318, 3.584977409122887, 3.5829341878381467, 3.5829557854411904, 7648.457493902148, 151.83682782440334, 6424.575899926414, 4500.061125196526, 4080.6716907118202, 191.08872872197438, 35.92783391402841, 8833.643704208858, 36749.52514001562, 43.02134372449618, 3.582500037126214, 3.594843184273549, 3.581465372488754, 3.5812321370691205, 3.581211168914783, 3.583633327843179, 3.5822828659419814, 3.594127160294065, 3.5826045181123547, 3.58120234276264, 3.5821316181073994, 3.5847083497258456, 3.581061181347293, 3.5811636329972245, 3.5838766003114157, 3.5827389273223846, 3.5831327348879514, 3.5822755993116373, 3.5835335692584147, 3.580885527652441, 3.580985746521537, 3.581601172483934, 3.581917338168209, 202.2878110386933, 3.584977409122887, 3.5829605427167706, 3.592673953831833, 3.6180287896762318, 19.057055426015673, 7648.457493902148, 864.7522568203085, 1419.9259224914076, 18725.5968674365, 2701.196619365944, 941.8318572315658, 190.18946676286032, 34.62787385795256, 6.283212777395574, 3.5827389273223846, 3.5813822958474595, 3.581250910442426, 3.5836899486490053, 3.584729247065494, 3.583795490908138, 3.5839588734943035, 3.5834229096353027, 3.5833843872272526, 3.5811422690894874, 3.5817688738366256, 3.5826045181123547, 3.583633327843179, 3.582027846722614, 3.5808876763228534, 3.581258684740251, 3.5808744203582457, 3.5810454899802053, 3.5829605427167706, 3.5808744557841354, 3.581180828820547, 3.580928843577012, 3.582036622411075, 3.5813826620105624, 3.594843184273549, 3.5847083497258456, 3.5835176890670306, 3.583934651585952, 3.592673953831833, 3.5831243201773058, 3.5853446200702432, 3.583973170771971, 3.5859733798419215, 3506.451614957921, 375.2930553561645, 1419.9259224914076, 9653.722553898568, 2528.805303307392, 2495.308214762392, 1173.7513563960292, 191.48838141584827, 161.68509109882206, 153.0394199296918, 79.7885831650385, 4468.172537914448, 15.42423676879739, 14.777788198998318, 9.756515696440207, 9.67531714517847, 6.224720609593685, 4.311051021754901, 3.584729247065494, 3.584977409122887, 3.5816334315087905, 3.592673953831833, 3.581917338168209, 3.594843184273549, 3.5853446200702432, 3.5829605427167706, 3.584247623958502, 3.58158038152812, 3.5833190303793367, 3.5838766003114157, 3.5814254076423957, 3.581662507033288, 3.5812354210654673, 3.594127160294065, 36749.52514001562, 3.5836899486490053, 1419.9259224914076, 19416.205080843556, 3.6180287896762318, 175.9496283151904, 7648.457493902148, 47.93741522539595, 2701.196619365944, 5410.14200481111, 1524.3580110016194, 1305.798188019384, 151.83682782440334, 142.69339189895754, 135.491343165977, 84.11102602733926, 44.10019196726901, 30.22192454989106, 32.72131299941937, 5.78521747147355, 5.2792672728731, 5.2792672728731, 218.4893343847056, 19416.205080843556, 36749.52514001562, 3.594127160294065, 3.5832530193736627, 3.592673953831833, 3.581906249028365, 3.581845823252694, 3.581841657925594, 3.5838766003114157, 3.5817273716240736, 3.5831327348879514, 3.581268250394534, 3.581226495774123, 3.5830952417028206, 3.581196874699139, 3.582995850726804, 3.594843184273549, 3.5859733798419215, 3.6180287896762318, 1419.9259224914076, 7648.457493902148, 5147.811346940082, 4904.23051831547, 1735.4728992663831, 1182.877144445527, 1046.8616691049133, 827.7449481489522, 663.3621027340898, 630.2995387934792, 469.36324353920537, 17.435348990628665, 7.865248971130751, 6.771444326391057, 3.5853446200702432, 3.5815333726403225, 3.5816593777746597, 3.5814536789463824, 3.5827389273223846, 3.5814062473205786, 3.581258684740251, 3.5813905448868395, 3.5829234880472502, 3.5823013517559956, 3.5821638367032653, 3.5818114553626224, 3.5822755993116373, 3.581112950360975, 3.5812057118099903, 3.581103955437701, 3.582430486628499, 3.5810312929813133, 3.5818769205849703, 3.5829557854411904, 3.5829341878381467, 3.5834229096353027, 3.5831243201773058, 3.6180287896762318, 3.5872560597314394, 3.594843184273549, 897.6449496745279, 170.4856699787357, 6424.575899926414, 2701.196619365944, 7648.457493902148, 3506.451614957921, 4863.084196012466, 1053.9795661121573, 7648.457493902148, 284.9731034797318, 128.457227022336, 71.81021734244422, 47.93741522539595, 32.470875960583385, 23.416243954905983, 2972.297765268301, 3.581786813348809, 3.5810137022667172, 3.5810113592768547, 3.5812575890023357, 3.5817458482419458, 3.581461921278617, 3.582951679564147, 3.5810818075214383, 3.5823538669024533, 3.5808947508455145, 3.5808947508455145, 3.5808947508455145, 3.5809379463435853, 3.580927307563548, 3.5809403883222357, 3.580877952727283, 3.580878455492723, 3.580869666964918, 3.580975970552891, 3.580978656267339, 3.5816186622394266, 3.6180287896762318, 3.5815175022252834, 3.5835900479246656, 19416.205080843556, 36749.52514001562, 3.583525170830285, 3.583973170771971, 3.582278501753252, 3.594127160294065, 3.583795490908138, 5410.14200481111, 5177.732283397715, 5950.877779996792, 3506.451614957921, 2818.4712347835107, 1796.6972709683153, 382.35525103006285, 296.94800278861146, 182.58337743052624, 106.43865929722658, 86.78377088047118, 48.079487912085256, 24.799739172478866, 20.405514056679497, 11.220397188048826, 3.5836741085515182, 3.582995850726804, 3.5820988200926456, 3.5835335692584147, 3.584247623958502, 3.581142376801445, 3.5811162507708323, 3.5810085522338992, 3.5811139057418906, 3.5847083497258456, 3.583633327843179, 3.5814075589138143, 3.580939875529853, 3.580920521810807, 3.581917338168209, 3.582478448474869, 3.5810976203785305, 3.5838766003114157, 3.594843184273549, 3.583795490908138, 3.6180287896762318, 3.594127160294065, 3.584729247065494, 3.592673953831833, 36749.52514001562, 1419.9259224914076, 417.8021594579244, 32.72131299941937, 7648.457493902148, 564.939817828289, 19416.205080843556, 1753.6297264889793, 558.0720489811152, 398.1825378588542, 86.72193566278514, 36749.52514001562, 3.6180287896762318, 3.584729247065494, 3.581601172483934, 3.594843184273549, 3.5822455300063, 3.5817822105732304, 3.5811585785743922, 3.5811585785743922, 3.5811282051705193, 3.5813015231404988, 3.582500037126214, 3.5826477179347496, 3.581385739786838, 3.583633327843179, 3.5830952417028206, 3.581121013229853, 3.582063639455944, 3.581083379445997, 3.58156077937259, 3.5811018848702094, 3.581798953378297, 3.581303263535454, 3.582062734401914, 3.581461921278617, 3.5835176890670306, 3.5859733798419215, 3.581902080265444, 3.592673953831833, 3.594127160294065, 3.5853446200702432, 7648.457493902148, 4401.7088212119215, 3186.51471564455, 1302.47970581082, 1287.7049008403264, 1133.959195082628, 1002.8500861569887, 696.7108558242558, 375.2930553561645, 254.9432125944718, 204.43882963295098, 176.89137469510933, 130.3110683488474, 122.37608000737636, 96.02789688070087, 80.95502878400448, 41.29977490627485, 40.15552903606463, 32.28857127993483, 7.609064276106593, 85.86598454271578, 162.8948731331516, 3.594843184273549, 3.583934651585952, 3.5847083497258456, 3.581497478993337, 3.5831327348879514, 3.581906249028365, 3.5813018608118847, 3.581845823252694, 3.594127160294065, 3.6180287896762318, 3.5839588734943035, 1419.9259224914076, 7648.457493902148, 19416.205080843556, 36749.52514001562, 5048.901126922508, 263.97124767036763, 232.41223645353315, 213.9969694443671, 207.81252382071213, 184.90651146145132, 175.9496283151904, 170.83125132022516, 95.71773800483054, 87.09411408680778, 38.97077057529577, 32.00206624943225, 30.332714325430857, 14.251050682386678, 11.038757025016855, 19416.205080843556, 36749.52514001562, 3.594127160294065, 3.592673953831833, 3.5826219613511228, 3.581662507033288, 3.5829341878381467, 3.5829557854411904, 3.5813840117449116, 3.581339005184746, 3.584247623958502, 3.5811180277128534, 3.581140409717582, 3.6180287896762318, 3.582478448474869, 3.584977409122887, 3.594843184273549, 7648.457493902148, 4468.172537914448, 790.4093270929085, 6860.864402889466, 3614.8638319978454, 1219.8414381940497, 548.199345001329, 489.5960450024219, 152.27801367716782, 58.54576484360615, 24.87960372453235, 7.204525192142272, 3.6180287896762318, 3.5847596906012758, 3.582705127539417, 3.583018438560528, 3.5822053778802943, 3.5833190303793367, 3.581721707993924, 3.581684239541411, 3.5818853064807326, 3.581534696713457, 3.5816781269929354, 3.581293395302854, 3.5813325751381857, 3.581386133760879, 3.582036622411075, 3.581535747037667, 3.5821638367032653, 3.581893098064593, 3.5831243201773058, 3.5835176890670306, 3.581917338168209, 3.5853446200702432, 3.592673953831833, 36749.52514001562, 18725.5968674365, 1419.9259224914076, 6424.575899926414, 19416.205080843556, 3218.8281934899865, 1506.9610823153325, 897.6449496745279, 864.7522568203085, 1419.9259224914076, 569.3986626340503, 491.1233787309044, 480.814889592959, 466.61404788019354, 365.75364753501196, 222.95366033381393, 170.4856699787357, 157.42607699760399, 51.8302897454431, 27.15900025948786, 24.203030663621025, 13.65366435547919, 2972.297765268301, 5.635244875233377, 3.583795490908138, 3.5825504995810302, 3.583973170771971, 3.5830952417028206, 3.581568086253337, 3.5816427114361913, 3.582430486628499, 3.582380139941675, 3.5812901008014117, 3.5835335692584147, 3.581338051576254, 3.5847083497258456, 3.6180287896762318, 3.594127160294065, 22.259691273936724, 7648.457493902148, 191.08872872197438, 47.93741522539595, 3452.711683119511, 2087.6758381272143, 1823.1941021535715, 1318.1039314574466, 790.4093270929085, 748.5598920774719, 564.939817828289, 273.1266788335478, 180.8210907678062, 162.57821137827113, 103.28460509591208, 83.34686943147484, 57.68175733019935, 53.61315521893638, 52.850641976089086, 38.58658988604494, 37.398386509811175, 27.30151149944259, 21.649453107705664, 17.327998679724526, 13.853264556863229, 12.488527931545809, 10.976413249249825, 10.347226648505883, 5.285879342916174, 3.5833843872272526, 3.5834229096353027, 3.583973170771971, 3.584977409122887, 3.5817688738366256, 3.594843184273549, 558.0720489811152, 7648.457493902148, 398.1825378588542, 1560.5099187227263, 1192.7890980640293, 954.7058735583295, 925.9108183113833, 853.938628286856, 838.0250842510952, 701.1756311678595, 665.4865966422901, 563.1734184522913, 540.6575965441863, 484.7953002342872, 287.64079919892424, 242.14811975648388, 210.3051382907638, 156.64040973266162, 153.1190231174101, 106.34881967999344, 66.82368826209385, 64.01370516998412, 43.33039767381556, 37.911435021435494, 36.3293944853869, 32.376327510340836, 30.537669343015782, 30.378031528949194, 27.931650546784617, 25.36178254067925, 23.820704683029174, 43.02134372449618, 19.057055426015673, 218.4893343847056, 162.8948731331516, 85.86598454271578, 5047.272518634131, 2543.6854307142, 1554.3203018426232, 875.3921440521492, 681.2743698499116, 202.2878110386933, 86.8032056549219, 13.775087615157608, 3.5859733798419215, 3.583525170830285, 3.5843864414466275, 3.582076867418495, 3.582076867418495, 3.582993026838288, 3.5826477179347496, 3.582278501753252, 3.582261535789584, 3.6180287896762318, 3.5839588734943035, 3.581299924630393, 3.5836899486490053, 3.581233945551009, 3.5811661804381183, 3.5810819628836157, 3.5810626927885956, 3.5810682687361055, 3.581118304875151, 3.581053021825638, 3.581053021825638, 3.581310060840468, 3.594843184273549, 3.5835900479246656, 3.582063639455944, 3.592673953831833, 3.583633327843179, 3.594127160294065, 7648.457493902148, 8367.159953707544, 1283.391143820007, 417.23827844589357, 220.91819863582614, 117.73614262203043, 83.00656915430928, 24.590992592948552, 12.570430598301671, 3.594843184273549, 3.5818769205849703, 3.583795490908138, 3.583973170771971, 3.5829234880472502, 3.581671340548319, 3.5811740917927057, 3.581615541529308, 3.5831243201773058, 3.5811244634932495, 3.5820284413235477, 3.5812202073480153, 3.583934651585952, 3.5814075589138143, 3.5814006569697847, 3.5814789848862643, 3.5812531063689583, 3.581071075144548, 3.582062734401914, 3.5813392013347336, 3.5810267044732083, 3.581027517429604, 3.584977409122887, 3.5835335692584147, 3.592673953831833, 3.6180287896762318, 3.5835900479246656, 7648.457493902148, 3.5836899486490053, 4010.1419657510037, 1792.287661187706, 1431.639533692466, 403.220696910664, 48.22038394647877, 31.363889874570248, 30.218252641386076, 4468.172537914448, 19416.205080843556, 3.5833843872272526, 3.5834229096353027, 3.592673953831833, 3.5814254076423957, 3.594127160294065, 3.5836899486490053, 3.5822828659419814, 3.5838766003114157, 3.5826045181123547, 3.582080108532214, 3.5810090911124464, 3.581233886384661, 3.584247623958502, 3.5812897586058368, 3.581147007793194, 3.5812571063017877, 3.582478448474869, 3.5810460558947206, 3.5812354210654673, 3.5817602966112583, 3.581456123892444, 36749.52514001562, 3.6180287896762318, 3.584977409122887, 3.594843184273549, 9653.722553898568, 7648.457493902148, 2874.877186350751, 2058.981005988308, 980.5446656527146, 509.2737995512443, 460.6307750625913, 269.9932974294406, 257.956971432488, 103.35497647438622, 83.01097639296704, 69.62935997134555, 45.424318115193245, 42.99570353389673, 25.905527475611454, 3.5852848224166687, 3.5859452999626384, 3.582409263672776, 3.5830476280574968, 3.581638600604487, 3.581363383267598, 3.581345624628854, 3.5816273413292157, 3.5813889358690227, 3.5812400365734263, 3.5812518794500328, 3.5813553685884365, 3.5817187505363774, 3.5825504995810302, 3.581237587024794, 3.581318927466731, 3.5812206991422677, 3.5829605427167706, 3.582993026838288, 3.6180287896762318, 7648.457493902148, 2701.196619365944, 8367.159953707544, 3984.307247543832, 1769.9846773061815, 417.8021594579244, 298.8846085581397, 213.78113552588954, 147.0750830915411, 29.204593128898743, 22.259691273936724, 10.674940988032004, 3.5898896241216223, 3.58690249672672, 3.587063653518905, 3.586501802706033, 3.5872560597314394, 3.6180287896762318, 3.5845625896884377, 3.58330635307256, 3.5823921443704108, 3.5821696228837046, 3.5827147129901022, 3.5835900479246656, 3.5818360519976906, 3.5843864414466275, 3.58221418932676, 3.582951679564147, 3.581528905263278, 3.581384900492528, 3.581403425905999, 3.5814437021805263, 3.5812850881832476, 3.5830476280574968, 7648.457493902148], \"Category\": [\"Default\", \"Default\", \"Default\", \"Default\", \"Default\", \"Default\", \"Default\", \"Default\", \"Default\", \"Default\", \"Default\", \"Default\", \"Default\", \"Default\", \"Default\", \"Default\", \"Default\", \"Default\", \"Default\", \"Default\", \"Default\", \"Default\", \"Default\", \"Default\", \"Default\", \"Default\", \"Default\", \"Default\", \"Default\", \"Default\", \"Topic1\", \"Topic1\", \"Topic1\", \"Topic1\", \"Topic1\", \"Topic1\", \"Topic1\", \"Topic1\", \"Topic1\", \"Topic1\", \"Topic1\", \"Topic1\", \"Topic1\", \"Topic1\", \"Topic1\", \"Topic1\", \"Topic1\", \"Topic1\", \"Topic1\", \"Topic1\", \"Topic1\", \"Topic1\", \"Topic1\", \"Topic1\", \"Topic1\", \"Topic1\", \"Topic1\", \"Topic1\", \"Topic1\", \"Topic1\", \"Topic1\", \"Topic1\", \"Topic1\", \"Topic1\", \"Topic1\", \"Topic1\", \"Topic1\", \"Topic2\", \"Topic2\", \"Topic2\", \"Topic2\", \"Topic2\", \"Topic2\", \"Topic2\", \"Topic2\", \"Topic2\", \"Topic2\", \"Topic2\", \"Topic2\", \"Topic2\", \"Topic2\", \"Topic2\", \"Topic2\", \"Topic2\", \"Topic2\", \"Topic2\", \"Topic2\", \"Topic2\", \"Topic2\", \"Topic2\", \"Topic2\", \"Topic2\", \"Topic2\", \"Topic2\", \"Topic2\", \"Topic2\", \"Topic2\", \"Topic2\", \"Topic2\", \"Topic2\", \"Topic2\", \"Topic2\", \"Topic2\", \"Topic2\", \"Topic2\", \"Topic2\", \"Topic2\", \"Topic3\", \"Topic3\", \"Topic3\", \"Topic3\", \"Topic3\", \"Topic3\", \"Topic3\", \"Topic3\", \"Topic3\", \"Topic3\", \"Topic3\", \"Topic3\", \"Topic3\", \"Topic3\", \"Topic3\", \"Topic3\", \"Topic3\", \"Topic3\", \"Topic3\", \"Topic3\", \"Topic3\", \"Topic3\", \"Topic3\", \"Topic3\", \"Topic3\", \"Topic3\", \"Topic3\", \"Topic3\", \"Topic3\", \"Topic3\", \"Topic3\", \"Topic3\", \"Topic3\", \"Topic3\", \"Topic3\", \"Topic3\", \"Topic3\", \"Topic3\", \"Topic3\", \"Topic3\", \"Topic3\", \"Topic3\", \"Topic4\", \"Topic4\", \"Topic4\", \"Topic4\", \"Topic4\", \"Topic4\", \"Topic4\", \"Topic4\", \"Topic4\", \"Topic4\", \"Topic4\", \"Topic4\", \"Topic4\", \"Topic4\", \"Topic4\", \"Topic4\", \"Topic4\", \"Topic4\", \"Topic4\", \"Topic4\", \"Topic4\", \"Topic4\", \"Topic4\", \"Topic4\", \"Topic4\", \"Topic4\", \"Topic4\", \"Topic4\", \"Topic4\", \"Topic4\", \"Topic4\", \"Topic4\", \"Topic4\", \"Topic4\", \"Topic4\", \"Topic4\", \"Topic4\", \"Topic4\", \"Topic4\", \"Topic4\", \"Topic5\", \"Topic5\", \"Topic5\", \"Topic5\", \"Topic5\", \"Topic5\", \"Topic5\", \"Topic5\", \"Topic5\", \"Topic5\", \"Topic5\", \"Topic5\", \"Topic5\", \"Topic5\", \"Topic5\", \"Topic5\", \"Topic5\", \"Topic5\", \"Topic5\", \"Topic5\", \"Topic5\", \"Topic5\", \"Topic5\", \"Topic5\", \"Topic5\", \"Topic5\", \"Topic5\", \"Topic5\", \"Topic5\", \"Topic5\", \"Topic5\", \"Topic5\", \"Topic5\", \"Topic5\", \"Topic5\", \"Topic6\", \"Topic6\", \"Topic6\", \"Topic6\", \"Topic6\", \"Topic6\", \"Topic6\", \"Topic6\", \"Topic6\", \"Topic6\", \"Topic6\", \"Topic6\", \"Topic6\", \"Topic6\", \"Topic6\", \"Topic6\", \"Topic6\", \"Topic6\", \"Topic6\", \"Topic6\", \"Topic6\", \"Topic6\", \"Topic6\", \"Topic6\", \"Topic6\", \"Topic6\", \"Topic6\", \"Topic6\", \"Topic6\", \"Topic6\", \"Topic6\", \"Topic6\", \"Topic6\", \"Topic6\", \"Topic6\", \"Topic6\", \"Topic6\", \"Topic6\", \"Topic6\", \"Topic6\", \"Topic6\", \"Topic6\", \"Topic6\", \"Topic6\", \"Topic7\", \"Topic7\", \"Topic7\", \"Topic7\", \"Topic7\", \"Topic7\", \"Topic7\", \"Topic7\", \"Topic7\", \"Topic7\", \"Topic7\", \"Topic7\", \"Topic7\", \"Topic7\", \"Topic7\", \"Topic7\", \"Topic7\", \"Topic7\", \"Topic7\", \"Topic7\", \"Topic7\", \"Topic7\", \"Topic7\", \"Topic7\", \"Topic7\", \"Topic7\", \"Topic7\", \"Topic7\", \"Topic7\", \"Topic7\", \"Topic7\", \"Topic7\", \"Topic7\", \"Topic7\", \"Topic7\", \"Topic7\", \"Topic7\", \"Topic7\", \"Topic7\", \"Topic7\", \"Topic7\", \"Topic7\", \"Topic7\", \"Topic8\", \"Topic8\", \"Topic8\", \"Topic8\", \"Topic8\", \"Topic8\", \"Topic8\", \"Topic8\", \"Topic8\", \"Topic8\", \"Topic8\", \"Topic8\", \"Topic8\", \"Topic8\", \"Topic8\", \"Topic8\", \"Topic8\", \"Topic8\", \"Topic8\", \"Topic8\", \"Topic8\", \"Topic8\", \"Topic8\", \"Topic8\", \"Topic8\", \"Topic8\", \"Topic8\", \"Topic8\", \"Topic8\", \"Topic8\", \"Topic8\", \"Topic8\", \"Topic8\", \"Topic8\", \"Topic8\", \"Topic8\", \"Topic8\", \"Topic8\", \"Topic8\", \"Topic8\", \"Topic8\", \"Topic8\", \"Topic8\", \"Topic8\", \"Topic9\", \"Topic9\", \"Topic9\", \"Topic9\", \"Topic9\", \"Topic9\", \"Topic9\", \"Topic9\", \"Topic9\", \"Topic9\", \"Topic9\", \"Topic9\", \"Topic9\", \"Topic9\", \"Topic9\", \"Topic9\", \"Topic9\", \"Topic9\", \"Topic9\", \"Topic9\", \"Topic9\", \"Topic9\", \"Topic9\", \"Topic9\", \"Topic9\", \"Topic9\", \"Topic9\", \"Topic9\", \"Topic9\", \"Topic9\", \"Topic9\", \"Topic9\", \"Topic9\", \"Topic9\", \"Topic9\", \"Topic9\", \"Topic10\", \"Topic10\", \"Topic10\", \"Topic10\", \"Topic10\", \"Topic10\", \"Topic10\", \"Topic10\", \"Topic10\", \"Topic10\", \"Topic10\", \"Topic10\", \"Topic10\", \"Topic10\", \"Topic10\", \"Topic10\", \"Topic10\", \"Topic10\", \"Topic10\", \"Topic10\", \"Topic10\", \"Topic10\", \"Topic10\", \"Topic10\", \"Topic10\", \"Topic10\", \"Topic10\", \"Topic10\", \"Topic10\", \"Topic10\", \"Topic10\", \"Topic10\", \"Topic10\", \"Topic10\", \"Topic10\", \"Topic10\", \"Topic11\", \"Topic11\", \"Topic11\", \"Topic11\", \"Topic11\", \"Topic11\", \"Topic11\", \"Topic11\", \"Topic11\", \"Topic11\", \"Topic11\", \"Topic11\", \"Topic11\", \"Topic11\", \"Topic11\", \"Topic11\", \"Topic11\", \"Topic11\", \"Topic11\", \"Topic11\", \"Topic11\", \"Topic11\", \"Topic11\", \"Topic11\", \"Topic11\", \"Topic11\", \"Topic11\", \"Topic11\", \"Topic11\", \"Topic11\", \"Topic11\", \"Topic11\", \"Topic11\", \"Topic11\", \"Topic11\", \"Topic12\", \"Topic12\", \"Topic12\", \"Topic12\", \"Topic12\", \"Topic12\", \"Topic12\", \"Topic12\", \"Topic12\", \"Topic12\", \"Topic12\", \"Topic12\", \"Topic12\", \"Topic12\", \"Topic12\", \"Topic12\", \"Topic12\", \"Topic12\", \"Topic12\", \"Topic12\", \"Topic12\", \"Topic12\", \"Topic12\", \"Topic12\", \"Topic12\", \"Topic12\", \"Topic12\", \"Topic12\", \"Topic12\", \"Topic12\", \"Topic12\", \"Topic12\", \"Topic12\", \"Topic12\", \"Topic12\", \"Topic12\", \"Topic12\", \"Topic13\", \"Topic13\", \"Topic13\", \"Topic13\", \"Topic13\", \"Topic13\", \"Topic13\", \"Topic13\", \"Topic13\", \"Topic13\", \"Topic13\", \"Topic13\", \"Topic13\", \"Topic13\", \"Topic13\", \"Topic13\", \"Topic13\", \"Topic13\", \"Topic13\", \"Topic13\", \"Topic13\", \"Topic13\", \"Topic13\", \"Topic13\", \"Topic13\", \"Topic13\", \"Topic13\", \"Topic13\", \"Topic13\", \"Topic13\", \"Topic13\", \"Topic13\", \"Topic13\", \"Topic13\", \"Topic13\", \"Topic13\", \"Topic13\", \"Topic14\", \"Topic14\", \"Topic14\", \"Topic14\", \"Topic14\", \"Topic14\", \"Topic14\", \"Topic14\", \"Topic14\", \"Topic14\", \"Topic14\", \"Topic14\", \"Topic14\", \"Topic14\", \"Topic14\", \"Topic14\", \"Topic14\", \"Topic14\", \"Topic14\", \"Topic14\", \"Topic14\", \"Topic14\", \"Topic14\", \"Topic14\", \"Topic14\", \"Topic14\", \"Topic14\", \"Topic14\", \"Topic14\", \"Topic14\", \"Topic14\", \"Topic14\", \"Topic14\", \"Topic14\", \"Topic15\", \"Topic15\", \"Topic15\", \"Topic15\", \"Topic15\", \"Topic15\", \"Topic15\", \"Topic15\", \"Topic15\", \"Topic15\", \"Topic15\", \"Topic15\", \"Topic15\", \"Topic15\", \"Topic15\", \"Topic15\", \"Topic15\", \"Topic15\", \"Topic15\", \"Topic15\", \"Topic15\", \"Topic15\", \"Topic15\", \"Topic15\", \"Topic15\", \"Topic15\", \"Topic15\", \"Topic15\", \"Topic15\", \"Topic15\", \"Topic15\", \"Topic15\", \"Topic15\", \"Topic16\", \"Topic16\", \"Topic16\", \"Topic16\", \"Topic16\", \"Topic16\", \"Topic16\", \"Topic16\", \"Topic16\", \"Topic16\", \"Topic16\", \"Topic16\", \"Topic16\", \"Topic16\", \"Topic16\", \"Topic16\", \"Topic16\", \"Topic16\", \"Topic16\", \"Topic16\", \"Topic16\", \"Topic16\", \"Topic16\", \"Topic16\", \"Topic16\", \"Topic16\", \"Topic16\", \"Topic16\", \"Topic16\", \"Topic16\", \"Topic16\", \"Topic16\", \"Topic16\", \"Topic16\", \"Topic16\", \"Topic16\", \"Topic16\", \"Topic17\", \"Topic17\", \"Topic17\", \"Topic17\", \"Topic17\", \"Topic17\", \"Topic17\", \"Topic17\", \"Topic17\", \"Topic17\", \"Topic17\", \"Topic17\", \"Topic17\", \"Topic17\", \"Topic17\", \"Topic17\", \"Topic17\", \"Topic17\", \"Topic17\", \"Topic17\", \"Topic17\", \"Topic17\", \"Topic17\", \"Topic17\", \"Topic17\", \"Topic17\", \"Topic17\", \"Topic17\", \"Topic17\", \"Topic17\", \"Topic17\", \"Topic17\", \"Topic17\", \"Topic17\", \"Topic17\", \"Topic17\", \"Topic17\", \"Topic18\", \"Topic18\", \"Topic18\", \"Topic18\", \"Topic18\", \"Topic18\", \"Topic18\", \"Topic18\", \"Topic18\", \"Topic18\", \"Topic18\", \"Topic18\", \"Topic18\", \"Topic18\", \"Topic18\", \"Topic18\", \"Topic18\", \"Topic18\", \"Topic18\", \"Topic18\", \"Topic18\", \"Topic18\", \"Topic18\", \"Topic18\", \"Topic18\", \"Topic18\", \"Topic18\", \"Topic18\", \"Topic18\", \"Topic18\", \"Topic18\", \"Topic18\", \"Topic18\", \"Topic18\", \"Topic18\", \"Topic18\", \"Topic19\", \"Topic19\", \"Topic19\", \"Topic19\", \"Topic19\", \"Topic19\", \"Topic19\", \"Topic19\", \"Topic19\", \"Topic19\", \"Topic19\", \"Topic19\", \"Topic19\", \"Topic19\", \"Topic19\", \"Topic19\", \"Topic19\", \"Topic19\", \"Topic19\", \"Topic19\", \"Topic19\", \"Topic19\", \"Topic19\", \"Topic19\", \"Topic19\", \"Topic19\", \"Topic19\", \"Topic19\", \"Topic19\", \"Topic19\", \"Topic19\", \"Topic19\", \"Topic19\", \"Topic19\", \"Topic19\", \"Topic19\", \"Topic20\", \"Topic20\", \"Topic20\", \"Topic20\", \"Topic20\", \"Topic20\", \"Topic20\", \"Topic20\", \"Topic20\", \"Topic20\", \"Topic20\", \"Topic20\", \"Topic20\", \"Topic20\", \"Topic20\", \"Topic20\", \"Topic20\", \"Topic20\", \"Topic20\", \"Topic20\", \"Topic20\", \"Topic20\", \"Topic20\", \"Topic20\", \"Topic20\", \"Topic20\", \"Topic20\", \"Topic20\", \"Topic20\", \"Topic20\", \"Topic20\", \"Topic20\"], \"logprob\": [30.0, 29.0, 28.0, 27.0, 26.0, 25.0, 24.0, 23.0, 22.0, 21.0, 20.0, 19.0, 18.0, 17.0, 16.0, 15.0, 14.0, 13.0, 12.0, 11.0, 10.0, 9.0, 8.0, 7.0, 6.0, 5.0, 4.0, 3.0, 2.0, 1.0, -1.824, -1.7612, -1.1168, -1.115, -12.6624, -12.6719, -12.6778, -12.6823, -12.6834, -12.6834, -12.6842, -12.6844, -12.6846, -12.685, -12.6855, -12.6855, -12.6844, -12.6857, -12.6855, -12.6856, -12.686, -12.6863, -12.6863, -12.6865, -12.6865, -12.6866, -12.6863, -12.6867, -12.686, -12.6868, -12.6863, -12.6776, -12.6858, -12.6863, -12.6863, -12.2751, -12.6824, -1.2854, -1.6417, -1.7396, -4.8186, -6.5741, -1.9449, -1.6588, -8.7045, -12.7079, -12.712, -12.716, -12.7169, -12.7171, -12.7168, -12.7173, -12.7143, -12.7176, -12.7183, -12.7183, -12.7177, -12.7187, -12.7187, -12.7183, -12.7186, -12.7185, -12.7188, -12.7187, -12.7195, -12.7195, -12.7193, -12.7192, -9.3852, -12.7186, -12.719, -12.7177, -12.7153, -12.403, -12.6734, -12.7048, -12.7127, -0.2008, -2.138, -3.194, -4.8087, -6.6, -9.0141, -12.5376, -12.5384, -12.5385, -12.5378, -12.5376, -12.538, -12.538, -12.5382, -12.5383, -12.5389, -12.5388, -12.5386, -12.5383, -12.5388, -12.5392, -12.5392, -12.5393, -12.5393, -12.5388, -12.5393, -12.5393, -12.5393, -12.539, -12.5393, -12.5358, -12.5384, -12.5387, -12.5387, -12.5369, -12.5389, -12.5387, -12.5389, -12.5389, -12.2093, -12.5019, -12.5381, -0.7821, -2.1227, -2.1361, -2.8919, -4.7204, -4.893, -4.9492, -5.6221, -1.6363, -7.4768, -7.5325, -8.1205, -8.1335, -8.9481, -10.1451, -12.2627, -12.2683, -12.2726, -12.2717, -12.2753, -12.2718, -12.2745, -12.2753, -12.2749, -12.2758, -12.2761, -12.2759, -12.2767, -12.2767, -12.2769, -12.2734, -4.831, -12.2762, -9.1974, -8.4169, -12.2725, -12.2246, -12.2701, -12.2739, -12.274, -1.2395, -2.5078, -2.6629, -4.8351, -4.8987, -4.9518, -5.4448, -6.1302, -6.548, -6.77, -8.9931, -9.2391, -9.2391, -5.6397, -1.448, -1.3256, -11.9626, -11.9714, -11.975, -11.9841, -11.9843, -11.9847, -11.9851, -11.9859, -11.9861, -11.9871, -11.9872, -11.9869, -11.9874, -11.987, -11.984, -11.9863, -11.9821, -9.6362, -10.6471, -1.2113, -1.2598, -2.2999, -2.6842, -2.8067, -3.0424, -3.2648, -3.3162, -3.6129, -7.1154, -8.2605, -8.5415, -11.4567, -11.4605, -11.4612, -11.4621, -11.4618, -11.4621, -11.4622, -11.4622, -11.4619, -11.4621, -11.4621, -11.4623, -11.4623, -11.4626, -11.4627, -11.4627, -11.4624, -11.4628, -11.4625, -11.4623, -11.4623, -11.4622, -11.4623, -11.4578, -11.4619, -11.4613, -11.2786, -11.4206, -11.3998, -11.4176, -11.46, -11.4613, -1.1979, -2.7294, -0.7496, -4.0458, -4.8568, -5.4591, -5.8873, -6.3123, -6.6834, -3.0215, -10.841, -10.8414, -10.8414, -10.8414, -10.8414, -10.8416, -10.8412, -10.8417, -10.8414, -10.8418, -10.8418, -10.8418, -10.8418, -10.8418, -10.8418, -10.8419, -10.8419, -10.8419, -10.8418, -10.8419, -10.8417, -10.8342, -10.8418, -10.8414, -6.4567, -6.2553, -10.8416, -10.8416, -10.8418, -10.8417, -10.8418, -10.841, -10.8414, -0.9639, -1.4933, -1.7119, -2.1628, -3.7174, -3.9728, -4.4746, -5.0202, -5.232, -5.8567, -6.5946, -6.8253, -7.6071, -11.8478, -11.8518, -11.8557, -11.8605, -11.8633, -11.8655, -11.8655, -11.8657, -11.866, -11.865, -11.8654, -11.8663, -11.8665, -11.8665, -11.8663, -11.8661, -11.8665, -11.8659, -11.8641, -11.8661, -11.8617, -11.8648, -11.866, -11.8652, -9.6776, -10.7957, -11.7832, -11.8228, -11.8457, -11.8566, -11.8573, -2.1664, -3.3155, -3.6555, -5.2108, -0.2674, -11.1565, -11.1661, -11.1703, -11.1666, -11.1702, -11.1705, -11.1706, -11.1706, -11.1708, -11.1709, -11.1706, -11.1706, -11.171, -11.1704, -11.1706, -11.1711, -11.1709, -11.1712, -11.1711, -11.1712, -11.171, -11.1712, -11.171, -11.1712, -11.1707, -11.1701, -11.1711, -11.1702, -11.1702, -11.1711, -11.1683, -1.24, -1.5633, -2.4595, -2.471, -2.5985, -2.7217, -3.0875, -3.7104, -4.1014, -4.3255, -4.4729, -4.7856, -4.8502, -5.1005, -5.2782, -5.9944, -6.0251, -6.2661, -8.1958, -6.2171, -5.7058, -11.4303, -11.4345, -11.4361, -11.438, -11.4377, -11.4386, -11.4389, -11.4388, -11.4355, -11.4331, -11.4386, -9.252, -11.2557, -11.2421, -11.3455, -1.0637, -4.0271, -4.1562, -4.2401, -4.2699, -4.3887, -4.4394, -4.4694, -5.0648, -5.1629, -6.0188, -6.2369, -6.2971, -7.2069, -7.5584, -1.497, -1.3057, -11.3631, -11.3643, -11.3685, -11.3711, -11.3711, -11.3711, -11.3721, -11.3722, -11.3715, -11.3732, -11.3732, -11.3631, -11.3731, -11.3726, -11.3715, -8.1037, -11.1613, -11.355, -0.6932, -1.3344, -2.4226, -3.2258, -3.3396, -4.523, -5.5159, -6.458, -8.1835, -11.0823, -11.0931, -11.0992, -11.0998, -11.1009, -11.1015, -11.1031, -11.1044, -11.1045, -11.1046, -11.1045, -11.1047, -11.1047, -11.1047, -11.1046, -11.1047, -11.1045, -11.1047, -11.1046, -11.1046, -11.105, -11.1043, -11.1033, -8.8395, -9.0948, -11.101, -11.1011, -11.1046, -1.4435, -2.2036, -2.7233, -2.7607, -2.2665, -3.1807, -3.3295, -3.3509, -3.3811, -3.6267, -4.1278, -4.4009, -4.4823, -5.6398, -6.3527, -6.4857, -7.1949, -1.83, -8.7302, -11.4314, -11.4335, -11.4332, -11.4335, -11.4341, -11.4341, -11.4339, -11.4339, -11.4344, -11.4343, -11.4351, -11.4341, -11.4316, -11.4342, -11.3931, -11.3751, -11.4161, -11.434, -1.2695, -1.7732, -1.9089, -2.2341, -2.7472, -2.8019, -3.0848, -3.8182, -4.2372, -4.3458, -4.812, -5.0349, -5.4225, -5.5005, -5.5158, -5.8567, -5.8911, -6.2443, -6.515, -6.7864, -7.0751, -7.216, -7.3995, -7.487, -8.8183, -11.5991, -11.5991, -11.6, -11.5997, -11.6013, -11.5988, -11.4805, -11.5212, -11.5971, -2.0365, -2.3059, -2.5293, -2.56, -2.6412, -2.6601, -2.8392, -2.8917, -3.0596, -3.1006, -3.2104, -3.7372, -3.9116, -4.0548, -4.355, -4.3782, -4.7527, -5.237, -5.2823, -5.6996, -5.8453, -5.8922, -6.02, -6.0856, -6.0915, -6.1865, -6.297, -6.3697, -5.8076, -6.6368, -4.3841, -4.6947, -5.4296, -0.8579, -1.5437, -2.0372, -2.6129, -2.8647, -4.1031, -4.9593, -7.0381, -10.7743, -10.7757, -10.7781, -10.7789, -10.7789, -10.7789, -10.7795, -10.7798, -10.7806, -10.7716, -10.7815, -10.7823, -10.7818, -10.7826, -10.7827, -10.7829, -10.783, -10.783, -10.783, -10.783, -10.783, -10.783, -10.7792, -10.7824, -10.7829, -10.7825, -10.7829, -10.7829, -10.7763, -0.3064, -2.1835, -3.3125, -3.9556, -4.5985, -4.9604, -6.2821, -7.1166, -10.7922, -10.797, -10.7971, -10.7975, -10.7979, -10.7985, -10.799, -10.7989, -10.7985, -10.7991, -10.7989, -10.7992, -10.7985, -10.7993, -10.7993, -10.7993, -10.7994, -10.7994, -10.7992, -10.7994, -10.7995, -10.7995, -10.7986, -10.7992, -10.7983, -10.7959, -10.7992, -10.7077, -10.7993, -0.9918, -1.7982, -2.0234, -3.2966, -5.4859, -5.9583, -6.0002, -3.4086, -2.1742, -11.2924, -11.2924, -11.2908, -11.2994, -11.2959, -11.2996, -11.3, -11.2999, -11.3004, -11.3005, -11.3009, -11.3008, -11.3, -11.3008, -11.3009, -11.3008, -11.3006, -11.3012, -11.3011, -11.301, -11.3011, -2.3824, -11.2938, -11.3007, -11.2997, -11.1331, -11.2402, -1.1609, -1.4951, -2.2387, -2.8969, -2.9979, -3.5371, -3.5832, -4.5168, -4.7439, -4.9274, -5.3806, -5.4398, -6.001, -10.0821, -10.082, -10.0906, -10.0908, -10.0914, -10.092, -10.092, -10.092, -10.0921, -10.0922, -10.0922, -10.0922, -10.0922, -10.092, -10.0925, -10.0925, -10.0925, -10.0921, -10.0922, -10.0858, -6.2609, -10.0896, -10.0921, -0.701, -1.5134, -2.9632, -3.3012, -3.6408, -4.0218, -5.7347, -6.0467, -6.9881, -10.1317, -10.137, -10.137, -10.1383, -10.1383, -10.1313, -10.1454, -10.1493, -10.152, -10.1526, -10.1526, -10.1524, -10.1533, -10.1528, -10.1535, -10.1536, -10.1541, -10.1546, -10.1546, -10.1546, -10.155, -10.1545, -10.1437], \"loglift\": [30.0, 29.0, 28.0, 27.0, 26.0, 25.0, 24.0, 23.0, 22.0, 21.0, 20.0, 19.0, 18.0, 17.0, 16.0, 15.0, 14.0, 13.0, 12.0, 11.0, 10.0, 9.0, 8.0, 7.0, 6.0, 5.0, 4.0, 3.0, 2.0, 1.0, 2.2836, 1.8121, 1.669, 1.0328, -1.2821, -1.2911, -1.2977, -1.2988, -1.2998, -1.3003, -1.3009, -1.3012, -1.3014, -1.3014, -1.3014, -1.3017, -1.3018, -1.3022, -1.3022, -1.3022, -1.3023, -1.3025, -1.3025, -1.3025, -1.3025, -1.3026, -1.3026, -1.3027, -1.3027, -1.3027, -1.3028, -1.3038, -1.3029, -1.3028, -1.3029, -8.5577, -5.0456, 2.6063, 2.6061, 2.606, 2.5883, 2.504, 1.6285, 0.489, 0.1934, -1.3243, -1.3319, -1.3321, -1.333, -1.3331, -1.3335, -1.3336, -1.3339, -1.334, -1.3343, -1.3346, -1.3347, -1.3347, -1.3348, -1.335, -1.3351, -1.3351, -1.3351, -1.3354, -1.3355, -1.3355, -1.3355, -1.3355, -2.0353, -1.3357, -1.3356, -1.337, -1.3416, -2.6908, -8.956, -6.8075, -7.3114, 2.6213, 2.6202, 2.6178, 2.603, 2.515, 1.8076, -1.1541, -1.1545, -1.1545, -1.1546, -1.1546, -1.1548, -1.1548, -1.1549, -1.155, -1.155, -1.155, -1.155, -1.155, -1.1551, -1.1552, -1.1552, -1.1552, -1.1553, -1.1553, -1.1553, -1.1553, -1.1553, -1.1553, -1.1554, -1.1556, -1.1554, -1.1554, -1.1555, -1.1561, -1.1555, -1.1559, -1.1557, -1.1563, -7.712, -5.7699, -7.1368, 2.7025, 2.7014, 2.7014, 2.6998, 2.6845, 2.681, 2.6798, 2.6582, 2.6186, 2.4469, 2.4341, 2.2613, 2.2566, 1.883, 1.0533, -0.8797, -0.8854, -0.8888, -0.8909, -0.8915, -0.8917, -0.8917, -0.8918, -0.8918, -0.892, -0.8927, -0.8927, -0.8928, -0.8928, -0.8929, -0.8931, -2.6832, -0.8929, -3.7961, -5.6311, -0.8988, -4.7351, -8.5527, -3.4841, -7.5158, 2.8242, 2.8225, 2.8222, 2.8017, 2.8002, 2.7989, 2.7828, 2.743, 2.703, 2.4016, 1.9112, 1.7568, 1.7568, 1.6332, 1.3378, 0.8222, -0.5823, -0.588, -0.5943, -0.6003, -0.6005, -0.6009, -0.6019, -0.6021, -0.6027, -0.6032, -0.6033, -0.6034, -0.6034, -0.6035, -0.6039, -0.6036, -0.6084, -4.2349, -6.9297, 2.902, 2.902, 2.9007, 2.8998, 2.8994, 2.8985, 2.8975, 2.8972, 2.8954, 2.6858, 2.3367, 2.2055, -0.0739, -0.0766, -0.0773, -0.0782, -0.0782, -0.0782, -0.0783, -0.0783, -0.0784, -0.0784, -0.0784, -0.0785, -0.0786, -0.0786, -0.0787, -0.0787, -0.0787, -0.0788, -0.0788, -0.0788, -0.0789, -0.0789, -0.0789, -0.0841, -0.0796, -0.0812, -5.4187, -3.8995, -7.5081, -6.6594, -7.7426, -6.964, 2.9724, 2.9699, 2.9678, 2.9615, 2.9473, 2.9265, 2.9024, 2.867, 2.8228, 1.6411, 0.5428, 0.5426, 0.5426, 0.5425, 0.5424, 0.5423, 0.5423, 0.5422, 0.5422, 0.5422, 0.5422, 0.5422, 0.5422, 0.5422, 0.5422, 0.5422, 0.5422, 0.5422, 0.5422, 0.5422, 0.5421, 0.5395, 0.5421, 0.5418, -3.6709, -4.1076, 0.5417, 0.5415, 0.5419, 0.5387, 0.5414, -6.7773, -6.7338, 3.0045, 3.004, 3.0038, 3.0031, 2.9959, 2.9933, 2.9778, 2.9719, 2.9642, 2.9301, 2.8542, 2.8186, 2.6349, -0.4645, -0.4683, -0.472, -0.4772, -0.4802, -0.4815, -0.4815, -0.4817, -0.482, -0.482, -0.4821, -0.4824, -0.4824, -0.4824, -0.4825, -0.4825, -0.4826, -0.4827, -0.4839, -0.4828, -0.488, -0.4844, -0.483, -0.4845, -7.5298, -5.3944, -5.1586, -2.6512, -8.1283, -5.5337, -9.0715, 3.0238, 3.0196, 3.0172, 2.9861, 1.8804, 0.2172, 0.2168, 0.2136, 0.2135, 0.2135, 0.2133, 0.2133, 0.2133, 0.2132, 0.213, 0.213, 0.2129, 0.2129, 0.2129, 0.2129, 0.2128, 0.2128, 0.2128, 0.2128, 0.2128, 0.2128, 0.2127, 0.2127, 0.2127, 0.2127, 0.2125, 0.2126, 0.2106, 0.2102, 0.2117, -7.4509, 3.03, 3.0297, 3.0281, 3.0281, 3.0277, 3.0273, 3.0258, 3.0216, 3.0172, 3.0139, 3.0112, 3.0042, 3.0024, 2.9945, 2.9876, 2.9444, 2.9418, 2.9189, 2.4345, 1.9897, 1.8607, -0.0501, -0.0513, -0.0531, -0.0541, -0.0543, -0.0549, -0.055, -0.055, -0.0551, -0.0594, -0.0554, -3.8507, -7.5383, -8.4563, -9.1977, 3.069, 3.0567, 3.0549, 3.0536, 3.0532, 3.0511, 3.0501, 3.0495, 3.0334, 3.0297, 2.9781, 2.9569, 2.9504, 2.796, 2.6998, 1.2888, 0.8421, 0.0173, 0.0165, 0.0151, 0.0127, 0.0124, 0.0124, 0.0118, 0.0117, 0.0116, 0.0107, 0.0107, 0.0106, 0.0105, 0.0103, 0.0086, -4.3863, -6.9063, -5.3679, 3.1329, 3.1324, 3.1306, 3.1272, 3.1265, 3.111, 3.074, 2.9876, 2.5014, 0.2915, 0.2899, 0.2844, 0.2837, 0.2828, 0.2819, 0.2807, 0.2795, 0.2793, 0.2793, 0.2793, 0.2792, 0.2792, 0.2792, 0.2792, 0.2792, 0.2792, 0.2791, 0.2788, 0.2787, 0.2787, 0.2785, 0.2775, -6.6918, -6.2728, -5.6997, -7.2093, -8.3188, 3.1394, 3.1382, 3.1366, 3.1365, 3.1348, 3.1344, 3.1334, 3.1333, 3.1331, 3.131, 3.1249, 3.1201, 3.1184, 3.0719, 3.0053, 2.9875, 2.8508, 2.8326, 2.2005, -0.0481, -0.0499, -0.0501, -0.0501, -0.0502, -0.0503, -0.0503, -0.0503, -0.0504, -0.051, -0.0511, -0.0512, -0.0579, -0.0538, -1.8363, -7.6577, -4.0092, -2.6442, 3.2433, 3.2426, 3.2424, 3.2417, 3.2399, 3.2396, 3.2381, 3.2315, 3.2249, 3.2227, 3.2101, 3.2018, 3.1823, 3.1774, 3.1764, 3.1501, 3.1469, 3.1084, 3.0697, 3.0209, 2.9561, 2.9189, 2.8644, 2.8359, 2.1763, -0.2158, -0.2158, -0.2168, -0.2168, -0.2175, -0.2186, -5.1453, -7.8038, -4.9244, 3.2704, 3.2697, 3.269, 3.2689, 3.2686, 3.2685, 3.2677, 3.2674, 3.2665, 3.2663, 3.2655, 3.2607, 3.2585, 3.2563, 3.2507, 3.2502, 3.2402, 3.2206, 3.2182, 3.1913, 3.1791, 3.1748, 3.1622, 3.1551, 3.1545, 3.1434, 3.1294, 3.1194, 3.0904, 3.0755, 2.8888, 2.8719, 2.7773, 3.2752, 3.2746, 3.2737, 3.272, 3.271, 3.2469, 3.2367, 2.9987, 0.6083, 0.6077, 0.605, 0.6049, 0.6049, 0.6046, 0.604, 0.6038, 0.6031, 0.6022, 0.6017, 0.6017, 0.6014, 0.6014, 0.6013, 0.6011, 0.601, 0.601, 0.601, 0.601, 0.601, 0.601, 0.6009, 0.6009, 0.6008, 0.5982, 0.6004, 0.5975, -7.0589, 3.3211, 3.3189, 3.3135, 3.3063, 3.2927, 3.2804, 3.1751, 3.0117, 0.588, 0.5867, 0.5861, 0.5857, 0.5856, 0.5854, 0.585, 0.585, 0.5849, 0.5849, 0.5848, 0.5847, 0.5847, 0.5847, 0.5846, 0.5846, 0.5846, 0.5845, 0.5845, 0.5845, 0.5845, 0.5845, 0.5843, 0.5841, 0.5825, 0.5778, 0.5841, -6.9903, 0.584, 3.3713, 3.3702, 3.3697, 3.3635, 3.298, 3.2557, 3.251, 0.8463, 0.6116, 0.091, 0.091, 0.0899, 0.0845, 0.0845, 0.0837, 0.0836, 0.0833, 0.0832, 0.0832, 0.0832, 0.0831, 0.0831, 0.0831, 0.0831, 0.0831, 0.083, 0.0828, 0.0828, 0.0828, 0.0827, -0.2346, 0.0799, 0.0823, 0.0805, -7.6485, -7.5227, 3.535, 3.5346, 3.5328, 3.5298, 3.5291, 3.5242, 3.5236, 3.5046, 3.4968, 3.489, 3.463, 3.4587, 3.4042, 1.3008, 1.3006, 1.2931, 1.2927, 1.2924, 1.2919, 1.2919, 1.2918, 1.2918, 1.2918, 1.2918, 1.2917, 1.2916, 1.2916, 1.2915, 1.2915, 1.2914, 1.2913, 1.2913, 1.2879, -2.5435, -5.3314, -6.4645, 3.6685, 3.6675, 3.6615, 3.6584, 3.6539, 3.6469, 3.5506, 3.5102, 3.3037, 1.2498, 1.2453, 1.2453, 1.2442, 1.244, 1.2424, 1.2376, 1.2341, 1.2316, 1.2311, 1.231, 1.2309, 1.2305, 1.2302, 1.2301, 1.2298, 1.2298, 1.2293, 1.2293, 1.2293, 1.229, 1.2289, -6.4263]}, \"token.table\": {\"Topic\": [3, 1, 8, 15, 16, 18, 19, 16, 15, 15, 15, 17, 10, 10, 6, 11, 17, 6, 5, 15, 5, 10, 15, 15, 6, 4, 15, 5, 14, 7, 4, 5, 10, 13, 7, 11, 15, 19, 19, 15, 14, 18, 14, 5, 12, 5, 13, 15, 3, 14, 4, 15, 10, 14, 10, 14, 10, 15, 17, 13, 16, 19, 15, 10, 10, 4, 13, 14, 14, 15, 10, 8, 3, 9, 15, 1, 2, 4, 5, 7, 8, 9, 11, 12, 15, 18, 20, 14, 5, 20, 15, 20, 5, 13, 8, 11, 4, 6, 12, 5, 15, 13, 2, 15, 16, 4, 8, 15, 14, 18, 14, 2, 5, 3, 12, 1, 4, 5, 7, 11, 18, 14, 7, 15, 11, 19, 8, 10, 19, 11, 6, 15, 2, 14, 13, 6, 17, 18, 14, 12, 13, 4, 18, 13, 13, 17, 10, 5, 13, 10, 19, 10, 11, 8, 18, 11, 20, 15, 10, 10, 10, 12, 19, 2, 7, 4, 19, 13, 11, 2, 10, 15, 11, 5, 4, 4, 5, 12, 15, 15, 20, 14, 5, 11, 15, 15, 4, 14, 11, 6, 12, 12, 20, 15, 7, 14, 14, 18, 16, 11, 14, 16, 19, 14, 6, 6, 14, 8, 7, 15, 17, 7, 13, 8, 11, 8, 15, 13, 17, 19, 7, 16, 3, 10, 4, 12, 4, 5, 20, 16, 11, 7, 13, 13, 15, 19, 9, 6, 9, 8, 7, 14, 15, 10, 6, 15, 14, 10, 15, 9, 12, 20, 3, 19, 2, 15, 11, 14, 10, 13, 6, 1, 2, 8, 20, 13, 8, 2, 13, 14, 15, 11, 17, 19, 4, 4, 18, 8, 4], \"Freq\": [0.4774627417987134, 0.9992791664007653, 0.9748970717103191, 0.010953899682138417, 0.9961250005780871, 0.9920125704475493, 0.8878414084273389, 0.7259481957121174, 0.9231394620726476, 0.992171334514891, 0.9977507873031661, 0.853971222211735, 0.9201018670498008, 0.9634978971857477, 0.9928344547948726, 0.9061914869485808, 0.9867905919301982, 0.9947651258006706, 0.6417835372429169, 0.24448896656873023, 0.3788404520219628, 0.34938165747200967, 0.6055948729514834, 0.8674469140610646, 0.4430369438773626, 0.9996143918703086, 0.9232043044588172, 0.9742319835024433, 0.7206613981513509, 0.9993657942391795, 0.001408524183072024, 0.000704262091536012, 0.000704262091536012, 0.9944180732488489, 0.9947103721326289, 0.0005229812682085326, 0.0019611797557819973, 0.0023534157069383965, 0.9303255142334166, 0.987342549426007, 0.9930261282636542, 0.8934997109337008, 0.3783665631112604, 0.9994192380147663, 0.8842584569908991, 0.3457086980501324, 0.9988106872253297, 0.8888001835889185, 0.998816591379159, 0.9976451542375611, 0.9984952169696832, 0.9943651132167912, 0.9831791757019689, 0.932606928202946, 0.8981506102755791, 0.9885522760101612, 0.9988970031654666, 0.8395840617726102, 0.9922387791025422, 0.7324041180188393, 0.9561858847697262, 0.9935716316957027, 0.9947608311574091, 0.9780013315979, 0.9961608557349358, 0.9801396272209595, 0.883684957866434, 0.9989249947692831, 0.9271410557731501, 0.9869991980129774, 0.9991574133222878, 0.8331081467871797, 0.9959314847951425, 0.9979301636861241, 0.979630074344071, 0.28609893488260546, 0.12027366294284915, 0.004571487641266665, 0.1349949415971662, 0.0008435483147575393, 2.7211235959920623e-05, 0.318126559607432, 0.10778370563724558, 5.442247191984125e-05, 2.7211235959920623e-05, 0.027129602252040863, 0.9932930948428795, 0.9982392677732421, 0.9970912901746747, 0.8902709202365942, 0.9932349113975922, 0.9903487550862674, 0.9630128631848093, 0.99403113695714, 0.7129872379670333, 0.9816540228152884, 0.9968039599054883, 0.9949317232319532, 0.9941639021817488, 0.3020742416826185, 0.6819554850107599, 0.9980350638446595, 0.009886903168957833, 0.004943451584478916, 0.9738599621423465, 0.23196199603152218, 0.9987683980092927, 0.9968233293964714, 0.9070508719055774, 0.999216495132133, 0.8079409664534073, 0.9838361543214391, 0.3788404520219628, 0.9997545142369003, 0.0001068056742948454, 0.5405278712447569, 0.0002575168514743958, 0.22604829222422468, 0.0012875842573719792, 0.16846752423454975, 0.06324613872211161, 0.6765097777200797, 0.9387239547317147, 0.9963902223120223, 0.9788730454618645, 0.9963850033793668, 0.9564000176290722, 0.9745910428730155, 0.9478760113142052, 0.9853181721169171, 0.9967222763042358, 0.9961183086215682, 0.8906743467076998, 0.9598440894744519, 0.9260993954644087, 0.9992596179845736, 0.7159659273100752, 0.9332152985332267, 0.9788681134950519, 0.978473493329659, 0.992065783162022, 0.9191677280029503, 0.07989843654664068, 0.8676599344876499, 0.9922547383718686, 0.9973576692995455, 0.9973283992101406, 0.9747305849352927, 0.9956608880859062, 0.9884554188969391, 0.9246148702439652, 0.9684685702899175, 0.9644739013738192, 0.9676935117378336, 0.9974577862605686, 0.9859952715585245, 0.9869907346172144, 0.9965587359682377, 0.991225376251529, 0.9724122556697938, 0.9971228649996527, 0.9394360146617269, 0.992117819175026, 0.9994434029604264, 0.9971730323737223, 0.48194934169034503, 0.9989991967780707, 0.9795544694215622, 0.9775728896755346, 0.9991002239361285, 0.9214173213051041, 0.9685109840422288, 0.9611593620751577, 0.9297011684309683, 0.7779963559866714, 0.9817828037917733, 0.8933911523545686, 0.5552066088078451, 0.9968562649298214, 0.9767594470745147, 0.9790917466990168, 0.9681985026436231, 0.9741165876723088, 0.9237692626694175, 0.9427794490017268, 0.8841539181239162, 0.7443603773361438, 0.9956866309947937, 0.9887440480863356, 0.9993412792682959, 0.9989311265437875, 0.9994367469370421, 0.6557413298909951, 0.8396057239334654, 0.8931080281050409, 0.9779908307027336, 0.9982480734498874, 0.8927464071573061, 0.999351626324505, 0.7718729127526889, 0.9361712003827636, 0.9978638239243951, 0.9985521935464008, 0.8790722081629072, 0.996311194478813, 0.9954757221323708, 0.9952443456894382, 0.9867047336518983, 0.9608660515669654, 0.9842840820836523, 0.999622338556329, 0.2641054369359727, 0.7351215028090451, 0.9912247810876826, 0.9992273314876962, 0.9993483684020823, 0.9083553543198715, 0.9897372246037474, 0.9682668164692247, 0.9889134380077608, 0.9730865510452372, 0.9951937574715558, 0.9832300557063072, 0.5256888172913057, 0.9525172272178086, 0.992655077509043, 0.9772082195471583, 0.9977970982030574, 0.9991699315995596, 0.9985511452518069, 0.7247192760806134, 0.8541079448315946, 0.9936403379147305, 0.9959394305333645, 0.9529209383837192, 0.9637279728079172, 0.9570819581650283, 0.9979988743887322, 0.9944952466500984, 0.9990156387890262, 0.9895670733713884, 0.7288355329138828, 0.9954709903957012, 0.994673750533332, 0.8029664337390016, 0.8957161676455597, 0.8314297784082721, 0.31308536001812765, 0.6691432204309002, 0.9920073394580093, 0.9968508708806147, 0.9983137270370476, 0.8952325553444458, 0.9675392846205363, 0.09297710516936775, 0.8367939465243097, 0.9832359502919407, 0.9091301302819672, 0.9973903866246154, 0.35490915555238806, 0.50856622780562, 0.6237516685639831, 0.37594905468257495, 0.9979421847920309, 0.8535608048727338, 0.9782369156181404, 0.9359500684009741, 0.9993197591962949, 0.9867521334729755, 0.7218515144176445, 0.8950419868000927, 0.8901280548230819, 0.9637791420011582, 0.9885369586405542, 0.6201347108285745, 0.9986742259962836, 0.9981656620982776, 0.8467830993684172, 0.6149736429152857], \"Term\": [\"acquisition\", \"action\", \"adaptive\", \"adaptive\", \"additional\", \"adopt\", \"adpatation\", \"advanced\", \"advertisement\", \"advertising\", \"agenda\", \"agree\", \"alto\", \"announce\", \"app\", \"approach\", \"available\", \"base\", \"bertrand\", \"bertrand\", \"bgp\", \"bof\", \"bof\", \"brandenburg\", \"business\", \"call\", \"cap\", \"capability\", \"capacity\", \"case\", \"cdn\", \"cdn\", \"cdn\", \"cdn\", \"cdni\", \"cdni\", \"cdni\", \"cdni\", \"cdns\", \"chair\", \"charter\", \"city\", \"cloud\", \"comment\", \"conclusion\", \"conf\", \"consensus\", \"contact\", \"content\", \"continuation\", \"control\", \"core\", \"creation\", \"cut\", \"dash\", \"date\", \"datum\", \"davie\", \"definition\", \"delay\", \"delegation\", \"delivery\", \"deployment\", \"description\", \"design\", \"detail\", \"detection\", \"digest\", \"disclosure\", \"discovery\", \"discuss\", \"distribution\", \"dns\", \"document\", \"domain\", \"draft\", \"draft\", \"draft\", \"draft\", \"draft\", \"draft\", \"draft\", \"draft\", \"draft\", \"draft\", \"draft\", \"dynamic\", \"early\", \"editorial\", \"enforce\", \"example\", \"experiment\", \"explanation\", \"extend\", \"extended\", \"extensibility\", \"extension\", \"final\", \"first\", \"footprint\", \"footprint\", \"forward\", \"framework\", \"framework\", \"framework\", \"fw\", \"fwd\", \"fyi\", \"gpp\", \"group\", \"happy\", \"high\", \"hijacking\", \"http\", \"http\", \"ietf\", \"ietf\", \"ietf\", \"ietf\", \"ietf\", \"ietf\", \"inc\", \"incorporate\", \"info\", \"informal\", \"information\", \"informational\", \"interconnect\", \"interconnection\", \"interface\", \"interim\", \"internet\", \"intra\", \"ipr\", \"ipv\", \"issue\", \"iterative\", \"july\", \"june\", \"label\", \"language\", \"last\", \"last\", \"lefaucheur\", \"level\", \"limit\", \"list\", \"log\", \"loop\", \"mailing\", \"material\", \"maximum\", \"md\", \"meet\", \"meeting\", \"metadata\", \"milestone\", \"minute\", \"model\", \"mpeg\", \"name\", \"naming\", \"network\", \"new\", \"next\", \"nomcom\", \"non\", \"normative\", \"note\", \"notification\", \"object\", \"optimization\", \"paris\", \"participation\", \"picture\", \"policy\", \"portal\", \"portion\", \"post\", \"prague\", \"pre\", \"precondition\", \"prefix\", \"prepare\", \"presentation\", \"previdi\", \"prior\", \"problem\", \"progress\", \"proposal\", \"propose\", \"protocol\", \"provider\", \"ps\", \"publisher\", \"pull\", \"push\", \"quebec\", \"question\", \"ready\", \"recursive\", \"redirect\", \"redirection\", \"ref\", \"reference\", \"regard\", \"relate\", \"relationship\", \"replace\", \"req\", \"request\", \"requirement\", \"requirement\", \"resolution\", \"review\", \"rfc\", \"role\", \"rough\", \"route\", \"routing\", \"scenario\", \"schedule\", \"scope\", \"sdo\", \"second\", \"secure\", \"selection\", \"semantic\", \"service\", \"session\", \"sheperd\", \"shepherd\", \"side\", \"sign\", \"slide\", \"slot\", \"space\", \"specification\", \"statement\", \"status\", \"step\", \"storage\", \"streaming\", \"submit\", \"system\", \"taipei\", \"talk\", \"team\", \"team\", \"terminology\", \"text\", \"thought\", \"thursday\", \"tie\", \"tr\", \"tr\", \"trigger\", \"troubleshoot\", \"trust\", \"ttl\", \"tv\", \"txt\", \"txt\", \"update\", \"upstream\", \"url\", \"vancouver\", \"version\", \"virtual\", \"vol\", \"volunteer\", \"webex\", \"week\", \"wg\", \"white\", \"work\", \"working\", \"\\u7b54\\u590d\", \"\\u8f6c\\u53d1\"]}, \"R\": 30, \"lambda.step\": 0.01, \"plot.opts\": {\"xlab\": \"PC1\", \"ylab\": \"PC2\"}, \"topic.order\": [17, 12, 19, 20, 14, 9, 4, 16, 13, 2, 7, 18, 5, 3, 15, 8, 6, 1, 10, 11]};\n",
       "\n",
       "function LDAvis_load_lib(url, callback){\n",
       "  var s = document.createElement('script');\n",
       "  s.src = url;\n",
       "  s.async = true;\n",
       "  s.onreadystatechange = s.onload = callback;\n",
       "  s.onerror = function(){console.warn(\"failed to load library \" + url);};\n",
       "  document.getElementsByTagName(\"head\")[0].appendChild(s);\n",
       "}\n",
       "\n",
       "if(typeof(LDAvis) !== \"undefined\"){\n",
       "   // already loaded: just create the visualization\n",
       "   !function(LDAvis){\n",
       "       new LDAvis(\"#\" + \"ldavis_el288121402938018846886577231812\", ldavis_el288121402938018846886577231812_data);\n",
       "   }(LDAvis);\n",
       "}else if(typeof define === \"function\" && define.amd){\n",
       "   // require.js is available: use it to load d3/LDAvis\n",
       "   require.config({paths: {d3: \"https://d3js.org/d3.v5\"}});\n",
       "   require([\"d3\"], function(d3){\n",
       "      window.d3 = d3;\n",
       "      LDAvis_load_lib(\"https://cdn.jsdelivr.net/gh/bmabey/pyLDAvis@3.3.1/pyLDAvis/js/ldavis.v3.0.0.js\", function(){\n",
       "        new LDAvis(\"#\" + \"ldavis_el288121402938018846886577231812\", ldavis_el288121402938018846886577231812_data);\n",
       "      });\n",
       "    });\n",
       "}else{\n",
       "    // require.js not available: dynamically load d3 & LDAvis\n",
       "    LDAvis_load_lib(\"https://d3js.org/d3.v5.js\", function(){\n",
       "         LDAvis_load_lib(\"https://cdn.jsdelivr.net/gh/bmabey/pyLDAvis@3.3.1/pyLDAvis/js/ldavis.v3.0.0.js\", function(){\n",
       "                 new LDAvis(\"#\" + \"ldavis_el288121402938018846886577231812\", ldavis_el288121402938018846886577231812_data);\n",
       "            })\n",
       "         });\n",
       "}\n",
       "</script>"
      ],
      "text/plain": [
       "PreparedData(topic_coordinates=              x         y  topics  cluster       Freq\n",
       "topic                                                \n",
       "16    -0.365160  0.000919       1        1  10.185305\n",
       "11    -0.229726  0.038789       2        1   7.376374\n",
       "18     0.112093  0.314221       3        1   7.269212\n",
       "19     0.058312  0.210936       4        1   6.701618\n",
       "13    -0.317367 -0.021276       5        1   5.931931\n",
       "8      0.122423  0.045303       6        1   5.487750\n",
       "3      0.120872 -0.144817       7        1   5.114808\n",
       "15     0.117676  0.139844       8        1   4.953650\n",
       "12    -0.285577 -0.033143       9        1   4.852298\n",
       "1      0.124057  0.026908      10        1   4.828029\n",
       "6     -0.304205 -0.040184      11        1   4.643390\n",
       "17     0.125380 -0.023157      12        1   4.357074\n",
       "4      0.131841 -0.094464      13        1   4.326268\n",
       "2      0.121355  0.068726      14        1   3.899621\n",
       "14     0.127377 -0.065846      15        1   3.791001\n",
       "7      0.130203 -0.076930      16        1   3.778428\n",
       "5      0.130021 -0.074215      17        1   3.609689\n",
       "0     -0.194096  0.006621      18        1   3.431637\n",
       "9      0.137944 -0.143996      19        1   2.912626\n",
       "10     0.136577 -0.134241      20        1   2.549291, topic_info=          Term          Freq         Total Category  logprob  loglift\n",
       "245       http  18725.000000  18725.000000  Default  30.0000  30.0000\n",
       "26       draft  36749.000000  36749.000000  Default  29.0000  29.0000\n",
       "15     request   8367.000000   8367.000000  Default  28.0000  28.0000\n",
       "57        ietf  19416.000000  19416.000000  Default  27.0000  27.0000\n",
       "148       call   9653.000000   9653.000000  Default  26.0000  26.0000\n",
       "..         ...           ...           ...      ...      ...      ...\n",
       "956  different      0.312141      3.581403  Topic20 -10.1546   1.2293\n",
       "801   practice      0.312141      3.581444  Topic20 -10.1546   1.2293\n",
       "898   property      0.312031      3.581285  Topic20 -10.1550   1.2290\n",
       "576     medium      0.312159      3.583048  Topic20 -10.1545   1.2289\n",
       "0         cdni      0.315569   7648.457494  Topic20 -10.1437  -6.4263\n",
       "\n",
       "[781 rows x 6 columns], token_table=      Topic      Freq         Term\n",
       "term                              \n",
       "74        3  0.477463  acquisition\n",
       "39        1  0.999279       action\n",
       "210       8  0.974897     adaptive\n",
       "210      15  0.010954     adaptive\n",
       "295      16  0.996125   additional\n",
       "...     ...       ...          ...\n",
       "60        4  0.620135        white\n",
       "20        4  0.998674         work\n",
       "144      18  0.998166      working\n",
       "113       8  0.846783           答复\n",
       "134       4  0.614974           转发\n",
       "\n",
       "[279 rows x 3 columns], R=30, lambda_step=0.01, plot_opts={'xlab': 'PC1', 'ylab': 'PC2'}, topic_order=[17, 12, 19, 20, 14, 9, 4, 16, 13, 2, 7, 18, 5, 3, 15, 8, 6, 1, 10, 11])"
      ]
     },
     "execution_count": 64,
     "metadata": {},
     "output_type": "execute_result"
    }
   ],
   "source": [
    "import pyLDAvis\n",
    "import pyLDAvis.gensim_models as gensimvis\n",
    "pyLDAvis.enable_notebook()\n",
    "vis = gensimvis.prepare(lda_model, corpus, id2word)\n",
    "vis"
   ]
  }
 ],
 "metadata": {
  "kernelspec": {
   "display_name": "Python 3",
   "language": "python",
   "name": "python3"
  },
  "language_info": {
   "codemirror_mode": {
    "name": "ipython",
    "version": 3
   },
   "file_extension": ".py",
   "mimetype": "text/x-python",
   "name": "python",
   "nbconvert_exporter": "python",
   "pygments_lexer": "ipython3",
   "version": "3.8.10"
  }
 },
 "nbformat": 4,
 "nbformat_minor": 5
}
