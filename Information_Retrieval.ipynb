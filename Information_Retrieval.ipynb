{
 "cells": [
  {
   "cell_type": "markdown",
   "metadata": {
    "id": "NlNrCyggueji"
   },
   "source": [
    "## Information Retrieval \n"
   ]
  },
  {
   "cell_type": "code",
   "execution_count": 60,
   "metadata": {
    "id": "qpQGo9Sv9yIT"
   },
   "outputs": [],
   "source": [
    "# we need to import pandas. We commonly rename it to pd, to make commands shorter\n",
    "import pandas as pd\n",
    "\n",
    "# let's not truncate Pandas output too much\n",
    "pd.set_option('display.max_colwidth', 150)"
   ]
  },
  {
   "cell_type": "code",
   "execution_count": 61,
   "metadata": {
    "colab": {
     "base_uri": "https://localhost:8080/",
     "height": 142
    },
    "id": "Qp7dHcV054TB",
    "outputId": "beba92e7-aa9d-465c-cd9f-733e34e94df5"
   },
   "outputs": [
    {
     "data": {
      "text/html": [
       "<div>\n",
       "<style scoped>\n",
       "    .dataframe tbody tr th:only-of-type {\n",
       "        vertical-align: middle;\n",
       "    }\n",
       "\n",
       "    .dataframe tbody tr th {\n",
       "        vertical-align: top;\n",
       "    }\n",
       "\n",
       "    .dataframe thead th {\n",
       "        text-align: right;\n",
       "    }\n",
       "</style>\n",
       "<table border=\"1\" class=\"dataframe\">\n",
       "  <thead>\n",
       "    <tr style=\"text-align: right;\">\n",
       "      <th></th>\n",
       "      <th>State</th>\n",
       "      <th>Population</th>\n",
       "    </tr>\n",
       "  </thead>\n",
       "  <tbody>\n",
       "    <tr>\n",
       "      <th>0</th>\n",
       "      <td>California</td>\n",
       "      <td>38332521</td>\n",
       "    </tr>\n",
       "    <tr>\n",
       "      <th>1</th>\n",
       "      <td>Texas</td>\n",
       "      <td>26448193</td>\n",
       "    </tr>\n",
       "    <tr>\n",
       "      <th>2</th>\n",
       "      <td>Illinois</td>\n",
       "      <td>12882135</td>\n",
       "    </tr>\n",
       "  </tbody>\n",
       "</table>\n",
       "</div>"
      ],
      "text/plain": [
       "        State  Population\n",
       "0  California    38332521\n",
       "1       Texas    26448193\n",
       "2    Illinois    12882135"
      ]
     },
     "execution_count": 61,
     "metadata": {
      "tags": []
     },
     "output_type": "execute_result"
    }
   ],
   "source": [
    "# let's take our data from a list, where each element is the rows of the data.\n",
    "population_data = [\n",
    "  ['California', 38332521],\n",
    "  ['Texas', 26448193],                  \n",
    "  ['Illinois', 12882135]                  \n",
    "]\n",
    "\n",
    "# now we construct a dataframe object. this is our relation\n",
    "# we need to name the columns\n",
    "population_df = pd.DataFrame(population_data, columns=['State', 'Population']) \n",
    "# if we put a variable last in the code cell, its content will be printed\n",
    "population_df"
   ]
  },
  {
   "cell_type": "markdown",
   "metadata": {
    "id": "tsoO8i73Bmlv"
   },
   "source": [
    "As you can see, this is very much like a relation, with a name (`population_df`), a header with attribute names, and rows.\n",
    "\n",
    "We can also make a dataframe using a dictionary:"
   ]
  },
  {
   "cell_type": "code",
   "execution_count": 62,
   "metadata": {
    "colab": {
     "base_uri": "https://localhost:8080/",
     "height": 142
    },
    "id": "mVeczn_Wvlw6",
    "outputId": "441d8127-e95f-469b-bebb-57829cb4de5e"
   },
   "outputs": [
    {
     "data": {
      "text/html": [
       "<div>\n",
       "<style scoped>\n",
       "    .dataframe tbody tr th:only-of-type {\n",
       "        vertical-align: middle;\n",
       "    }\n",
       "\n",
       "    .dataframe tbody tr th {\n",
       "        vertical-align: top;\n",
       "    }\n",
       "\n",
       "    .dataframe thead th {\n",
       "        text-align: right;\n",
       "    }\n",
       "</style>\n",
       "<table border=\"1\" class=\"dataframe\">\n",
       "  <thead>\n",
       "    <tr style=\"text-align: right;\">\n",
       "      <th></th>\n",
       "      <th>State</th>\n",
       "      <th>Population</th>\n",
       "    </tr>\n",
       "  </thead>\n",
       "  <tbody>\n",
       "    <tr>\n",
       "      <th>0</th>\n",
       "      <td>California</td>\n",
       "      <td>38332521</td>\n",
       "    </tr>\n",
       "    <tr>\n",
       "      <th>1</th>\n",
       "      <td>Texas</td>\n",
       "      <td>26448193</td>\n",
       "    </tr>\n",
       "    <tr>\n",
       "      <th>2</th>\n",
       "      <td>Illinois</td>\n",
       "      <td>12882135</td>\n",
       "    </tr>\n",
       "  </tbody>\n",
       "</table>\n",
       "</div>"
      ],
      "text/plain": [
       "        State  Population\n",
       "0  California    38332521\n",
       "1       Texas    26448193\n",
       "2    Illinois    12882135"
      ]
     },
     "execution_count": 62,
     "metadata": {
      "tags": []
     },
     "output_type": "execute_result"
    }
   ],
   "source": [
    "population_df = pd.DataFrame({\n",
    "      'State' : ['California', 'Texas', 'Illinois'],\n",
    "      'Population' : [38332521, 26448193, 12882135]\n",
    "    })\n",
    "population_df"
   ]
  },
  {
   "cell_type": "markdown",
   "metadata": {
    "id": "30zr36uBwMgN"
   },
   "source": [
    "Dataframes have attributes (such as length).\n"
   ]
  },
  {
   "cell_type": "code",
   "execution_count": 63,
   "metadata": {
    "colab": {
     "base_uri": "https://localhost:8080/"
    },
    "id": "7oIvyT__v632",
    "outputId": "5b55912f-3235-43aa-f783-08e5f97441b8"
   },
   "outputs": [
    {
     "data": {
      "text/plain": [
       "3"
      ]
     },
     "execution_count": 63,
     "metadata": {
      "tags": []
     },
     "output_type": "execute_result"
    }
   ],
   "source": [
    "len(population_df)"
   ]
  },
  {
   "cell_type": "markdown",
   "metadata": {
    "id": "GhyF_0pawkly"
   },
   "source": [
    "Each column is typed (actually using Numpy datatypes)"
   ]
  },
  {
   "cell_type": "code",
   "execution_count": 64,
   "metadata": {
    "colab": {
     "base_uri": "https://localhost:8080/"
    },
    "id": "AlrRiW06wVQZ",
    "outputId": "18d3e6de-11d9-414c-da82-40de163a5820"
   },
   "outputs": [
    {
     "data": {
      "text/plain": [
       "State         object\n",
       "Population     int64\n",
       "dtype: object"
      ]
     },
     "execution_count": 64,
     "metadata": {
      "tags": []
     },
     "output_type": "execute_result"
    }
   ],
   "source": [
    "population_df.dtypes"
   ]
  },
  {
   "cell_type": "markdown",
   "metadata": {
    "id": "Wt8s9GkMAsiL"
   },
   "source": [
    "\n",
    "### Projection"
   ]
  },
  {
   "cell_type": "markdown",
   "metadata": {
    "id": "SaV7E9Uc-OJq"
   },
   "source": [
    "Ok, we now have a dataframe. Unlike a relation, this has order, so we can ask to *select* the first or second rows:"
   ]
  },
  {
   "cell_type": "code",
   "execution_count": 65,
   "metadata": {
    "colab": {
     "base_uri": "https://localhost:8080/"
    },
    "id": "lTEUphBB9t5I",
    "outputId": "c250f0a1-9dc0-4eac-c6f6-07c8a4786897"
   },
   "outputs": [
    {
     "data": {
      "text/plain": [
       "State            Texas\n",
       "Population    26448193\n",
       "Name: 1, dtype: object"
      ]
     },
     "execution_count": 65,
     "metadata": {
      "tags": []
     },
     "output_type": "execute_result"
    }
   ],
   "source": [
    "population_df.iloc[1]"
   ]
  },
  {
   "cell_type": "markdown",
   "metadata": {
    "id": "F1KwS-vp_O9C"
   },
   "source": [
    "We'll return to selection shortly.\n",
    "\n",
    "We can *project* one column:"
   ]
  },
  {
   "cell_type": "code",
   "execution_count": 66,
   "metadata": {
    "colab": {
     "base_uri": "https://localhost:8080/"
    },
    "id": "wHAWpZAE_Hzs",
    "outputId": "805104d9-4536-4b99-b13a-b30f39d0bbd7"
   },
   "outputs": [
    {
     "data": {
      "text/plain": [
       "0    38332521\n",
       "1    26448193\n",
       "2    12882135\n",
       "Name: Population, dtype: int64"
      ]
     },
     "execution_count": 66,
     "metadata": {
      "tags": []
     },
     "output_type": "execute_result"
    }
   ],
   "source": [
    "population_df['Population']"
   ]
  },
  {
   "cell_type": "markdown",
   "metadata": {
    "id": "NrsWbWo0w08l"
   },
   "source": [
    "When both projecting single rows or columns, we get an object of type [Pandas Series](https://pandas.pydata.org/pandas-docs/stable/reference/series.html). "
   ]
  },
  {
   "cell_type": "code",
   "execution_count": 67,
   "metadata": {
    "colab": {
     "base_uri": "https://localhost:8080/"
    },
    "id": "VXkZbpP4w-X7",
    "outputId": "28dcff35-89ee-41eb-aaef-1dc8f1e191dc"
   },
   "outputs": [
    {
     "data": {
      "text/plain": [
       "pandas.core.series.Series"
      ]
     },
     "execution_count": 67,
     "metadata": {
      "tags": []
     },
     "output_type": "execute_result"
    }
   ],
   "source": [
    "type(population_df['Population'])"
   ]
  },
  {
   "cell_type": "markdown",
   "metadata": {
    "id": "xLszXgqyxBFH"
   },
   "source": [
    "A Pandas Series can be thought of as a kind of dictionary/key-value store. We can ask for a given value using 'dot notation', or square brackets:"
   ]
  },
  {
   "cell_type": "code",
   "execution_count": 68,
   "metadata": {
    "colab": {
     "base_uri": "https://localhost:8080/",
     "height": 35
    },
    "id": "FAV-K4KsxTtx",
    "outputId": "85b9eaeb-7bc4-4f45-ee98-fc148fe3eabf"
   },
   "outputs": [
    {
     "data": {
      "application/vnd.google.colaboratory.intrinsic+json": {
       "type": "string"
      },
      "text/plain": [
       "'Texas'"
      ]
     },
     "execution_count": 68,
     "metadata": {
      "tags": []
     },
     "output_type": "execute_result"
    }
   ],
   "source": [
    "population_df.iloc[1].State"
   ]
  },
  {
   "cell_type": "code",
   "execution_count": 69,
   "metadata": {
    "colab": {
     "base_uri": "https://localhost:8080/",
     "height": 35
    },
    "id": "8YFHeT-_xchT",
    "outputId": "ebd688ba-02a3-42b5-a620-a3dab9b37e87"
   },
   "outputs": [
    {
     "data": {
      "application/vnd.google.colaboratory.intrinsic+json": {
       "type": "string"
      },
      "text/plain": [
       "'Texas'"
      ]
     },
     "execution_count": 69,
     "metadata": {
      "tags": []
     },
     "output_type": "execute_result"
    }
   ],
   "source": [
    "population_df.iloc[1][\"State\"]"
   ]
  },
  {
   "cell_type": "markdown",
   "metadata": {
    "id": "EXJMXq-q_2Wv"
   },
   "source": [
    "On the other hand, if we wanted to project many columns we would end up with a *dataframe* that looks similar to the original one, just with columns reordered).\n",
    "\n",
    "Note how we use an additional `[]` when we want to project many columns - i.e. we are projecting a *list* of columns."
   ]
  },
  {
   "cell_type": "code",
   "execution_count": 70,
   "metadata": {
    "colab": {
     "base_uri": "https://localhost:8080/",
     "height": 142
    },
    "id": "wVC8tM0J_w-X",
    "outputId": "3e26265f-4504-4b41-dadc-4355b5cff1d1"
   },
   "outputs": [
    {
     "data": {
      "text/html": [
       "<div>\n",
       "<style scoped>\n",
       "    .dataframe tbody tr th:only-of-type {\n",
       "        vertical-align: middle;\n",
       "    }\n",
       "\n",
       "    .dataframe tbody tr th {\n",
       "        vertical-align: top;\n",
       "    }\n",
       "\n",
       "    .dataframe thead th {\n",
       "        text-align: right;\n",
       "    }\n",
       "</style>\n",
       "<table border=\"1\" class=\"dataframe\">\n",
       "  <thead>\n",
       "    <tr style=\"text-align: right;\">\n",
       "      <th></th>\n",
       "      <th>Population</th>\n",
       "      <th>State</th>\n",
       "    </tr>\n",
       "  </thead>\n",
       "  <tbody>\n",
       "    <tr>\n",
       "      <th>0</th>\n",
       "      <td>38332521</td>\n",
       "      <td>California</td>\n",
       "    </tr>\n",
       "    <tr>\n",
       "      <th>1</th>\n",
       "      <td>26448193</td>\n",
       "      <td>Texas</td>\n",
       "    </tr>\n",
       "    <tr>\n",
       "      <th>2</th>\n",
       "      <td>12882135</td>\n",
       "      <td>Illinois</td>\n",
       "    </tr>\n",
       "  </tbody>\n",
       "</table>\n",
       "</div>"
      ],
      "text/plain": [
       "   Population       State\n",
       "0    38332521  California\n",
       "1    26448193       Texas\n",
       "2    12882135    Illinois"
      ]
     },
     "execution_count": 70,
     "metadata": {
      "tags": []
     },
     "output_type": "execute_result"
    }
   ],
   "source": [
    "population_df[['Population', 'State']]"
   ]
  },
  {
   "cell_type": "markdown",
   "metadata": {
    "id": "kJ6AFYvsAn9S"
   },
   "source": [
    "### Union\n",
    "\n",
    "\n",
    "One of the simplest operations in relational algebra is data union. That is uniting two tables to create a third, which contains all the rows of both the first and the second table!\n",
    "\n",
    "Here, we're interested in the union of DataFrames. With Pandas, this operation is carried out using `pd.concat`."
   ]
  },
  {
   "cell_type": "code",
   "execution_count": 71,
   "metadata": {
    "colab": {
     "base_uri": "https://localhost:8080/",
     "height": 204
    },
    "id": "zkIESYJq_7Ug",
    "outputId": "71845c5b-4f71-444d-e02e-6f4a10621a35"
   },
   "outputs": [
    {
     "data": {
      "text/html": [
       "<div>\n",
       "<style scoped>\n",
       "    .dataframe tbody tr th:only-of-type {\n",
       "        vertical-align: middle;\n",
       "    }\n",
       "\n",
       "    .dataframe tbody tr th {\n",
       "        vertical-align: top;\n",
       "    }\n",
       "\n",
       "    .dataframe thead th {\n",
       "        text-align: right;\n",
       "    }\n",
       "</style>\n",
       "<table border=\"1\" class=\"dataframe\">\n",
       "  <thead>\n",
       "    <tr style=\"text-align: right;\">\n",
       "      <th></th>\n",
       "      <th>State</th>\n",
       "      <th>Population</th>\n",
       "    </tr>\n",
       "  </thead>\n",
       "  <tbody>\n",
       "    <tr>\n",
       "      <th>0</th>\n",
       "      <td>California</td>\n",
       "      <td>38332521</td>\n",
       "    </tr>\n",
       "    <tr>\n",
       "      <th>1</th>\n",
       "      <td>Texas</td>\n",
       "      <td>26448193</td>\n",
       "    </tr>\n",
       "    <tr>\n",
       "      <th>2</th>\n",
       "      <td>Illinois</td>\n",
       "      <td>12882135</td>\n",
       "    </tr>\n",
       "    <tr>\n",
       "      <th>0</th>\n",
       "      <td>New York</td>\n",
       "      <td>19651127</td>\n",
       "    </tr>\n",
       "    <tr>\n",
       "      <th>1</th>\n",
       "      <td>Florida</td>\n",
       "      <td>19552860</td>\n",
       "    </tr>\n",
       "  </tbody>\n",
       "</table>\n",
       "</div>"
      ],
      "text/plain": [
       "        State  Population\n",
       "0  California    38332521\n",
       "1       Texas    26448193\n",
       "2    Illinois    12882135\n",
       "0    New York    19651127\n",
       "1     Florida    19552860"
      ]
     },
     "execution_count": 71,
     "metadata": {
      "tags": []
     },
     "output_type": "execute_result"
    }
   ],
   "source": [
    "#we've just been informed about the population of some east coast states\n",
    "population_df_eastcoast = pd.DataFrame([['New York', 19651127], ['Florida', 19552860]], columns=['State', 'Population'])\n",
    "\n",
    "#we can make a new dataframe by concatenating the dataframes - this is the union. \n",
    "population_all_df = pd.concat([population_df, population_df_eastcoast])\n",
    "population_all_df"
   ]
  },
  {
   "cell_type": "markdown",
   "metadata": {
    "id": "mz40jshoGP9x"
   },
   "source": [
    "###Selection\n",
    "\n",
    "Selection is the filtering of rows. We can do this based on conditions, for instance with a population greater than a threshold, e.g. 30M."
   ]
  },
  {
   "cell_type": "code",
   "execution_count": 72,
   "metadata": {
    "colab": {
     "base_uri": "https://localhost:8080/",
     "height": 80
    },
    "id": "8cLpByWEIAqA",
    "outputId": "9a6b3256-86a4-46fa-97af-94cb690d91c7"
   },
   "outputs": [
    {
     "data": {
      "text/html": [
       "<div>\n",
       "<style scoped>\n",
       "    .dataframe tbody tr th:only-of-type {\n",
       "        vertical-align: middle;\n",
       "    }\n",
       "\n",
       "    .dataframe tbody tr th {\n",
       "        vertical-align: top;\n",
       "    }\n",
       "\n",
       "    .dataframe thead th {\n",
       "        text-align: right;\n",
       "    }\n",
       "</style>\n",
       "<table border=\"1\" class=\"dataframe\">\n",
       "  <thead>\n",
       "    <tr style=\"text-align: right;\">\n",
       "      <th></th>\n",
       "      <th>State</th>\n",
       "      <th>Population</th>\n",
       "    </tr>\n",
       "  </thead>\n",
       "  <tbody>\n",
       "    <tr>\n",
       "      <th>0</th>\n",
       "      <td>California</td>\n",
       "      <td>38332521</td>\n",
       "    </tr>\n",
       "  </tbody>\n",
       "</table>\n",
       "</div>"
      ],
      "text/plain": [
       "        State  Population\n",
       "0  California    38332521"
      ]
     },
     "execution_count": 72,
     "metadata": {
      "tags": []
     },
     "output_type": "execute_result"
    }
   ],
   "source": [
    "population_all_df[population_all_df['Population'] > 3e7]"
   ]
  },
  {
   "cell_type": "markdown",
   "metadata": {
    "id": "u1zUQrdaIW1y"
   },
   "source": [
    "What happened here? Let's break this down.\n",
    "\n",
    "Inside the brackets is \n",
    "```python\n",
    "population_all_df['Population'] > 3e7\n",
    "```\n",
    "This identifies all rows that have a population greater than 30 million (I'm using 3e7, a shorthand scientific notation for 30 million). Let's run that by itself"
   ]
  },
  {
   "cell_type": "code",
   "execution_count": 73,
   "metadata": {
    "colab": {
     "base_uri": "https://localhost:8080/"
    },
    "id": "2oQwt38oIkTD",
    "outputId": "36ad0998-8c91-45c1-ace9-c667ccf399a8"
   },
   "outputs": [
    {
     "data": {
      "text/plain": [
       "0     True\n",
       "1    False\n",
       "2    False\n",
       "0    False\n",
       "1    False\n",
       "Name: Population, dtype: bool"
      ]
     },
     "execution_count": 73,
     "metadata": {
      "tags": []
     },
     "output_type": "execute_result"
    }
   ],
   "source": [
    "population_all_df['Population'] > 3e7"
   ]
  },
  {
   "cell_type": "markdown",
   "metadata": {
    "id": "y9_2XLGDIxfY"
   },
   "source": [
    "It evaluates the expression Population > 3e7 for each row, and returns a kind of list (actually a Pandas [Series](https://pandas.pydata.org/pandas-docs/stable/reference/api/pandas.Series.html)), with `True` and `False` values for each row, determining if the row meets the selection condition.\n",
    "\n",
    "By inserting this into `population_all_df[]`, we determine which rows to return (i.e. only those for California)."
   ]
  },
  {
   "cell_type": "markdown",
   "metadata": {
    "id": "rWmlLM9zCYZ6"
   },
   "source": [
    "###Join\n",
    "\n",
    "Another very useful function to manipulate Dataframes is `pd.merge`, which allows you to **join** DataFrames.\n",
    "\n",
    "A join assembles information from one table A with that from another table B according to a chosen criterion. This criterion is called the join condition. This condition is composed of one or more columns that are common to A and B.\n",
    "\n",
    "Here is a quick example to help explain. Let's imagine that we have two Dataframes:\n",
    "\n",
    "*  `df1`  containing a list of employees and the names of the departments in which they work,\n",
    "\n",
    "*  `df2`  containing the same list of employees and their dates of entry into the company.\n",
    "\n",
    "The `pd.merge` function allows us to transform these two Dataframes into one, containing both information.\n",
    "\n",
    "![alt text](https://user.oc-static.com/upload/2018/11/19/15426263274571_15190382351255_foo.png)"
   ]
  },
  {
   "cell_type": "code",
   "execution_count": 74,
   "metadata": {
    "colab": {
     "base_uri": "https://localhost:8080/",
     "height": 173
    },
    "id": "z5fhpGEeAjJz",
    "outputId": "bd26cc59-bd81-407d-d128-d78dc00b43bc"
   },
   "outputs": [
    {
     "data": {
      "text/html": [
       "<div>\n",
       "<style scoped>\n",
       "    .dataframe tbody tr th:only-of-type {\n",
       "        vertical-align: middle;\n",
       "    }\n",
       "\n",
       "    .dataframe tbody tr th {\n",
       "        vertical-align: top;\n",
       "    }\n",
       "\n",
       "    .dataframe thead th {\n",
       "        text-align: right;\n",
       "    }\n",
       "</style>\n",
       "<table border=\"1\" class=\"dataframe\">\n",
       "  <thead>\n",
       "    <tr style=\"text-align: right;\">\n",
       "      <th></th>\n",
       "      <th>employee</th>\n",
       "      <th>department</th>\n",
       "      <th>date</th>\n",
       "    </tr>\n",
       "  </thead>\n",
       "  <tbody>\n",
       "    <tr>\n",
       "      <th>0</th>\n",
       "      <td>Bob</td>\n",
       "      <td>Accounting</td>\n",
       "      <td>2008</td>\n",
       "    </tr>\n",
       "    <tr>\n",
       "      <th>1</th>\n",
       "      <td>Jake</td>\n",
       "      <td>Engineering</td>\n",
       "      <td>2012</td>\n",
       "    </tr>\n",
       "    <tr>\n",
       "      <th>2</th>\n",
       "      <td>Lisa</td>\n",
       "      <td>Engineering</td>\n",
       "      <td>2004</td>\n",
       "    </tr>\n",
       "    <tr>\n",
       "      <th>3</th>\n",
       "      <td>Sue</td>\n",
       "      <td>HR</td>\n",
       "      <td>2014</td>\n",
       "    </tr>\n",
       "  </tbody>\n",
       "</table>\n",
       "</div>"
      ],
      "text/plain": [
       "  employee   department  date\n",
       "0      Bob   Accounting  2008\n",
       "1     Jake  Engineering  2012\n",
       "2     Lisa  Engineering  2004\n",
       "3      Sue           HR  2014"
      ]
     },
     "execution_count": 74,
     "metadata": {
      "tags": []
     },
     "output_type": "execute_result"
    }
   ],
   "source": [
    "df1 = pd.DataFrame({'employee': ['Bob', 'Jake', 'Lisa', 'Sue'],\n",
    "                    'department': ['Accounting', 'Engineering', 'Engineering', 'HR']})\n",
    "                    \n",
    "df2 = pd.DataFrame({'employee': ['Lisa', 'Bob', 'Jake', 'Sue'],\n",
    "                    'date': [2004, 2008, 2012, 2014]})\n",
    "df3 = pd.merge(df1, df2)\n",
    "df3"
   ]
  },
  {
   "cell_type": "markdown",
   "metadata": {
    "id": "nn4Jkv5-DHbG"
   },
   "source": [
    "`pd.merge` automatically recognised that the `employee` column was common to both Dataframes, and used it as a join condition. This is akin to a **natural join** in relational algebra. We might explicitly make this clear using the `on=` kwarg.\n",
    "\n",
    "```python\n",
    "df3 = pd.merge(df1, df2, on=\"employee\")\n",
    "```\n",
    "\n",
    "But if these 2 columns had different names (for example employee on df1 and emp_name on df2), then you would instead write:\n",
    "\n",
    "```python\n",
    "  df3 = pd.merge(df1, df2, left_on=\"employee\", right_on=\"emp_name\")\n",
    "```\n",
    "\n",
    "(This would have been an equi-join).\n",
    "\n",
    "We can do left and right outer joins using the `how=` kwarg, which control what we do with rows from the left or right dataframes that don't have a match in the other. See the [Pandas merge documentation for more details](https://pandas.pydata.org/pandas-docs/stable/reference/api/pandas.merge.html).\n",
    "\n",
    "\n",
    "Gotcha: There is also a `pd.join()` method, which does NOT do the same thing (it only operates on special columns called indexes, which we dont use here). Only use `pd.merge()`.\n"
   ]
  },
  {
   "cell_type": "markdown",
   "metadata": {
    "id": "vXB4pO_e1a5O"
   },
   "source": [
    "### Apply\n",
    "\n",
    "Sometimes we want to apply a function on a row of a dataframe. [Pandas apply() function](https://pandas.pydata.org/pandas-docs/stable/reference/api/pandas.DataFrame.apply.html) is very useful for this.\n",
    "\n",
    "For instance, perhaps we want to add a string representation of the states population, e.g. `\"38M\"` for the population of California.\n",
    "\n",
    "I'm going to use a nice Python function from [StackExchange](https://stackoverflow.com/a/3155023):\n"
   ]
  },
  {
   "cell_type": "code",
   "execution_count": 75,
   "metadata": {
    "colab": {
     "base_uri": "https://localhost:8080/",
     "height": 35
    },
    "id": "0bzXnkt62Qtb",
    "outputId": "188b0ba7-5c81-4842-c983-58c2780b7bdf"
   },
   "outputs": [
    {
     "data": {
      "application/vnd.google.colaboratory.intrinsic+json": {
       "type": "string"
      },
      "text/plain": [
       "'38M'"
      ]
     },
     "execution_count": 75,
     "metadata": {
      "tags": []
     },
     "output_type": "execute_result"
    }
   ],
   "source": [
    "import math\n",
    "millnames = ['','K','M','B','T']\n",
    "def millify(n):\n",
    "    n = float(n)\n",
    "    millidx = max(0,min(len(millnames)-1,\n",
    "                        int(math.floor(0 if n == 0 else math.log10(abs(n))/3))))\n",
    "    return '{:.0f}{}'.format(n / 10**(3 * millidx), millnames[millidx])\n",
    "  \n",
    "millify(38332521)"
   ]
  },
  {
   "cell_type": "markdown",
   "metadata": {
    "id": "YFqRee4m2olm"
   },
   "source": [
    "Ok, so how to \"apply\" this function to our dataframe. \n",
    "\n",
    "Well, let's take the Series for the population columns, and apply the function. That returns a new Series with the new string form of the column. "
   ]
  },
  {
   "cell_type": "code",
   "execution_count": 76,
   "metadata": {
    "colab": {
     "base_uri": "https://localhost:8080/"
    },
    "id": "fb14Xxox2tt4",
    "outputId": "f88ba94c-f183-4b49-c685-4cb971ad2d5f"
   },
   "outputs": [
    {
     "data": {
      "text/plain": [
       "0    38M\n",
       "1    26M\n",
       "2    13M\n",
       "0    20M\n",
       "1    20M\n",
       "Name: Population, dtype: object"
      ]
     },
     "execution_count": 76,
     "metadata": {
      "tags": []
     },
     "output_type": "execute_result"
    }
   ],
   "source": [
    "population_all_df[\"Population\"].apply(millify)"
   ]
  },
  {
   "cell_type": "markdown",
   "metadata": {
    "id": "By1WCNzL3MCL"
   },
   "source": [
    "In this case, for *each* Population value, millify is called on the numeric value. \n",
    "\n",
    "We can also apply on an entire dataframe. Here, we use a lambda function to call millify on the attribute we care about. The lambda is called for each row of population_all_df, being passed that row as a Pandas series. We use the square brackets notation to get the Population value. Finally, `axis=1` tells Pandas we are operating row-by-row, not column-by-column, which is the default. "
   ]
  },
  {
   "cell_type": "code",
   "execution_count": 77,
   "metadata": {
    "colab": {
     "base_uri": "https://localhost:8080/"
    },
    "id": "ITntzYWI3Arf",
    "outputId": "17fa3280-88cb-431c-9168-1f4c1279b1e7"
   },
   "outputs": [
    {
     "data": {
      "text/plain": [
       "0    38M\n",
       "1    26M\n",
       "2    13M\n",
       "0    20M\n",
       "1    20M\n",
       "dtype: object"
      ]
     },
     "execution_count": 77,
     "metadata": {
      "tags": []
     },
     "output_type": "execute_result"
    }
   ],
   "source": [
    "population_all_df.apply(lambda row: millify(row[\"Population\"]), axis=1)"
   ]
  },
  {
   "cell_type": "markdown",
   "metadata": {
    "id": "xPN_JKPb35W2"
   },
   "source": [
    "Ok, so how can we make a new column. Well we can assign columns to dataframes too."
   ]
  },
  {
   "cell_type": "code",
   "execution_count": 78,
   "metadata": {
    "colab": {
     "base_uri": "https://localhost:8080/",
     "height": 204
    },
    "id": "MKLtFyIz34R1",
    "outputId": "643cedc7-63f5-46a5-f6c7-d446a534ece5"
   },
   "outputs": [
    {
     "data": {
      "text/html": [
       "<div>\n",
       "<style scoped>\n",
       "    .dataframe tbody tr th:only-of-type {\n",
       "        vertical-align: middle;\n",
       "    }\n",
       "\n",
       "    .dataframe tbody tr th {\n",
       "        vertical-align: top;\n",
       "    }\n",
       "\n",
       "    .dataframe thead th {\n",
       "        text-align: right;\n",
       "    }\n",
       "</style>\n",
       "<table border=\"1\" class=\"dataframe\">\n",
       "  <thead>\n",
       "    <tr style=\"text-align: right;\">\n",
       "      <th></th>\n",
       "      <th>State</th>\n",
       "      <th>Population</th>\n",
       "      <th>Pop Human</th>\n",
       "    </tr>\n",
       "  </thead>\n",
       "  <tbody>\n",
       "    <tr>\n",
       "      <th>0</th>\n",
       "      <td>California</td>\n",
       "      <td>38332521</td>\n",
       "      <td>38M</td>\n",
       "    </tr>\n",
       "    <tr>\n",
       "      <th>1</th>\n",
       "      <td>Texas</td>\n",
       "      <td>26448193</td>\n",
       "      <td>26M</td>\n",
       "    </tr>\n",
       "    <tr>\n",
       "      <th>2</th>\n",
       "      <td>Illinois</td>\n",
       "      <td>12882135</td>\n",
       "      <td>13M</td>\n",
       "    </tr>\n",
       "    <tr>\n",
       "      <th>0</th>\n",
       "      <td>New York</td>\n",
       "      <td>19651127</td>\n",
       "      <td>20M</td>\n",
       "    </tr>\n",
       "    <tr>\n",
       "      <th>1</th>\n",
       "      <td>Florida</td>\n",
       "      <td>19552860</td>\n",
       "      <td>20M</td>\n",
       "    </tr>\n",
       "  </tbody>\n",
       "</table>\n",
       "</div>"
      ],
      "text/plain": [
       "        State  Population Pop Human\n",
       "0  California    38332521       38M\n",
       "1       Texas    26448193       26M\n",
       "2    Illinois    12882135       13M\n",
       "0    New York    19651127       20M\n",
       "1     Florida    19552860       20M"
      ]
     },
     "execution_count": 78,
     "metadata": {
      "tags": []
     },
     "output_type": "execute_result"
    }
   ],
   "source": [
    "population_all_df[\"Pop Human\"] = population_all_df[\"Population\"].apply(millify)\n",
    "population_all_df"
   ]
  },
  {
   "cell_type": "markdown",
   "metadata": {
    "id": "nAfB0bd54HWD"
   },
   "source": [
    "Beautiful!"
   ]
  },
  {
   "cell_type": "markdown",
   "metadata": {
    "id": "DH0FmKDoJWQO"
   },
   "source": [
    "### Pandas Exercises\n"
   ]
  },
  {
   "cell_type": "markdown",
   "metadata": {
    "id": "J8Oib3jdJx4j"
   },
   "source": [
    "####Q1. Creating a Pandas dataframe\n",
    "\n",
    "Create a dataframe `area_df` for the following information about states:\n",
    "\n",
    "State| Area\n",
    "--- | ---\n",
    "California | 423967\n",
    "Texas | 695662\n",
    "New York | 141297\n",
    "Florida | 170312\n",
    "Illinois | 149995\n",
    "\n"
   ]
  },
  {
   "cell_type": "code",
   "execution_count": 79,
   "metadata": {
    "colab": {
     "base_uri": "https://localhost:8080/",
     "height": 204
    },
    "id": "-izi15qBC4t9",
    "outputId": "47f5f6e8-2d59-462f-e3cb-d2a0642c3b88"
   },
   "outputs": [
    {
     "data": {
      "text/html": [
       "<div>\n",
       "<style scoped>\n",
       "    .dataframe tbody tr th:only-of-type {\n",
       "        vertical-align: middle;\n",
       "    }\n",
       "\n",
       "    .dataframe tbody tr th {\n",
       "        vertical-align: top;\n",
       "    }\n",
       "\n",
       "    .dataframe thead th {\n",
       "        text-align: right;\n",
       "    }\n",
       "</style>\n",
       "<table border=\"1\" class=\"dataframe\">\n",
       "  <thead>\n",
       "    <tr style=\"text-align: right;\">\n",
       "      <th></th>\n",
       "      <th>State</th>\n",
       "      <th>Area</th>\n",
       "    </tr>\n",
       "  </thead>\n",
       "  <tbody>\n",
       "    <tr>\n",
       "      <th>0</th>\n",
       "      <td>California</td>\n",
       "      <td>423967</td>\n",
       "    </tr>\n",
       "    <tr>\n",
       "      <th>1</th>\n",
       "      <td>Texas</td>\n",
       "      <td>695662</td>\n",
       "    </tr>\n",
       "    <tr>\n",
       "      <th>2</th>\n",
       "      <td>New York</td>\n",
       "      <td>141297</td>\n",
       "    </tr>\n",
       "    <tr>\n",
       "      <th>3</th>\n",
       "      <td>Florida</td>\n",
       "      <td>160312</td>\n",
       "    </tr>\n",
       "    <tr>\n",
       "      <th>4</th>\n",
       "      <td>Illinois</td>\n",
       "      <td>149995</td>\n",
       "    </tr>\n",
       "  </tbody>\n",
       "</table>\n",
       "</div>"
      ],
      "text/plain": [
       "        State    Area\n",
       "0  California  423967\n",
       "1       Texas  695662\n",
       "2    New York  141297\n",
       "3     Florida  160312\n",
       "4    Illinois  149995"
      ]
     },
     "execution_count": 79,
     "metadata": {
      "tags": []
     },
     "output_type": "execute_result"
    }
   ],
   "source": [
    "#YOUR SOLUTION\n",
    "area_df = pd.DataFrame({'State': ['California', 'Texas', 'New York', 'Florida','Illinois'],\n",
    "                    'Area': [423967, 695662, 141297, 160312, 149995]})\n",
    "\n",
    "\n",
    "area_df\n"
   ]
  },
  {
   "cell_type": "markdown",
   "metadata": {
    "id": "umPsES8RJ-mJ"
   },
   "source": [
    "#### Q2. What are the names of states which have an area less than 150,000?\n",
    "\n"
   ]
  },
  {
   "cell_type": "code",
   "execution_count": 80,
   "metadata": {
    "colab": {
     "base_uri": "https://localhost:8080/",
     "height": 111
    },
    "id": "mjrtM9ntK9L3",
    "outputId": "c5a50fc1-0e28-43da-9a48-271ec8ddba89"
   },
   "outputs": [
    {
     "data": {
      "text/html": [
       "<div>\n",
       "<style scoped>\n",
       "    .dataframe tbody tr th:only-of-type {\n",
       "        vertical-align: middle;\n",
       "    }\n",
       "\n",
       "    .dataframe tbody tr th {\n",
       "        vertical-align: top;\n",
       "    }\n",
       "\n",
       "    .dataframe thead th {\n",
       "        text-align: right;\n",
       "    }\n",
       "</style>\n",
       "<table border=\"1\" class=\"dataframe\">\n",
       "  <thead>\n",
       "    <tr style=\"text-align: right;\">\n",
       "      <th></th>\n",
       "      <th>State</th>\n",
       "      <th>Area</th>\n",
       "    </tr>\n",
       "  </thead>\n",
       "  <tbody>\n",
       "    <tr>\n",
       "      <th>2</th>\n",
       "      <td>New York</td>\n",
       "      <td>141297</td>\n",
       "    </tr>\n",
       "    <tr>\n",
       "      <th>4</th>\n",
       "      <td>Illinois</td>\n",
       "      <td>149995</td>\n",
       "    </tr>\n",
       "  </tbody>\n",
       "</table>\n",
       "</div>"
      ],
      "text/plain": [
       "      State    Area\n",
       "2  New York  141297\n",
       "4  Illinois  149995"
      ]
     },
     "execution_count": 80,
     "metadata": {
      "tags": []
     },
     "output_type": "execute_result"
    }
   ],
   "source": [
    "#YOUR SOLUTION\n",
    "small_state = area_df[area_df[\"Area\"] < 150000]\n",
    "small_state"
   ]
  },
  {
   "cell_type": "markdown",
   "metadata": {
    "id": "jBRKINffLZS-"
   },
   "source": [
    "#### Q3. Provide the population and area for the states of Texas and Florida in a single dataframe\n",
    "\n",
    "It should have columns State, Population, Area, and have 2 rows."
   ]
  },
  {
   "cell_type": "code",
   "execution_count": 81,
   "metadata": {
    "colab": {
     "base_uri": "https://localhost:8080/",
     "height": 111
    },
    "id": "IW8a14YtLnGi",
    "outputId": "2d1342cb-d242-48e5-acaa-083ded7906b8"
   },
   "outputs": [
    {
     "data": {
      "text/html": [
       "<div>\n",
       "<style scoped>\n",
       "    .dataframe tbody tr th:only-of-type {\n",
       "        vertical-align: middle;\n",
       "    }\n",
       "\n",
       "    .dataframe tbody tr th {\n",
       "        vertical-align: top;\n",
       "    }\n",
       "\n",
       "    .dataframe thead th {\n",
       "        text-align: right;\n",
       "    }\n",
       "</style>\n",
       "<table border=\"1\" class=\"dataframe\">\n",
       "  <thead>\n",
       "    <tr style=\"text-align: right;\">\n",
       "      <th></th>\n",
       "      <th>state</th>\n",
       "      <th>Area</th>\n",
       "    </tr>\n",
       "  </thead>\n",
       "  <tbody>\n",
       "    <tr>\n",
       "      <th>0</th>\n",
       "      <td>Texas</td>\n",
       "      <td>695662</td>\n",
       "    </tr>\n",
       "    <tr>\n",
       "      <th>1</th>\n",
       "      <td>Florida</td>\n",
       "      <td>160312</td>\n",
       "    </tr>\n",
       "  </tbody>\n",
       "</table>\n",
       "</div>"
      ],
      "text/plain": [
       "     state    Area\n",
       "0    Texas  695662\n",
       "1  Florida  160312"
      ]
     },
     "execution_count": 81,
     "metadata": {
      "tags": []
     },
     "output_type": "execute_result"
    }
   ],
   "source": [
    "#YOUR SOLUTION\n",
    "pop_area = pd.merge(population_all_df, area_df, on=\"State\")\n",
    "\n",
    "Tex_Flor = pd.DataFrame([[\"Texas\", \"695662\"], [\"Florida\", \"160312\"]], columns=[\"state\", \"Area\"])\n",
    "Tex_Flor\n",
    "\n"
   ]
  },
  {
   "cell_type": "markdown",
   "metadata": {
    "id": "iH0Ds2370V0G"
   },
   "source": [
    "### Installation & Configuration\n",
    "\n",
    "PyTerrier is installed as follows. This might take a few minutes, so you can read on."
   ]
  },
  {
   "cell_type": "code",
   "execution_count": 82,
   "metadata": {
    "colab": {
     "base_uri": "https://localhost:8080/"
    },
    "id": "5oE5neAX0bkW",
    "outputId": "8d092992-a9a1-4de6-c758-cca7a965dd60"
   },
   "outputs": [
    {
     "name": "stdout",
     "output_type": "stream",
     "text": [
      "Requirement already satisfied: python-terrier in /usr/local/lib/python3.7/dist-packages (0.6.0)\n",
      "Requirement already satisfied: scipy in /usr/local/lib/python3.7/dist-packages (from python-terrier) (1.4.1)\n",
      "Requirement already satisfied: requests in /usr/local/lib/python3.7/dist-packages (from python-terrier) (2.23.0)\n",
      "Requirement already satisfied: sklearn in /usr/local/lib/python3.7/dist-packages (from python-terrier) (0.0)\n",
      "Requirement already satisfied: chest in /usr/local/lib/python3.7/dist-packages (from python-terrier) (0.2.3)\n",
      "Requirement already satisfied: joblib in /usr/local/lib/python3.7/dist-packages (from python-terrier) (1.0.1)\n",
      "Requirement already satisfied: more-itertools in /usr/local/lib/python3.7/dist-packages (from python-terrier) (8.7.0)\n",
      "Requirement already satisfied: deprecation in /usr/local/lib/python3.7/dist-packages (from python-terrier) (2.1.0)\n",
      "Requirement already satisfied: pyjnius~=1.3.0 in /usr/local/lib/python3.7/dist-packages (from python-terrier) (1.3.0)\n",
      "Requirement already satisfied: numpy in /usr/local/lib/python3.7/dist-packages (from python-terrier) (1.19.5)\n",
      "Requirement already satisfied: wget in /usr/local/lib/python3.7/dist-packages (from python-terrier) (3.2)\n",
      "Requirement already satisfied: matchpy in /usr/local/lib/python3.7/dist-packages (from python-terrier) (0.5.4)\n",
      "Requirement already satisfied: ir-measures>=0.1.4 in /usr/local/lib/python3.7/dist-packages (from python-terrier) (0.1.4)\n",
      "Requirement already satisfied: statsmodels in /usr/local/lib/python3.7/dist-packages (from python-terrier) (0.10.2)\n",
      "Requirement already satisfied: jinja2 in /usr/local/lib/python3.7/dist-packages (from python-terrier) (2.11.3)\n",
      "Requirement already satisfied: pandas>=0.25.0 in /usr/local/lib/python3.7/dist-packages (from python-terrier) (1.1.5)\n",
      "Requirement already satisfied: nptyping in /usr/local/lib/python3.7/dist-packages (from python-terrier) (1.4.2)\n",
      "Requirement already satisfied: tqdm in /usr/local/lib/python3.7/dist-packages (from python-terrier) (4.41.1)\n",
      "Requirement already satisfied: ir-datasets>=0.3.2 in /usr/local/lib/python3.7/dist-packages (from python-terrier) (0.4.0)\n",
      "Requirement already satisfied: idna<3,>=2.5 in /usr/local/lib/python3.7/dist-packages (from requests->python-terrier) (2.10)\n",
      "Requirement already satisfied: urllib3!=1.25.0,!=1.25.1,<1.26,>=1.21.1 in /usr/local/lib/python3.7/dist-packages (from requests->python-terrier) (1.24.3)\n",
      "Requirement already satisfied: certifi>=2017.4.17 in /usr/local/lib/python3.7/dist-packages (from requests->python-terrier) (2020.12.5)\n",
      "Requirement already satisfied: chardet<4,>=3.0.2 in /usr/local/lib/python3.7/dist-packages (from requests->python-terrier) (3.0.4)\n",
      "Requirement already satisfied: scikit-learn in /usr/local/lib/python3.7/dist-packages (from sklearn->python-terrier) (0.22.2.post1)\n",
      "Requirement already satisfied: heapdict in /usr/local/lib/python3.7/dist-packages (from chest->python-terrier) (1.0.1)\n",
      "Requirement already satisfied: packaging in /usr/local/lib/python3.7/dist-packages (from deprecation->python-terrier) (20.9)\n",
      "Requirement already satisfied: cython in /usr/local/lib/python3.7/dist-packages (from pyjnius~=1.3.0->python-terrier) (0.29.23)\n",
      "Requirement already satisfied: six>=1.7.0 in /usr/local/lib/python3.7/dist-packages (from pyjnius~=1.3.0->python-terrier) (1.15.0)\n",
      "Requirement already satisfied: multiset<3.0,>=2.0 in /usr/local/lib/python3.7/dist-packages (from matchpy->python-terrier) (2.1.1)\n",
      "Requirement already satisfied: pytrec-eval-terrier==0.5.1 in /usr/local/lib/python3.7/dist-packages (from ir-measures>=0.1.4->python-terrier) (0.5.1)\n",
      "Requirement already satisfied: patsy>=0.4.0 in /usr/local/lib/python3.7/dist-packages (from statsmodels->python-terrier) (0.5.1)\n",
      "Requirement already satisfied: MarkupSafe>=0.23 in /usr/local/lib/python3.7/dist-packages (from jinja2->python-terrier) (2.0.1)\n",
      "Requirement already satisfied: python-dateutil>=2.7.3 in /usr/local/lib/python3.7/dist-packages (from pandas>=0.25.0->python-terrier) (2.8.1)\n",
      "Requirement already satisfied: pytz>=2017.2 in /usr/local/lib/python3.7/dist-packages (from pandas>=0.25.0->python-terrier) (2018.9)\n",
      "Requirement already satisfied: typish>=1.7.0 in /usr/local/lib/python3.7/dist-packages (from nptyping->python-terrier) (1.9.2)\n",
      "Requirement already satisfied: warc3-wet-clueweb09>=0.2.5 in /usr/local/lib/python3.7/dist-packages (from ir-datasets>=0.3.2->python-terrier) (0.2.5)\n",
      "Requirement already satisfied: ijson>=3.1.3 in /usr/local/lib/python3.7/dist-packages (from ir-datasets>=0.3.2->python-terrier) (3.1.4)\n",
      "Requirement already satisfied: lz4>=3.1.1 in /usr/local/lib/python3.7/dist-packages (from ir-datasets>=0.3.2->python-terrier) (3.1.3)\n",
      "Requirement already satisfied: trec-car-tools>=2.5.4 in /usr/local/lib/python3.7/dist-packages (from ir-datasets>=0.3.2->python-terrier) (2.5.4)\n",
      "Requirement already satisfied: pyyaml>=5.3.1 in /usr/local/lib/python3.7/dist-packages (from ir-datasets>=0.3.2->python-terrier) (5.4.1)\n",
      "Requirement already satisfied: warc3-wet>=0.2.3 in /usr/local/lib/python3.7/dist-packages (from ir-datasets>=0.3.2->python-terrier) (0.2.3)\n",
      "Requirement already satisfied: lxml>=4.5.2 in /usr/local/lib/python3.7/dist-packages (from ir-datasets>=0.3.2->python-terrier) (4.6.3)\n",
      "Requirement already satisfied: beautifulsoup4>=4.4.1 in /usr/local/lib/python3.7/dist-packages (from ir-datasets>=0.3.2->python-terrier) (4.6.3)\n",
      "Requirement already satisfied: zlib-state>=0.1.3 in /usr/local/lib/python3.7/dist-packages (from ir-datasets>=0.3.2->python-terrier) (0.1.3)\n",
      "Requirement already satisfied: pyparsing>=2.0.2 in /usr/local/lib/python3.7/dist-packages (from packaging->deprecation->python-terrier) (2.4.7)\n",
      "Requirement already satisfied: cbor>=1.0.0 in /usr/local/lib/python3.7/dist-packages (from trec-car-tools>=2.5.4->ir-datasets>=0.3.2->python-terrier) (1.0.0)\n"
     ]
    }
   ],
   "source": [
    "!pip install python-terrier"
   ]
  },
  {
   "cell_type": "markdown",
   "metadata": {
    "id": "JUN1B8RI0gPC"
   },
   "source": [
    "The next step is to initialise PyTerrier. This is performed using PyTerrier's `init()` method. The `init()` method is needed as PyTerrier must download Terrier's jar file and start the Java virtual machine. We prevent init() from being called more than once by checking `started()`."
   ]
  },
  {
   "cell_type": "code",
   "execution_count": 83,
   "metadata": {
    "id": "Z4qALBa90-7g"
   },
   "outputs": [],
   "source": [
    "import pyterrier as pt\n",
    "if not pt.started():\n",
    "  pt.init()"
   ]
  },
  {
   "cell_type": "markdown",
   "metadata": {
    "id": "-qqjVSu-5_FX"
   },
   "source": [
    "### Documents, Indexing and Indexes"
   ]
  },
  {
   "cell_type": "markdown",
   "metadata": {
    "id": "3soS1IIy5B83"
   },
   "source": [
    "Much of PyTerrier's view of the world is wrapped up in Pandas dataframes. Let's consider some textual documents in a dataframe.\n"
   ]
  },
  {
   "cell_type": "code",
   "execution_count": 84,
   "metadata": {
    "colab": {
     "base_uri": "https://localhost:8080/",
     "height": 142
    },
    "id": "gSEiEuTE5uyL",
    "outputId": "864a9cc3-0e6c-4d81-e6b6-1d5fa94afa13"
   },
   "outputs": [
    {
     "data": {
      "text/html": [
       "<div>\n",
       "<style scoped>\n",
       "    .dataframe tbody tr th:only-of-type {\n",
       "        vertical-align: middle;\n",
       "    }\n",
       "\n",
       "    .dataframe tbody tr th {\n",
       "        vertical-align: top;\n",
       "    }\n",
       "\n",
       "    .dataframe thead th {\n",
       "        text-align: right;\n",
       "    }\n",
       "</style>\n",
       "<table border=\"1\" class=\"dataframe\">\n",
       "  <thead>\n",
       "    <tr style=\"text-align: right;\">\n",
       "      <th></th>\n",
       "      <th>docno</th>\n",
       "      <th>text</th>\n",
       "    </tr>\n",
       "  </thead>\n",
       "  <tbody>\n",
       "    <tr>\n",
       "      <th>0</th>\n",
       "      <td>d1</td>\n",
       "      <td>this is the first document of many documents</td>\n",
       "    </tr>\n",
       "    <tr>\n",
       "      <th>1</th>\n",
       "      <td>d2</td>\n",
       "      <td>this is another document</td>\n",
       "    </tr>\n",
       "    <tr>\n",
       "      <th>2</th>\n",
       "      <td>d3</td>\n",
       "      <td>the topic of this document is unknown</td>\n",
       "    </tr>\n",
       "  </tbody>\n",
       "</table>\n",
       "</div>"
      ],
      "text/plain": [
       "  docno                                          text\n",
       "0    d1  this is the first document of many documents\n",
       "1    d2                      this is another document\n",
       "2    d3         the topic of this document is unknown"
      ]
     },
     "execution_count": 84,
     "metadata": {
      "tags": []
     },
     "output_type": "execute_result"
    }
   ],
   "source": [
    "import pandas as pd\n",
    "docs_df = pd.DataFrame([\n",
    "    [\"d1\", \"this is the first document of many documents\"],\n",
    "    [\"d2\", \"this is another document\"],\n",
    "    [\"d3\", \"the topic of this document is unknown\"]\n",
    "], columns=[\"docno\", \"text\"])\n",
    "docs_df\n"
   ]
  },
  {
   "cell_type": "markdown",
   "metadata": {
    "id": "2RCtCCTU6GAj"
   },
   "source": [
    "Before any search engine can estimate which documents are most likely to be relevant for a given query, it must index the documents. The index is written into a directory called `index_3docs`. "
   ]
  },
  {
   "cell_type": "code",
   "execution_count": 85,
   "metadata": {
    "colab": {
     "base_uri": "https://localhost:8080/",
     "height": 35
    },
    "id": "1YvLhEOS6V8w",
    "outputId": "8a6a9d43-9433-4cc8-b3d3-a8bacee4db3d"
   },
   "outputs": [
    {
     "data": {
      "application/vnd.google.colaboratory.intrinsic+json": {
       "type": "string"
      },
      "text/plain": [
       "'./index_3docs/data.properties'"
      ]
     },
     "execution_count": 85,
     "metadata": {
      "tags": []
     },
     "output_type": "execute_result"
    }
   ],
   "source": [
    "indexer = pt.DFIndexer(\"./index_3docs\", overwrite=True)\n",
    "indexref = indexer.index(docs_df[\"text\"], docs_df[\"docno\"])\n",
    "indexref.toString()"
   ]
  },
  {
   "cell_type": "markdown",
   "metadata": {
    "id": "TUm6r6_625gW"
   },
   "source": [
    "An IndexRef is essentially a string saying where an index is stored. \n",
    "\n",
    "Indeed, we can look in the `index_3docs` directory and see that it has created various small files. The filenames give hints to the corresponding data structures: \n",
    " - some files relating to a lexicon (aka vocabulary)\n",
    " - a file relating to the inverted index\n",
    " - a file relating to the direct index (aka forward index, used for QE)\n",
    " - files relating to document metadata (e.g. storing the unique identifiers for documents) and document lengths\n"
   ]
  },
  {
   "cell_type": "code",
   "execution_count": 86,
   "metadata": {
    "colab": {
     "base_uri": "https://localhost:8080/"
    },
    "id": "TF45pl5O8p7R",
    "outputId": "ff783647-0073-4632-d621-52f2d2c9bd46"
   },
   "outputs": [
    {
     "name": "stdout",
     "output_type": "stream",
     "text": [
      "total 40K\n",
      "-rw-r--r-- 1 root root    3 Jun 10 00:12 data.direct.bf\n",
      "-rw-r--r-- 1 root root   51 Jun 10 00:12 data.document.fsarrayfile\n",
      "-rw-r--r-- 1 root root    4 Jun 10 00:12 data.inverted.bf\n",
      "-rw-r--r-- 1 root root  344 Jun 10 00:12 data.lexicon.fsomapfile\n",
      "-rw-r--r-- 1 root root  249 Jun 10 00:12 data.lexicon.fsomaphash\n",
      "-rw-r--r-- 1 root root   20 Jun  9 18:29 data.lexicon.fsomapid\n",
      "-rw-r--r-- 1 root root   24 Jun 10 00:12 data.meta.idx\n",
      "-rw-r--r-- 1 root root   48 Jun 10 00:12 data.meta.zdata\n",
      "-rw-r--r-- 1 root root 4.1K Jun 10 00:12 data.properties\n"
     ]
    }
   ],
   "source": [
    "!ls -lh index_3docs/"
   ]
  },
  {
   "cell_type": "markdown",
   "metadata": {
    "id": "B2b8isFP3Kv6"
   },
   "source": [
    "How can we make an IndexRef useful - we can load it to an actual index - pt.IndexFactory.of() is the relevant factory. "
   ]
  },
  {
   "cell_type": "code",
   "execution_count": 87,
   "metadata": {
    "colab": {
     "base_uri": "https://localhost:8080/"
    },
    "id": "TTM17szD6pNy",
    "outputId": "4d6146a1-efa4-4a4c-dbcc-fe5fd204da3e"
   },
   "outputs": [
    {
     "data": {
      "text/plain": [
       "jnius.reflect.org.terrier.structures.Index"
      ]
     },
     "execution_count": 87,
     "metadata": {
      "tags": []
     },
     "output_type": "execute_result"
    }
   ],
   "source": [
    "index = pt.IndexFactory.of(indexref)\n",
    "\n",
    "#lets see what Python type index is.\n",
    "type(index)"
   ]
  },
  {
   "cell_type": "markdown",
   "metadata": {
    "id": "mZe3HD5i7G3v"
   },
   "source": [
    "Ok, so this object refers to Terrier's [Index type](http://terrier.org/docs/current/javadoc/org/terrier/structures/Index.html). Check the linked Javadoc - you will see that this Java object has methods such as:\n",
    " - getCollectionStatistics()\n",
    " - getInvertedIndex()\n",
    " - getLexicon() \n",
    "\n",
    "Let's see what's in the CollectionStatistics:"
   ]
  },
  {
   "cell_type": "code",
   "execution_count": 88,
   "metadata": {
    "colab": {
     "base_uri": "https://localhost:8080/"
    },
    "id": "6-gXEDSX65bx",
    "outputId": "b24bd463-2fa7-44c6-a9bf-fdcfc0e4825d"
   },
   "outputs": [
    {
     "name": "stdout",
     "output_type": "stream",
     "text": [
      "Number of documents: 3\n",
      "Number of terms: 4\n",
      "Number of postings: 6\n",
      "Number of fields: 0\n",
      "Number of tokens: 7\n",
      "Field names: []\n",
      "Positions:   false\n",
      "\n"
     ]
    }
   ],
   "source": [
    "print(index.getCollectionStatistics())\n",
    "# print(index.getInvertedIndex())\n",
    "# print(getLexicon())"
   ]
  },
  {
   "cell_type": "markdown",
   "metadata": {
    "id": "i6HrR4lc7i10"
   },
   "source": [
    "Ok, that seems fair - we have 3 documents. But why only 4 terms? \n",
    "Let's check the [Lexicon](http://terrier.org/docs/current/javadoc/org/terrier/structures/Lexicon.html), which is our vocabulary. Fortunately, the Lexicon can be iterated easily from Python:"
   ]
  },
  {
   "cell_type": "code",
   "execution_count": 89,
   "metadata": {
    "colab": {
     "base_uri": "https://localhost:8080/"
    },
    "id": "us2mAzTW7Bny",
    "outputId": "b4a9bc78-9f53-49f3-bd6d-dcdbd0039290"
   },
   "outputs": [
    {
     "name": "stdout",
     "output_type": "stream",
     "text": [
      "document (<class 'str'>) -> term0 Nt=3 TF=4 maxTF=2 @{0 0 0} (<class 'jnius.reflect.org.terrier.structures.LexiconEntry'>)\n",
      "first (<class 'str'>) -> term1 Nt=1 TF=1 maxTF=1 @{0 0 7} (<class 'jnius.reflect.org.terrier.structures.LexiconEntry'>)\n",
      "topic (<class 'str'>) -> term2 Nt=1 TF=1 maxTF=1 @{0 1 1} (<class 'jnius.reflect.org.terrier.structures.LexiconEntry'>)\n",
      "unknown (<class 'str'>) -> term3 Nt=1 TF=1 maxTF=1 @{0 1 5} (<class 'jnius.reflect.org.terrier.structures.LexiconEntry'>)\n"
     ]
    }
   ],
   "source": [
    "for kv in index.getLexicon():\n",
    "  print(\"%s (%s) -> %s (%s)\" % (kv.getKey(), type(kv.getKey()), kv.getValue(), type(kv.getValue()) ) )"
   ]
  },
  {
   "cell_type": "markdown",
   "metadata": {
    "id": "fwbp94gh86pw"
   },
   "source": [
    "Here, iterating over the Lexicon returns a pair of String term, and a [LexiconEntry](http://terrier.org/docs/current/javadoc/org/terrier/structures/LexiconEntry.html) -- which itself is an [EntryStatistics](http://terrier.org/docs/current/javadoc/org/terrier/structures/EntryStatistics.html) -- and contains information including the statistics of that term.\n",
    "\n",
    "\n",
    "So what did we find? Here are some observations:\n",
    " - we only have 4 unique terms, as stopwords were removed\n",
    " - we have one term for `\"document\"`, even though `\"documents\"` occurred in document \"d1\". \n",
    " \n",
    "Both these observations make sense, as indeed Terrier removes standard stopwords and applies Porter's stemmer by default.\n",
    "\n",
    "Further:\n",
    " - `Nt` is the number of unique documents that each term occurs in. This is useful for calculating IDF\n",
    " - `TF` is the total number of occurrences - some weighting models use this instead of Nt.\n",
    " - The numbers in the `@{}` are a pointer - they tell Terrier where the postings are for that term in the inverted index data structure.\n",
    "\n",
    "Finally, we can also use the square bracket notation to lookup terms in Terrier's lexicon. This is equivalent to [Lexicon.getLexiconEntry(\"chemical\")](http://terrier.org/docs/current/javadoc/org/terrier/structures/Lexicon.html#getLexiconEntry(KEY))\n"
   ]
  },
  {
   "cell_type": "code",
   "execution_count": 90,
   "metadata": {
    "colab": {
     "base_uri": "https://localhost:8080/",
     "height": 35
    },
    "id": "SZmi9498-Ijw",
    "outputId": "d55e6bde-8590-4e6d-9b76-3ea8e327f99a"
   },
   "outputs": [
    {
     "data": {
      "application/vnd.google.colaboratory.intrinsic+json": {
       "type": "string"
      },
      "text/plain": [
       "'term0 Nt=3 TF=4 maxTF=2 @{0 0 0}'"
      ]
     },
     "execution_count": 90,
     "metadata": {
      "tags": []
     },
     "output_type": "execute_result"
    }
   ],
   "source": [
    "index.getLexicon()[\"document\"].toString()"
   ]
  },
  {
   "cell_type": "markdown",
   "metadata": {
    "id": "vaKaU59l-kzg"
   },
   "source": [
    "Let's now think about the inverted index. Remember from Lecture 2 that the inverted index tells us in which *documents* each term occurs in. The LexiconEntry is the pointer that tell us where to find the postings for that term in the inverted index."
   ]
  },
  {
   "cell_type": "code",
   "execution_count": 91,
   "metadata": {
    "colab": {
     "base_uri": "https://localhost:8080/"
    },
    "id": "XQki_Pds8ut2",
    "outputId": "e0395fe3-3adb-4ac7-e503-079933ad3c76"
   },
   "outputs": [
    {
     "name": "stdout",
     "output_type": "stream",
     "text": [
      "ID(0) TF(2) doclen=3\n",
      "ID(1) TF(1) doclen=1\n",
      "ID(2) TF(1) doclen=3\n"
     ]
    }
   ],
   "source": [
    "pointer = index.getLexicon()[\"document\"]\n",
    "for posting in index.getInvertedIndex().getPostings(pointer):\n",
    "  print(posting.toString() + \" doclen=%d\" % posting.getDocumentLength())"
   ]
  },
  {
   "cell_type": "markdown",
   "metadata": {
    "id": "l7EaoIIO_DPx"
   },
   "source": [
    "Ok, so we can see that `\"document\"` occurs once in each of the three documents. NB: Terrier counts documents as integers from 0 (called *docids*). It records the mapping back to *docnos* (the string form, i.e. \"d1\", \"d2\") in a separate data structure called the metaindex."
   ]
  },
  {
   "cell_type": "markdown",
   "metadata": {
    "id": "Klgep_b6AGOA"
   },
   "source": [
    "Similarly, we can see what terms occur in document d1, by using a datastructure called the *direct* index. You can think of this as the opposite of the inverted index: the inverted index tell us, for each term, which documents contain that term; the direct index tells us, for each document, which terms it contains.\n",
    "\n",
    "Let's define a function to show us the contents of a document using the direct index. This a translation of [the Java code for displaying the contents of a document in the Terrier documentation](https://github.com/terrier-org/terrier-core/blob/5.x/doc/extend_retrieval.md#what-terms-occur-in-the-11th-document). When using our function, we can specify which document either by docno (string) or docid (int)."
   ]
  },
  {
   "cell_type": "code",
   "execution_count": 92,
   "metadata": {
    "id": "J93Pg8w5AFrP"
   },
   "outputs": [],
   "source": [
    "def get_document_direct(index, docno=None, docid=None):\n",
    "  if docid is None and docno is None:\n",
    "    raise ValueError(\"Must specify docno or docid\")\n",
    "  if docno is not None:\n",
    "    docid = index.getMetaIndex().getDocument(\"docno\", docno)\n",
    "  else:\n",
    "    docno = index.getMetaIndex().getItem(\"docno\", docid)\n",
    "  rtr = \"Docno %s (docid %d)\\n\" % (docno, docid)\n",
    "  pointer = index.getDocumentIndex().getDocumentEntry(docid)\n",
    "  for p in index.getDirectIndex().getPostings(pointer):\n",
    "    termid = p.getId()\n",
    "    term = index.getLexicon()[termid].getKey()\n",
    "    rtr += (\"\\t%s %d\\n\" % ( term, p.getFrequency()))\n",
    "  return rtr"
   ]
  },
  {
   "cell_type": "code",
   "execution_count": 93,
   "metadata": {
    "colab": {
     "base_uri": "https://localhost:8080/"
    },
    "id": "iX608k5j7uHT",
    "outputId": "8f483f79-5528-410e-a1c4-0a76791b8eb9"
   },
   "outputs": [
    {
     "name": "stdout",
     "output_type": "stream",
     "text": [
      "Docno d1 (docid 0)\n",
      "\tdocument 2\n",
      "\tfirst 1\n",
      "\n"
     ]
    }
   ],
   "source": [
    "print(get_document_direct(index, docno=\"d1\"))"
   ]
  },
  {
   "cell_type": "code",
   "execution_count": 94,
   "metadata": {
    "colab": {
     "base_uri": "https://localhost:8080/"
    },
    "id": "QZmQPitqAZ_4",
    "outputId": "f5111d14-395d-4336-a31d-d760c3cbaec4"
   },
   "outputs": [
    {
     "name": "stdout",
     "output_type": "stream",
     "text": [
      "Docno d1 (docid 0)\n",
      "\tdocument 2\n",
      "\tfirst 1\n",
      "\n"
     ]
    }
   ],
   "source": [
    "print(get_document_direct(index, docid=0))"
   ]
  },
  {
   "cell_type": "markdown",
   "metadata": {
    "id": "zOSdVAr-CGRf"
   },
   "source": [
    "### Searching an Index\n",
    "\n",
    "Our way into search in PyTerrier is called BatchRetrieve. BatchRetrieve is configured by specifying an index and a weighting model. We then search for a single-word query, `\"document\"`."
   ]
  },
  {
   "cell_type": "code",
   "execution_count": 95,
   "metadata": {
    "colab": {
     "base_uri": "https://localhost:8080/",
     "height": 142
    },
    "id": "XtK93nwXCF5C",
    "outputId": "93471d17-b2e5-4b09-f582-2c29c30b107a"
   },
   "outputs": [
    {
     "data": {
      "text/html": [
       "<div>\n",
       "<style scoped>\n",
       "    .dataframe tbody tr th:only-of-type {\n",
       "        vertical-align: middle;\n",
       "    }\n",
       "\n",
       "    .dataframe tbody tr th {\n",
       "        vertical-align: top;\n",
       "    }\n",
       "\n",
       "    .dataframe thead th {\n",
       "        text-align: right;\n",
       "    }\n",
       "</style>\n",
       "<table border=\"1\" class=\"dataframe\">\n",
       "  <thead>\n",
       "    <tr style=\"text-align: right;\">\n",
       "      <th></th>\n",
       "      <th>qid</th>\n",
       "      <th>docid</th>\n",
       "      <th>docno</th>\n",
       "      <th>rank</th>\n",
       "      <th>score</th>\n",
       "      <th>query</th>\n",
       "    </tr>\n",
       "  </thead>\n",
       "  <tbody>\n",
       "    <tr>\n",
       "      <th>0</th>\n",
       "      <td>1</td>\n",
       "      <td>0</td>\n",
       "      <td>d1</td>\n",
       "      <td>0</td>\n",
       "      <td>2.0</td>\n",
       "      <td>document</td>\n",
       "    </tr>\n",
       "    <tr>\n",
       "      <th>1</th>\n",
       "      <td>1</td>\n",
       "      <td>2</td>\n",
       "      <td>d3</td>\n",
       "      <td>1</td>\n",
       "      <td>1.0</td>\n",
       "      <td>document</td>\n",
       "    </tr>\n",
       "    <tr>\n",
       "      <th>2</th>\n",
       "      <td>1</td>\n",
       "      <td>1</td>\n",
       "      <td>d2</td>\n",
       "      <td>2</td>\n",
       "      <td>1.0</td>\n",
       "      <td>document</td>\n",
       "    </tr>\n",
       "  </tbody>\n",
       "</table>\n",
       "</div>"
      ],
      "text/plain": [
       "  qid  docid docno  rank  score     query\n",
       "0   1      0    d1     0    2.0  document\n",
       "1   1      2    d3     1    1.0  document\n",
       "2   1      1    d2     2    1.0  document"
      ]
     },
     "execution_count": 95,
     "metadata": {
      "tags": []
     },
     "output_type": "execute_result"
    }
   ],
   "source": [
    "br = pt.BatchRetrieve(index, wmodel=\"Tf\")\n",
    "br.search(\"document\")"
   ]
  },
  {
   "cell_type": "markdown",
   "metadata": {
    "id": "BHqSfTCtDM2T"
   },
   "source": [
    "So `search()` returns a dataframe with columns:\n",
    " - qid: this is by default \"1\", since it's our first and only query\n",
    " - docid: Terrier' internal integer for each doucment\n",
    " - docno: the external (string) unique identifier for each document\n",
    " - score: the total frequency of the query (terms) in each document\n",
    " - rank: A handy attribute showing the descending order by score\n",
    " - query: the input query\n",
    "\n",
    "As expected, the Tf weighting model used here only counts the frequencies of the query terms in each document, i.e.:\n",
    "$$\n",
    "score(d,Q) = \\sum_{t \\in Q} tf_{t,d}\n",
    "$$\n",
    "\n",
    "Hence, it's clear that document d1 should be the highest scored document with two occurrences (c.f. `'document'` and `'documents'`).  "
   ]
  },
  {
   "cell_type": "markdown",
   "metadata": {
    "id": "BJBXquPOD6q7"
   },
   "source": [
    "We can also pass a dataframe of one or more queries to the `transform()` method (rather than the `search()` method) of a transformer, with queries numbered \"q1\", \"q2\" etc.. "
   ]
  },
  {
   "cell_type": "code",
   "execution_count": 96,
   "metadata": {
    "colab": {
     "base_uri": "https://localhost:8080/",
     "height": 235
    },
    "id": "TPBmPOETBKWk",
    "outputId": "26ee10f1-f010-4278-9194-783859aecd19"
   },
   "outputs": [
    {
     "data": {
      "text/html": [
       "<div>\n",
       "<style scoped>\n",
       "    .dataframe tbody tr th:only-of-type {\n",
       "        vertical-align: middle;\n",
       "    }\n",
       "\n",
       "    .dataframe tbody tr th {\n",
       "        vertical-align: top;\n",
       "    }\n",
       "\n",
       "    .dataframe thead th {\n",
       "        text-align: right;\n",
       "    }\n",
       "</style>\n",
       "<table border=\"1\" class=\"dataframe\">\n",
       "  <thead>\n",
       "    <tr style=\"text-align: right;\">\n",
       "      <th></th>\n",
       "      <th>qid</th>\n",
       "      <th>docid</th>\n",
       "      <th>docno</th>\n",
       "      <th>rank</th>\n",
       "      <th>score</th>\n",
       "      <th>query</th>\n",
       "    </tr>\n",
       "  </thead>\n",
       "  <tbody>\n",
       "    <tr>\n",
       "      <th>0</th>\n",
       "      <td>q1</td>\n",
       "      <td>0</td>\n",
       "      <td>d1</td>\n",
       "      <td>0</td>\n",
       "      <td>2.0</td>\n",
       "      <td>document</td>\n",
       "    </tr>\n",
       "    <tr>\n",
       "      <th>1</th>\n",
       "      <td>q1</td>\n",
       "      <td>2</td>\n",
       "      <td>d3</td>\n",
       "      <td>1</td>\n",
       "      <td>1.0</td>\n",
       "      <td>document</td>\n",
       "    </tr>\n",
       "    <tr>\n",
       "      <th>2</th>\n",
       "      <td>q1</td>\n",
       "      <td>1</td>\n",
       "      <td>d2</td>\n",
       "      <td>2</td>\n",
       "      <td>1.0</td>\n",
       "      <td>document</td>\n",
       "    </tr>\n",
       "    <tr>\n",
       "      <th>3</th>\n",
       "      <td>q2</td>\n",
       "      <td>0</td>\n",
       "      <td>d1</td>\n",
       "      <td>0</td>\n",
       "      <td>3.0</td>\n",
       "      <td>first document</td>\n",
       "    </tr>\n",
       "    <tr>\n",
       "      <th>4</th>\n",
       "      <td>q2</td>\n",
       "      <td>2</td>\n",
       "      <td>d3</td>\n",
       "      <td>1</td>\n",
       "      <td>1.0</td>\n",
       "      <td>first document</td>\n",
       "    </tr>\n",
       "    <tr>\n",
       "      <th>5</th>\n",
       "      <td>q2</td>\n",
       "      <td>1</td>\n",
       "      <td>d2</td>\n",
       "      <td>2</td>\n",
       "      <td>1.0</td>\n",
       "      <td>first document</td>\n",
       "    </tr>\n",
       "  </tbody>\n",
       "</table>\n",
       "</div>"
      ],
      "text/plain": [
       "  qid  docid docno  rank  score           query\n",
       "0  q1      0    d1     0    2.0        document\n",
       "1  q1      2    d3     1    1.0        document\n",
       "2  q1      1    d2     2    1.0        document\n",
       "3  q2      0    d1     0    3.0  first document\n",
       "4  q2      2    d3     1    1.0  first document\n",
       "5  q2      1    d2     2    1.0  first document"
      ]
     },
     "execution_count": 96,
     "metadata": {
      "tags": []
     },
     "output_type": "execute_result"
    }
   ],
   "source": [
    "import pandas as pd\n",
    "queries = pd.DataFrame([[\"q1\", \"document\"], [\"q2\", \"first document\"]], columns=[\"qid\", \"query\"])\n",
    "br.transform(queries)\n",
    "# queries"
   ]
  },
  {
   "cell_type": "markdown",
   "metadata": {
    "id": "tcgDzFLBEWAI"
   },
   "source": [
    "In fact, we are usually calling `transform()`, so it's the default method - i.e. \n",
    "`br.transform(queries)` can be more succinctly written as `br(queries)`."
   ]
  },
  {
   "cell_type": "code",
   "execution_count": 97,
   "metadata": {
    "colab": {
     "base_uri": "https://localhost:8080/",
     "height": 235
    },
    "id": "YCwxb3HhEOp_",
    "outputId": "02547f47-32c3-470a-8a78-29b516526c24"
   },
   "outputs": [
    {
     "data": {
      "text/html": [
       "<div>\n",
       "<style scoped>\n",
       "    .dataframe tbody tr th:only-of-type {\n",
       "        vertical-align: middle;\n",
       "    }\n",
       "\n",
       "    .dataframe tbody tr th {\n",
       "        vertical-align: top;\n",
       "    }\n",
       "\n",
       "    .dataframe thead th {\n",
       "        text-align: right;\n",
       "    }\n",
       "</style>\n",
       "<table border=\"1\" class=\"dataframe\">\n",
       "  <thead>\n",
       "    <tr style=\"text-align: right;\">\n",
       "      <th></th>\n",
       "      <th>qid</th>\n",
       "      <th>docid</th>\n",
       "      <th>docno</th>\n",
       "      <th>rank</th>\n",
       "      <th>score</th>\n",
       "      <th>query</th>\n",
       "    </tr>\n",
       "  </thead>\n",
       "  <tbody>\n",
       "    <tr>\n",
       "      <th>0</th>\n",
       "      <td>q1</td>\n",
       "      <td>0</td>\n",
       "      <td>d1</td>\n",
       "      <td>0</td>\n",
       "      <td>2.0</td>\n",
       "      <td>document</td>\n",
       "    </tr>\n",
       "    <tr>\n",
       "      <th>1</th>\n",
       "      <td>q1</td>\n",
       "      <td>2</td>\n",
       "      <td>d3</td>\n",
       "      <td>1</td>\n",
       "      <td>1.0</td>\n",
       "      <td>document</td>\n",
       "    </tr>\n",
       "    <tr>\n",
       "      <th>2</th>\n",
       "      <td>q1</td>\n",
       "      <td>1</td>\n",
       "      <td>d2</td>\n",
       "      <td>2</td>\n",
       "      <td>1.0</td>\n",
       "      <td>document</td>\n",
       "    </tr>\n",
       "    <tr>\n",
       "      <th>3</th>\n",
       "      <td>q2</td>\n",
       "      <td>0</td>\n",
       "      <td>d1</td>\n",
       "      <td>0</td>\n",
       "      <td>3.0</td>\n",
       "      <td>first document</td>\n",
       "    </tr>\n",
       "    <tr>\n",
       "      <th>4</th>\n",
       "      <td>q2</td>\n",
       "      <td>2</td>\n",
       "      <td>d3</td>\n",
       "      <td>1</td>\n",
       "      <td>1.0</td>\n",
       "      <td>first document</td>\n",
       "    </tr>\n",
       "    <tr>\n",
       "      <th>5</th>\n",
       "      <td>q2</td>\n",
       "      <td>1</td>\n",
       "      <td>d2</td>\n",
       "      <td>2</td>\n",
       "      <td>1.0</td>\n",
       "      <td>first document</td>\n",
       "    </tr>\n",
       "  </tbody>\n",
       "</table>\n",
       "</div>"
      ],
      "text/plain": [
       "  qid  docid docno  rank  score           query\n",
       "0  q1      0    d1     0    2.0        document\n",
       "1  q1      2    d3     1    1.0        document\n",
       "2  q1      1    d2     2    1.0        document\n",
       "3  q2      0    d1     0    3.0  first document\n",
       "4  q2      2    d3     1    1.0  first document\n",
       "5  q2      1    d2     2    1.0  first document"
      ]
     },
     "execution_count": 97,
     "metadata": {
      "tags": []
     },
     "output_type": "execute_result"
    }
   ],
   "source": [
    "br(queries)"
   ]
  },
  {
   "cell_type": "markdown",
   "metadata": {
    "id": "ldY8VV8wQ60Z"
   },
   "source": [
    "### Moving on up\n",
    "\n",
    "OK, having 3 documents is quite trivial, so let's move upto a slightly larger corpus of documents. We'll be using Vaswani NPL. Terrier has a handy `get_dataset()` API, which allows us to download a ready-made index. "
   ]
  },
  {
   "cell_type": "code",
   "execution_count": 98,
   "metadata": {
    "id": "L2lJsK-vEcQx"
   },
   "outputs": [],
   "source": [
    "vaswani_dataset = pt.get_dataset(\"vaswani\")\n",
    "index = pt.IndexFactory.of(vaswani_dataset.get_index())\n"
   ]
  },
  {
   "cell_type": "markdown",
   "metadata": {
    "id": "y7GK9uANRt8w"
   },
   "source": [
    "#### **Task 1**\n",
    "- What are the statistics of our index?\n",
    "- Can you get a feeling for what kind of documents this index contains by inspecting a few documents. e.g. look into the content of the index of docids 0, 10 and 100"
   ]
  },
  {
   "cell_type": "code",
   "execution_count": 99,
   "metadata": {
    "colab": {
     "base_uri": "https://localhost:8080/"
    },
    "id": "bNAVqf9uRr2p",
    "outputId": "a99dc120-74b5-4372-c411-4a6b7c960411"
   },
   "outputs": [
    {
     "name": "stdout",
     "output_type": "stream",
     "text": [
      "Number of documents: 11429\n",
      "Number of terms: 7756\n",
      "Number of postings: 224573\n",
      "Number of fields: 0\n",
      "Number of tokens: 271581\n",
      "Field names: []\n",
      "Positions:   false\n",
      "\n",
      "Docno 1 (docid 0)\n",
      "\tstorag 1\n",
      "\trandom 1\n",
      "\tflexibl 1\n",
      "\tdata 1\n",
      "\tsystem 1\n",
      "\tcompact 1\n",
      "\tsequenti 1\n",
      "\tdigit 1\n",
      "\tmemori 1\n",
      "\tbit 1\n",
      "\taccess 1\n",
      "\tcapac 2\n",
      "\n",
      "Docno 11 (docid 10)\n",
      "\tcircuit 3\n",
      "\ttransistor 1\n",
      "\tus 1\n",
      "\tobtain 1\n",
      "\tswitch 2\n",
      "\tdesign 1\n",
      "\taffect 1\n",
      "\tplot 1\n",
      "\tjunction 1\n",
      "\tcharacterist 1\n",
      "\tparamet 1\n",
      "\trelat 1\n",
      "\ttheoret 1\n",
      "\tload 1\n",
      "\tbistabl 1\n",
      "\tcurv 1\n",
      "\tmai 1\n",
      "\tdiagram 1\n",
      "\tline 1\n",
      "\tstatic 1\n",
      "\n",
      "Docno 101 (docid 100)\n",
      "\tmeasur 1\n",
      "\tobtain 1\n",
      "\tdiscuss 1\n",
      "\tmai 1\n",
      "\tthird 1\n",
      "\tanalysi 1\n",
      "\tresult 1\n",
      "\ttaken 1\n",
      "\tfunction 1\n",
      "\tmolecular 1\n",
      "\tobserv 1\n",
      "\trel 1\n",
      "\tion 1\n",
      "\tshow 1\n",
      "\tspectromet 1\n",
      "\tsatellit 1\n",
      "\tartifici 1\n",
      "\tintens 1\n",
      "\tkm 2\n",
      "\tatmospher 1\n",
      "\theight 2\n",
      "\tvariat 1\n",
      "\tearth 1\n",
      "\tgraph 1\n",
      "\tlatitud 2\n",
      "\tinterv 1\n",
      "\tspectrogram 1\n",
      "\tionic 2\n",
      "\tmass 2\n",
      "\tcomposit 1\n",
      "\tlonger 1\n",
      "\n"
     ]
    }
   ],
   "source": [
    "#YOUR SOLUTION\n",
    "print(index.getCollectionStatistics())\n",
    "print(get_document_direct(index, docid=0))\n",
    "print(get_document_direct(index, docid=10))\n",
    "print(get_document_direct(index, docid=100))"
   ]
  },
  {
   "cell_type": "markdown",
   "metadata": {
    "id": "UaD-_XX7tD4v"
   },
   "source": [
    "So Vaswani is a reasonable index - let's examine the extent that it exhibits some of the textual properties we would expect.\n",
    "\n",
    "#### **Task 2**\n",
    "\n",
    "Use a matplotlib histogram to examine the distribution of the terms occurring in the Lexicon - i.e. it should be possible to read for a given frequency range, the number of terms that have that frequency.\n",
    "\n",
    "Hint: What method of the LexiconEntry can be used to determine the frequency for each term?\n",
    "\n",
    "Hint: it might be easier to read if you apply a logarithmic scale for the y-axis. Allow matplotlib to use its default number of bins (which is 10).\n",
    "\n",
    "<p>&nbsp;</p>\n",
    "\n",
    "#### **Stretch Task (Optional)**\n",
    "\n",
    "Next, let's try to see if Vaswani follows a Zipfian distribution. In terms of probabilities, we have \n",
    "$$\n",
    "r.Pr_t \\approx A\n",
    "$$\n",
    "where $r$ is the rank of the term, and $Pr_t$ is the probability of the term. To check how well Vaswani follows Zipf, reproduce slide 14 from Lecture 3 (concerning AP89) for this collection. We expect that Zipf's law will not hold for low and high ranked terms.\n",
    "\n",
    "Hint: SciPy's [rankdata()](https://docs.scipy.org/doc/scipy/reference/generated/scipy.stats.rankdata.html) function might be useful for getting the rank of any term frequency.\n",
    "\n",
    "Hint: To obtain $Pr_t$, you should compare each term's frequency to one of the collection statistics. \n"
   ]
  },
  {
   "cell_type": "code",
   "execution_count": 100,
   "metadata": {
    "colab": {
     "base_uri": "https://localhost:8080/",
     "height": 370
    },
    "id": "bZ7kZhBVtoPy",
    "outputId": "8a1061d0-495a-4b1e-db19-080761c8ccb6"
   },
   "outputs": [
    {
     "data": {
      "text/plain": [
       "(array([7.54e+03, 1.39e+02, 3.90e+01, 2.00e+01, 5.00e+00, 8.00e+00,\n",
       "        0.00e+00, 3.00e+00, 1.00e+00, 1.00e+00]),\n",
       " array([1.0000e+00, 3.0630e+02, 6.1160e+02, 9.1690e+02, 1.2222e+03,\n",
       "        1.5275e+03, 1.8328e+03, 2.1381e+03, 2.4434e+03, 2.7487e+03,\n",
       "        3.0540e+03]),\n",
       " <a list of 10 Patch objects>)"
      ]
     },
     "execution_count": 100,
     "metadata": {
      "tags": []
     },
     "output_type": "execute_result"
    },
    {
     "data": {
      "image/png": "[encoded data removed]",
      "text/plain": [
       "<Figure size 432x288 with 1 Axes>"
      ]
     },
     "metadata": {
      "needs_background": "light",
      "tags": []
     },
     "output_type": "display_data"
    }
   ],
   "source": [
    "#YOUR SOLUTION\n",
    "import matplotlib.pyplot as plt\n",
    "import numpy as np\n",
    "\n",
    "term_freq = list()\n",
    "for word in index.getLexicon():\n",
    "  term_freq.append(index.getLexicon()[word.getKey()].getFrequency())\n",
    "\n",
    "plt.yscale('log')\n",
    "plt.hist(term_freq)\n",
    "\n",
    "\n",
    "\n"
   ]
  },
  {
   "cell_type": "code",
   "execution_count": 101,
   "metadata": {
    "id": "gxxicWjfVN70"
   },
   "outputs": [],
   "source": [
    "#YOUR SOLUTION - STRETCH/OPTIONAL"
   ]
  },
  {
   "cell_type": "markdown",
   "metadata": {
    "id": "tQD9Q8CqSirN"
   },
   "source": [
    "Next, Vaswani is a *test collection*, in that it is not just a corpus of documents, but it also has a set of queries (called *topics*), with each query having one or more **known** *relevant* documents (also called *qrels*). We'll hear more about test collections in Lecture 5.\n",
    "\n",
    "We can easily access the topics and qrels from the dataset. Indeed these are expressed as dataframes as well (we use Pandas's [head()](https://pandas.pydata.org/pandas-docs/stable/reference/api/pandas.DataFrame.head.html) method to show only the first 5 topics):"
   ]
  },
  {
   "cell_type": "code",
   "execution_count": 102,
   "metadata": {
    "colab": {
     "base_uri": "https://localhost:8080/",
     "height": 204
    },
    "id": "8n7oY-YYS_-A",
    "outputId": "5acd0715-f357-4258-a841-246079c98311"
   },
   "outputs": [
    {
     "data": {
      "text/html": [
       "<div>\n",
       "<style scoped>\n",
       "    .dataframe tbody tr th:only-of-type {\n",
       "        vertical-align: middle;\n",
       "    }\n",
       "\n",
       "    .dataframe tbody tr th {\n",
       "        vertical-align: top;\n",
       "    }\n",
       "\n",
       "    .dataframe thead th {\n",
       "        text-align: right;\n",
       "    }\n",
       "</style>\n",
       "<table border=\"1\" class=\"dataframe\">\n",
       "  <thead>\n",
       "    <tr style=\"text-align: right;\">\n",
       "      <th></th>\n",
       "      <th>qid</th>\n",
       "      <th>query</th>\n",
       "    </tr>\n",
       "  </thead>\n",
       "  <tbody>\n",
       "    <tr>\n",
       "      <th>0</th>\n",
       "      <td>1</td>\n",
       "      <td>measurement of dielectric constant of liquids by the use of microwave techniques</td>\n",
       "    </tr>\n",
       "    <tr>\n",
       "      <th>1</th>\n",
       "      <td>2</td>\n",
       "      <td>mathematical analysis and design details of waveguide fed microwave radiations</td>\n",
       "    </tr>\n",
       "    <tr>\n",
       "      <th>2</th>\n",
       "      <td>3</td>\n",
       "      <td>use of digital computers in the design of band pass filters having given phase and attenuation characteristics</td>\n",
       "    </tr>\n",
       "    <tr>\n",
       "      <th>3</th>\n",
       "      <td>4</td>\n",
       "      <td>systems of data coding for information transfer</td>\n",
       "    </tr>\n",
       "    <tr>\n",
       "      <th>4</th>\n",
       "      <td>5</td>\n",
       "      <td>use of programs in engineering testing of computers</td>\n",
       "    </tr>\n",
       "  </tbody>\n",
       "</table>\n",
       "</div>"
      ],
      "text/plain": [
       "  qid                                                                                                           query\n",
       "0   1                                measurement of dielectric constant of liquids by the use of microwave techniques\n",
       "1   2                                  mathematical analysis and design details of waveguide fed microwave radiations\n",
       "2   3  use of digital computers in the design of band pass filters having given phase and attenuation characteristics\n",
       "3   4                                                                 systems of data coding for information transfer\n",
       "4   5                                                             use of programs in engineering testing of computers"
      ]
     },
     "execution_count": 102,
     "metadata": {
      "tags": []
     },
     "output_type": "execute_result"
    }
   ],
   "source": [
    "vaswani_dataset.get_topics().head(5)"
   ]
  },
  {
   "cell_type": "code",
   "execution_count": 103,
   "metadata": {
    "colab": {
     "base_uri": "https://localhost:8080/",
     "height": 204
    },
    "id": "-rYxqvhJTGNX",
    "outputId": "87525f31-2ddd-4ff2-e91a-2bd8d1b5ecae"
   },
   "outputs": [
    {
     "data": {
      "text/html": [
       "<div>\n",
       "<style scoped>\n",
       "    .dataframe tbody tr th:only-of-type {\n",
       "        vertical-align: middle;\n",
       "    }\n",
       "\n",
       "    .dataframe tbody tr th {\n",
       "        vertical-align: top;\n",
       "    }\n",
       "\n",
       "    .dataframe thead th {\n",
       "        text-align: right;\n",
       "    }\n",
       "</style>\n",
       "<table border=\"1\" class=\"dataframe\">\n",
       "  <thead>\n",
       "    <tr style=\"text-align: right;\">\n",
       "      <th></th>\n",
       "      <th>qid</th>\n",
       "      <th>docno</th>\n",
       "      <th>label</th>\n",
       "    </tr>\n",
       "  </thead>\n",
       "  <tbody>\n",
       "    <tr>\n",
       "      <th>0</th>\n",
       "      <td>1</td>\n",
       "      <td>1239</td>\n",
       "      <td>1</td>\n",
       "    </tr>\n",
       "    <tr>\n",
       "      <th>1</th>\n",
       "      <td>1</td>\n",
       "      <td>1502</td>\n",
       "      <td>1</td>\n",
       "    </tr>\n",
       "    <tr>\n",
       "      <th>2</th>\n",
       "      <td>1</td>\n",
       "      <td>4462</td>\n",
       "      <td>1</td>\n",
       "    </tr>\n",
       "    <tr>\n",
       "      <th>3</th>\n",
       "      <td>1</td>\n",
       "      <td>4569</td>\n",
       "      <td>1</td>\n",
       "    </tr>\n",
       "    <tr>\n",
       "      <th>4</th>\n",
       "      <td>1</td>\n",
       "      <td>5472</td>\n",
       "      <td>1</td>\n",
       "    </tr>\n",
       "  </tbody>\n",
       "</table>\n",
       "</div>"
      ],
      "text/plain": [
       "  qid docno  label\n",
       "0   1  1239      1\n",
       "1   1  1502      1\n",
       "2   1  4462      1\n",
       "3   1  4569      1\n",
       "4   1  5472      1"
      ]
     },
     "execution_count": 103,
     "metadata": {
      "tags": []
     },
     "output_type": "execute_result"
    }
   ],
   "source": [
    "vaswani_dataset.get_qrels().head(5)"
   ]
  },
  {
   "cell_type": "markdown",
   "metadata": {
    "id": "PX2Y-0DiTSAI"
   },
   "source": [
    "#### **Task 3**\n",
    "\n",
    "Using `get_document_direct()` and the qrels, print the contents of the relevant documents for the query with qid \"4\". NB: qids are strings.\n",
    "\n",
    "Hint: Try a Pandas apply()?\n"
   ]
  },
  {
   "cell_type": "code",
   "execution_count": 104,
   "metadata": {
    "colab": {
     "base_uri": "https://localhost:8080/"
    },
    "id": "qPWFJErjTP50",
    "outputId": "bdea92e5-21a3-45a6-c25f-591da7cc5285"
   },
   "outputs": [
    {
     "name": "stdout",
     "output_type": "stream",
     "text": [
      "   qid docno  label\n",
      "67   4  2042      1\n",
      "68   4  2180      1\n",
      "69   4  3595      1\n",
      "70   4  4057      1\n",
      "71   4  7985      1\n",
      "Docno 2042 (docid 2041)\n",
      "\tdata 1\n",
      "\tprocess 2\n",
      "\tgroup 1\n",
      "\trepresent 1\n",
      "\tautomat 1\n",
      "\n",
      "Docno 2180 (docid 2179)\n",
      "\tstorag 1\n",
      "\tdata 1\n",
      "\tdigit 1\n",
      "\tprocess 1\n",
      "\tmagnet 1\n",
      "\ttape 1\n",
      "\n",
      "Docno 3595 (docid 3594)\n",
      "\tdata 1\n",
      "\tsystem 2\n",
      "\tdigit 2\n",
      "\tprocess 1\n",
      "\tdiscuss 1\n",
      "\tdesign 1\n",
      "\tdetect 1\n",
      "\tcorrect 1\n",
      "\tinclud 1\n",
      "\terror 2\n",
      "\tcode 3\n",
      "\n",
      "Docno 4057 (docid 4056)\n",
      "\tdata 1\n",
      "\tsystem 1\n",
      "\tdigit 3\n",
      "\telectron 1\n",
      "\tunit 1\n",
      "\tgiven 2\n",
      "\tcount 1\n",
      "\tprocess 1\n",
      "\tsimpl 2\n",
      "\tdiscuss 1\n",
      "\tdesign 1\n",
      "\tbasic 1\n",
      "\tbriefli 1\n",
      "\tapplic 1\n",
      "\tdescript 1\n",
      "\tproblem 1\n",
      "\tconsider 1\n",
      "\tcathod 1\n",
      "\ttube 1\n",
      "\tinput 1\n",
      "\tphysic 1\n",
      "\tcorrel 3\n",
      "\toutlin 1\n",
      "\tmeteor 1\n",
      "\tvisual 1\n",
      "\ttape 1\n",
      "\tcode 2\n",
      "\trecent 1\n",
      "\treadout 1\n",
      "\temploi 1\n",
      "\tarithmet 1\n",
      "\tpunch 1\n",
      "\n",
      "Docno 7985 (docid 7984)\n",
      "\tsystem 1\n",
      "\tdigit 1\n",
      "\tcontrol 1\n",
      "\treflect 1\n",
      "\tcode 1\n",
      "\n"
     ]
    }
   ],
   "source": [
    "# br = pt.BatchRetrieve(index, wmodel=\"Tf\")\n",
    "# rel = br(vaswani_dataset.get_topics())\n",
    "# print(rel)\n",
    "rel = vaswani_dataset.get_qrels()\n",
    "x = rel[rel[\"qid\"] == '4']\n",
    "print(x)\n",
    "list_docno = list(x['docno'])\n",
    "# print(loc_docno)\n",
    "for doc_no in list_docno:\n",
    "  print(get_document_direct(index, docno=doc_no))\n"
   ]
  },
  {
   "cell_type": "markdown",
   "metadata": {
    "id": "2Gop4-jVbIIu"
   },
   "source": [
    "### Weighting Models\n",
    "\n",
    "So far, we have been using the simple Tf as our ranking function for document retrieval in BatchRetrieve. However, we can use other models such as `\"TF_IDF\"` by simply changing the `wmodel=\"Tf\"` keyword argument in the constructor of BatchRetrieve.\n"
   ]
  },
  {
   "cell_type": "code",
   "execution_count": 105,
   "metadata": {
    "colab": {
     "base_uri": "https://localhost:8080/",
     "height": 419
    },
    "id": "Cg8AGzCibdPG",
    "outputId": "146b8d89-af17-4342-e0e2-dad72bf122cb"
   },
   "outputs": [
    {
     "data": {
      "text/html": [
       "<div>\n",
       "<style scoped>\n",
       "    .dataframe tbody tr th:only-of-type {\n",
       "        vertical-align: middle;\n",
       "    }\n",
       "\n",
       "    .dataframe tbody tr th {\n",
       "        vertical-align: top;\n",
       "    }\n",
       "\n",
       "    .dataframe thead th {\n",
       "        text-align: right;\n",
       "    }\n",
       "</style>\n",
       "<table border=\"1\" class=\"dataframe\">\n",
       "  <thead>\n",
       "    <tr style=\"text-align: right;\">\n",
       "      <th></th>\n",
       "      <th>qid</th>\n",
       "      <th>docid</th>\n",
       "      <th>docno</th>\n",
       "      <th>rank</th>\n",
       "      <th>score</th>\n",
       "      <th>query</th>\n",
       "    </tr>\n",
       "  </thead>\n",
       "  <tbody>\n",
       "    <tr>\n",
       "      <th>0</th>\n",
       "      <td>1</td>\n",
       "      <td>8171</td>\n",
       "      <td>8172</td>\n",
       "      <td>0</td>\n",
       "      <td>13.746087</td>\n",
       "      <td>measurement of dielectric constant of liquids by the use of microwave techniques</td>\n",
       "    </tr>\n",
       "    <tr>\n",
       "      <th>1</th>\n",
       "      <td>1</td>\n",
       "      <td>9880</td>\n",
       "      <td>9881</td>\n",
       "      <td>1</td>\n",
       "      <td>12.352666</td>\n",
       "      <td>measurement of dielectric constant of liquids by the use of microwave techniques</td>\n",
       "    </tr>\n",
       "    <tr>\n",
       "      <th>2</th>\n",
       "      <td>1</td>\n",
       "      <td>5501</td>\n",
       "      <td>5502</td>\n",
       "      <td>2</td>\n",
       "      <td>12.178153</td>\n",
       "      <td>measurement of dielectric constant of liquids by the use of microwave techniques</td>\n",
       "    </tr>\n",
       "    <tr>\n",
       "      <th>3</th>\n",
       "      <td>1</td>\n",
       "      <td>1501</td>\n",
       "      <td>1502</td>\n",
       "      <td>3</td>\n",
       "      <td>10.993585</td>\n",
       "      <td>measurement of dielectric constant of liquids by the use of microwave techniques</td>\n",
       "    </tr>\n",
       "    <tr>\n",
       "      <th>4</th>\n",
       "      <td>1</td>\n",
       "      <td>9858</td>\n",
       "      <td>9859</td>\n",
       "      <td>4</td>\n",
       "      <td>10.271452</td>\n",
       "      <td>measurement of dielectric constant of liquids by the use of microwave techniques</td>\n",
       "    </tr>\n",
       "    <tr>\n",
       "      <th>...</th>\n",
       "      <td>...</td>\n",
       "      <td>...</td>\n",
       "      <td>...</td>\n",
       "      <td>...</td>\n",
       "      <td>...</td>\n",
       "      <td>...</td>\n",
       "    </tr>\n",
       "    <tr>\n",
       "      <th>995</th>\n",
       "      <td>1</td>\n",
       "      <td>2455</td>\n",
       "      <td>2456</td>\n",
       "      <td>995</td>\n",
       "      <td>2.646072</td>\n",
       "      <td>measurement of dielectric constant of liquids by the use of microwave techniques</td>\n",
       "    </tr>\n",
       "    <tr>\n",
       "      <th>996</th>\n",
       "      <td>1</td>\n",
       "      <td>3972</td>\n",
       "      <td>3973</td>\n",
       "      <td>996</td>\n",
       "      <td>2.646072</td>\n",
       "      <td>measurement of dielectric constant of liquids by the use of microwave techniques</td>\n",
       "    </tr>\n",
       "    <tr>\n",
       "      <th>997</th>\n",
       "      <td>1</td>\n",
       "      <td>8288</td>\n",
       "      <td>8289</td>\n",
       "      <td>997</td>\n",
       "      <td>2.646072</td>\n",
       "      <td>measurement of dielectric constant of liquids by the use of microwave techniques</td>\n",
       "    </tr>\n",
       "    <tr>\n",
       "      <th>998</th>\n",
       "      <td>1</td>\n",
       "      <td>11011</td>\n",
       "      <td>11012</td>\n",
       "      <td>998</td>\n",
       "      <td>2.644992</td>\n",
       "      <td>measurement of dielectric constant of liquids by the use of microwave techniques</td>\n",
       "    </tr>\n",
       "    <tr>\n",
       "      <th>999</th>\n",
       "      <td>1</td>\n",
       "      <td>8036</td>\n",
       "      <td>8037</td>\n",
       "      <td>999</td>\n",
       "      <td>2.644992</td>\n",
       "      <td>measurement of dielectric constant of liquids by the use of microwave techniques</td>\n",
       "    </tr>\n",
       "  </tbody>\n",
       "</table>\n",
       "<p>1000 rows × 6 columns</p>\n",
       "</div>"
      ],
      "text/plain": [
       "    qid  ...                                                                             query\n",
       "0     1  ...  measurement of dielectric constant of liquids by the use of microwave techniques\n",
       "1     1  ...  measurement of dielectric constant of liquids by the use of microwave techniques\n",
       "2     1  ...  measurement of dielectric constant of liquids by the use of microwave techniques\n",
       "3     1  ...  measurement of dielectric constant of liquids by the use of microwave techniques\n",
       "4     1  ...  measurement of dielectric constant of liquids by the use of microwave techniques\n",
       "..   ..  ...                                                                               ...\n",
       "995   1  ...  measurement of dielectric constant of liquids by the use of microwave techniques\n",
       "996   1  ...  measurement of dielectric constant of liquids by the use of microwave techniques\n",
       "997   1  ...  measurement of dielectric constant of liquids by the use of microwave techniques\n",
       "998   1  ...  measurement of dielectric constant of liquids by the use of microwave techniques\n",
       "999   1  ...  measurement of dielectric constant of liquids by the use of microwave techniques\n",
       "\n",
       "[1000 rows x 6 columns]"
      ]
     },
     "execution_count": 105,
     "metadata": {
      "tags": []
     },
     "output_type": "execute_result"
    }
   ],
   "source": [
    "tfidf = pt.BatchRetrieve(index, wmodel=\"TF_IDF\")\n",
    "\n",
    "tfidf.transform(vaswani_dataset.get_topics().head(1))"
   ]
  },
  {
   "cell_type": "markdown",
   "metadata": {
    "id": "m6aZGX9sbdmc"
   },
   "source": [
    "You will note that, as expected, the scores of documents ranked by TF_IDF are no longer integers. You can see the exact formula used by Terrier from [the Github repo](https://github.com/terrier-org/terrier-core/blob/5.x/modules/core/src/main/java/org/terrier/matching/models/TF_IDF.java#L79).\n",
    "\n",
    "Terrier supports many weighting models - the documentation contains [a list of supported models](http://terrier.org/docs/current/javadoc/org/terrier/matching/models/package-summary.html) - some of which we will discover later in the IR course.\n"
   ]
  },
  {
   "cell_type": "markdown",
   "metadata": {
    "id": "OiM8I_fkUcQ9"
   },
   "source": [
    "### PyTerrier Transformers\n",
    "\n",
    "You'll have noted that BatchRetrieve has a `transform()` method that takes as input a dataframe, and returns another dataframe, which is somehow a *transformation* of the earlier dataframe (e.g. a retrieval transformation). In fact, BatchRetrieve is just one of many similar objects in PyTerrier, which we call [transformers](https://pyterrier.readthedocs.io/en/latest/transformer.html) (represented by the TransformerBase class).\n",
    "\n",
    "Let's give a look at a BatchRetrieve transformer, e.g. the tfidf one:"
   ]
  },
  {
   "cell_type": "code",
   "execution_count": 106,
   "metadata": {
    "colab": {
     "base_uri": "https://localhost:8080/"
    },
    "id": "UqMt-9UlTqLa",
    "outputId": "d89812ac-580d-46b2-bd25-fca03423c989"
   },
   "outputs": [
    {
     "name": "stdout",
     "output_type": "stream",
     "text": [
      "True\n"
     ]
    },
    {
     "data": {
      "text/plain": [
       "(pyterrier.batchretrieve.BatchRetrieve,\n",
       " pyterrier.batchretrieve.BatchRetrieveBase,\n",
       " pyterrier.transformer.TransformerBase,\n",
       " matchpy.expressions.expressions.Symbol,\n",
       " matchpy.expressions.expressions.Atom,\n",
       " matchpy.expressions.expressions.Expression,\n",
       " object)"
      ]
     },
     "execution_count": 106,
     "metadata": {
      "tags": []
     },
     "output_type": "execute_result"
    }
   ],
   "source": [
    "#tfidf is a transformer...\n",
    "print(isinstance(tfidf, pt.transformer.TransformerBase))\n",
    "#Yes!\n",
    "\n",
    "# this prints the type hierarchy of the TF_IDF class\n",
    "tfidf.__class__.__mro__"
   ]
  },
  {
   "cell_type": "markdown",
   "metadata": {
    "id": "GW3afDgPukvU"
   },
   "source": [
    "One interesting capability of all transformers is that they can be combined using Python operators (this is called operator overloading).\n",
    "\n",
    "Concretely, imagine that you want to chain transformers together - e.g. rank documents first by Tf then re-ranked the *exact same* documents by BM25. We can do this using the `>>` operator - we call this composition, or \"then\"."
   ]
  },
  {
   "cell_type": "code",
   "execution_count": 107,
   "metadata": {
    "colab": {
     "base_uri": "https://localhost:8080/",
     "height": 419
    },
    "id": "e9HkXxtgug15",
    "outputId": "e67eff6d-4b38-41ea-d65f-23a8adce7b4e"
   },
   "outputs": [
    {
     "data": {
      "text/html": [
       "<div>\n",
       "<style scoped>\n",
       "    .dataframe tbody tr th:only-of-type {\n",
       "        vertical-align: middle;\n",
       "    }\n",
       "\n",
       "    .dataframe tbody tr th {\n",
       "        vertical-align: top;\n",
       "    }\n",
       "\n",
       "    .dataframe thead th {\n",
       "        text-align: right;\n",
       "    }\n",
       "</style>\n",
       "<table border=\"1\" class=\"dataframe\">\n",
       "  <thead>\n",
       "    <tr style=\"text-align: right;\">\n",
       "      <th></th>\n",
       "      <th>qid</th>\n",
       "      <th>docid</th>\n",
       "      <th>docno</th>\n",
       "      <th>rank</th>\n",
       "      <th>score</th>\n",
       "      <th>query</th>\n",
       "    </tr>\n",
       "  </thead>\n",
       "  <tbody>\n",
       "    <tr>\n",
       "      <th>0</th>\n",
       "      <td>1</td>\n",
       "      <td>7233</td>\n",
       "      <td>7234</td>\n",
       "      <td>0</td>\n",
       "      <td>9.0</td>\n",
       "      <td>measurement of dielectric constant of liquids by the use of microwave techniques</td>\n",
       "    </tr>\n",
       "    <tr>\n",
       "      <th>1</th>\n",
       "      <td>1</td>\n",
       "      <td>3692</td>\n",
       "      <td>3693</td>\n",
       "      <td>1</td>\n",
       "      <td>8.0</td>\n",
       "      <td>measurement of dielectric constant of liquids by the use of microwave techniques</td>\n",
       "    </tr>\n",
       "    <tr>\n",
       "      <th>2</th>\n",
       "      <td>1</td>\n",
       "      <td>5501</td>\n",
       "      <td>5502</td>\n",
       "      <td>2</td>\n",
       "      <td>7.0</td>\n",
       "      <td>measurement of dielectric constant of liquids by the use of microwave techniques</td>\n",
       "    </tr>\n",
       "    <tr>\n",
       "      <th>3</th>\n",
       "      <td>1</td>\n",
       "      <td>8907</td>\n",
       "      <td>8908</td>\n",
       "      <td>3</td>\n",
       "      <td>7.0</td>\n",
       "      <td>measurement of dielectric constant of liquids by the use of microwave techniques</td>\n",
       "    </tr>\n",
       "    <tr>\n",
       "      <th>4</th>\n",
       "      <td>1</td>\n",
       "      <td>6460</td>\n",
       "      <td>6461</td>\n",
       "      <td>4</td>\n",
       "      <td>6.0</td>\n",
       "      <td>measurement of dielectric constant of liquids by the use of microwave techniques</td>\n",
       "    </tr>\n",
       "    <tr>\n",
       "      <th>...</th>\n",
       "      <td>...</td>\n",
       "      <td>...</td>\n",
       "      <td>...</td>\n",
       "      <td>...</td>\n",
       "      <td>...</td>\n",
       "      <td>...</td>\n",
       "    </tr>\n",
       "    <tr>\n",
       "      <th>995</th>\n",
       "      <td>1</td>\n",
       "      <td>4267</td>\n",
       "      <td>4268</td>\n",
       "      <td>995</td>\n",
       "      <td>1.0</td>\n",
       "      <td>measurement of dielectric constant of liquids by the use of microwave techniques</td>\n",
       "    </tr>\n",
       "    <tr>\n",
       "      <th>996</th>\n",
       "      <td>1</td>\n",
       "      <td>532</td>\n",
       "      <td>533</td>\n",
       "      <td>996</td>\n",
       "      <td>1.0</td>\n",
       "      <td>measurement of dielectric constant of liquids by the use of microwave techniques</td>\n",
       "    </tr>\n",
       "    <tr>\n",
       "      <th>997</th>\n",
       "      <td>1</td>\n",
       "      <td>4597</td>\n",
       "      <td>4598</td>\n",
       "      <td>997</td>\n",
       "      <td>1.0</td>\n",
       "      <td>measurement of dielectric constant of liquids by the use of microwave techniques</td>\n",
       "    </tr>\n",
       "    <tr>\n",
       "      <th>998</th>\n",
       "      <td>1</td>\n",
       "      <td>521</td>\n",
       "      <td>522</td>\n",
       "      <td>998</td>\n",
       "      <td>1.0</td>\n",
       "      <td>measurement of dielectric constant of liquids by the use of microwave techniques</td>\n",
       "    </tr>\n",
       "    <tr>\n",
       "      <th>999</th>\n",
       "      <td>1</td>\n",
       "      <td>523</td>\n",
       "      <td>524</td>\n",
       "      <td>999</td>\n",
       "      <td>1.0</td>\n",
       "      <td>measurement of dielectric constant of liquids by the use of microwave techniques</td>\n",
       "    </tr>\n",
       "  </tbody>\n",
       "</table>\n",
       "<p>1000 rows × 6 columns</p>\n",
       "</div>"
      ],
      "text/plain": [
       "    qid  ...                                                                             query\n",
       "0     1  ...  measurement of dielectric constant of liquids by the use of microwave techniques\n",
       "1     1  ...  measurement of dielectric constant of liquids by the use of microwave techniques\n",
       "2     1  ...  measurement of dielectric constant of liquids by the use of microwave techniques\n",
       "3     1  ...  measurement of dielectric constant of liquids by the use of microwave techniques\n",
       "4     1  ...  measurement of dielectric constant of liquids by the use of microwave techniques\n",
       "..   ..  ...                                                                               ...\n",
       "995   1  ...  measurement of dielectric constant of liquids by the use of microwave techniques\n",
       "996   1  ...  measurement of dielectric constant of liquids by the use of microwave techniques\n",
       "997   1  ...  measurement of dielectric constant of liquids by the use of microwave techniques\n",
       "998   1  ...  measurement of dielectric constant of liquids by the use of microwave techniques\n",
       "999   1  ...  measurement of dielectric constant of liquids by the use of microwave techniques\n",
       "\n",
       "[1000 rows x 6 columns]"
      ]
     },
     "execution_count": 107,
     "metadata": {
      "tags": []
     },
     "output_type": "execute_result"
    }
   ],
   "source": [
    "# this is our first retrieval transformer -\n",
    "# it transform a queries dataframe to a results dataframe\n",
    "tf = pt.BatchRetrieve(index, wmodel=\"Tf\")\n",
    "\n",
    "tf( vaswani_dataset.get_topics().head(1) )"
   ]
  },
  {
   "cell_type": "code",
   "execution_count": 108,
   "metadata": {
    "colab": {
     "base_uri": "https://localhost:8080/",
     "height": 436
    },
    "id": "uHHIn-rMvk_5",
    "outputId": "7ed10c88-1a5f-4270-a74f-a6975d5da799"
   },
   "outputs": [
    {
     "name": "stdout",
     "output_type": "stream",
     "text": [
      "True\n"
     ]
    },
    {
     "data": {
      "text/html": [
       "<div>\n",
       "<style scoped>\n",
       "    .dataframe tbody tr th:only-of-type {\n",
       "        vertical-align: middle;\n",
       "    }\n",
       "\n",
       "    .dataframe tbody tr th {\n",
       "        vertical-align: top;\n",
       "    }\n",
       "\n",
       "    .dataframe thead th {\n",
       "        text-align: right;\n",
       "    }\n",
       "</style>\n",
       "<table border=\"1\" class=\"dataframe\">\n",
       "  <thead>\n",
       "    <tr style=\"text-align: right;\">\n",
       "      <th></th>\n",
       "      <th>qid</th>\n",
       "      <th>docid</th>\n",
       "      <th>docno</th>\n",
       "      <th>rank</th>\n",
       "      <th>score</th>\n",
       "      <th>query</th>\n",
       "    </tr>\n",
       "  </thead>\n",
       "  <tbody>\n",
       "    <tr>\n",
       "      <th>0</th>\n",
       "      <td>1</td>\n",
       "      <td>8171</td>\n",
       "      <td>8172</td>\n",
       "      <td>0</td>\n",
       "      <td>13.746087</td>\n",
       "      <td>measurement of dielectric constant of liquids by the use of microwave techniques</td>\n",
       "    </tr>\n",
       "    <tr>\n",
       "      <th>1</th>\n",
       "      <td>1</td>\n",
       "      <td>9880</td>\n",
       "      <td>9881</td>\n",
       "      <td>1</td>\n",
       "      <td>12.352666</td>\n",
       "      <td>measurement of dielectric constant of liquids by the use of microwave techniques</td>\n",
       "    </tr>\n",
       "    <tr>\n",
       "      <th>2</th>\n",
       "      <td>1</td>\n",
       "      <td>5501</td>\n",
       "      <td>5502</td>\n",
       "      <td>2</td>\n",
       "      <td>12.178153</td>\n",
       "      <td>measurement of dielectric constant of liquids by the use of microwave techniques</td>\n",
       "    </tr>\n",
       "    <tr>\n",
       "      <th>3</th>\n",
       "      <td>1</td>\n",
       "      <td>1501</td>\n",
       "      <td>1502</td>\n",
       "      <td>3</td>\n",
       "      <td>10.993585</td>\n",
       "      <td>measurement of dielectric constant of liquids by the use of microwave techniques</td>\n",
       "    </tr>\n",
       "    <tr>\n",
       "      <th>4</th>\n",
       "      <td>1</td>\n",
       "      <td>9858</td>\n",
       "      <td>9859</td>\n",
       "      <td>4</td>\n",
       "      <td>10.271452</td>\n",
       "      <td>measurement of dielectric constant of liquids by the use of microwave techniques</td>\n",
       "    </tr>\n",
       "    <tr>\n",
       "      <th>...</th>\n",
       "      <td>...</td>\n",
       "      <td>...</td>\n",
       "      <td>...</td>\n",
       "      <td>...</td>\n",
       "      <td>...</td>\n",
       "      <td>...</td>\n",
       "    </tr>\n",
       "    <tr>\n",
       "      <th>995</th>\n",
       "      <td>1</td>\n",
       "      <td>117</td>\n",
       "      <td>118</td>\n",
       "      <td>995</td>\n",
       "      <td>0.985003</td>\n",
       "      <td>measurement of dielectric constant of liquids by the use of microwave techniques</td>\n",
       "    </tr>\n",
       "    <tr>\n",
       "      <th>996</th>\n",
       "      <td>1</td>\n",
       "      <td>4135</td>\n",
       "      <td>4136</td>\n",
       "      <td>996</td>\n",
       "      <td>0.958458</td>\n",
       "      <td>measurement of dielectric constant of liquids by the use of microwave techniques</td>\n",
       "    </tr>\n",
       "    <tr>\n",
       "      <th>997</th>\n",
       "      <td>1</td>\n",
       "      <td>1239</td>\n",
       "      <td>1240</td>\n",
       "      <td>997</td>\n",
       "      <td>0.941543</td>\n",
       "      <td>measurement of dielectric constant of liquids by the use of microwave techniques</td>\n",
       "    </tr>\n",
       "    <tr>\n",
       "      <th>998</th>\n",
       "      <td>1</td>\n",
       "      <td>4053</td>\n",
       "      <td>4054</td>\n",
       "      <td>998</td>\n",
       "      <td>0.925214</td>\n",
       "      <td>measurement of dielectric constant of liquids by the use of microwave techniques</td>\n",
       "    </tr>\n",
       "    <tr>\n",
       "      <th>999</th>\n",
       "      <td>1</td>\n",
       "      <td>615</td>\n",
       "      <td>616</td>\n",
       "      <td>999</td>\n",
       "      <td>0.788473</td>\n",
       "      <td>measurement of dielectric constant of liquids by the use of microwave techniques</td>\n",
       "    </tr>\n",
       "  </tbody>\n",
       "</table>\n",
       "<p>1000 rows × 6 columns</p>\n",
       "</div>"
      ],
      "text/plain": [
       "    qid  ...                                                                             query\n",
       "0     1  ...  measurement of dielectric constant of liquids by the use of microwave techniques\n",
       "1     1  ...  measurement of dielectric constant of liquids by the use of microwave techniques\n",
       "2     1  ...  measurement of dielectric constant of liquids by the use of microwave techniques\n",
       "3     1  ...  measurement of dielectric constant of liquids by the use of microwave techniques\n",
       "4     1  ...  measurement of dielectric constant of liquids by the use of microwave techniques\n",
       "..   ..  ...                                                                               ...\n",
       "995   1  ...  measurement of dielectric constant of liquids by the use of microwave techniques\n",
       "996   1  ...  measurement of dielectric constant of liquids by the use of microwave techniques\n",
       "997   1  ...  measurement of dielectric constant of liquids by the use of microwave techniques\n",
       "998   1  ...  measurement of dielectric constant of liquids by the use of microwave techniques\n",
       "999   1  ...  measurement of dielectric constant of liquids by the use of microwave techniques\n",
       "\n",
       "[1000 rows x 6 columns]"
      ]
     },
     "execution_count": 108,
     "metadata": {
      "tags": []
     },
     "output_type": "execute_result"
    }
   ],
   "source": [
    "# now let's define a pipeline \n",
    "pipeline = tf >> tfidf\n",
    "print(isinstance(tfidf, pt.transformer.TransformerBase))\n",
    "\n",
    "pipeline( vaswani_dataset.get_topics().head(1) )\n"
   ]
  },
  {
   "cell_type": "markdown",
   "metadata": {
    "id": "r1yCXIB5w1Qb"
   },
   "source": [
    "There are a number of PyTerrier operators - there are more examples in the [PyTerrier documentation on operators](https://pyterrier.readthedocs.io/en/latest/operators.html)"
   ]
  },
  {
   "cell_type": "markdown",
   "metadata": {
    "id": "NaYavGvnxDk5"
   },
   "source": [
    "#### **Task 4**\n",
    "\n",
    "This task aims to improve your understanding of the PyTerrier operators.\n",
    "\n",
    "**(a)**\n",
    "\n",
    "Create a ranker that returns the top 10 scored documents based on the following retrieval model:\n",
    "$$\n",
    "score(d,Q) = \\big( \\sum_{t \\in Q} w_{TF\\_IDF}(t,d) \\big)  + 3 * \\sum_{t \\in Q} tf_{t,d}\n",
    "$$\n",
    "In essence, this equation scores documents by linearly combining the scores of two different retrieval models. \n",
    "\n",
    "For the correct solution, your pipeline should return no more than 10 documents and document docno `\"10703\"` should have a score of 10.381090 for query `\"chemical\"`.\n",
    "\n",
    "**(b)**\n",
    "\n",
    "Create a ranker that performs the following:\n",
    "\n",
    " - obtains the top 10 highest scoring documents by term frequency (wmodel=\"Tf\")\n",
    " - obtains the top 10 highest scoring documents by TF.IDF (wmodel=\"TF_IDF\")\n",
    " - reranks only those documents found in BOTH of the previous retrieval settings using BM25.\n",
    "\n",
    "How many documents are retrieved by this full pipeline for the query \"chemical\".\n",
    "\n",
    "If you obtain the correct solution, the document with docno \"2558\" should have a score of 10.322110 for query \"chemical\".\n",
    "\n",
    "Hints:\n",
    " - each correct solution needs only a few lines of code if you properly use the PyTerrier operators\n",
    " - you should not need to perform any Pandas dataframe operations\n",
    " - a Tf BatchRetrieve was already illustrated on the 3-documents index above. You will need an equivalent one on the Vaswani index."
   ]
  },
  {
   "cell_type": "code",
   "execution_count": 109,
   "metadata": {
    "colab": {
     "base_uri": "https://localhost:8080/"
    },
    "id": "XnsRdT4WvspD",
    "outputId": "83cbefe9-b792-4ef1-84c6-8771acc7fdba"
   },
   "outputs": [
    {
     "name": "stdout",
     "output_type": "stream",
     "text": [
      "  qid  docid  docno      score     query  rank\n",
      "0   1  10702  10703  10.381090  chemical     1\n",
      "1   1   1055   1056   9.857900  chemical     2\n",
      "2   1   4885   4886   9.699605  chemical     3\n",
      "3   1   6278   6279  12.128197  chemical     0\n",
      "4   1   8765   8766   8.884626  chemical     4\n",
      "5   1   1139   1140   8.884626  chemical     5\n",
      "6   1  10138  10139   8.767690  chemical     6\n",
      "7   1   2519   2520   8.655311  chemical     7\n",
      "8   1   2557   2558   8.655311  chemical     8\n",
      "9   1   4686   4687   8.547228  chemical     9\n",
      "\n",
      "  qid  docid docno     query  docid_y  rank_y    score_y   query_y\n",
      "0   1   4885  4886  chemical     4885       0  12.228161  chemical\n",
      "1   1   6278  6279  chemical     6278       1  11.185223  chemical\n",
      "2   1   1139  1140  chemical     1139       2  10.740657  chemical\n",
      "3   1   2519  2520  chemical     2519       3  10.322110  chemical\n",
      "4   1   2557  2558  chemical     2557       4  10.322110  chemical\n",
      "5   1   4686  4687  chemical     4686       5  10.124835  chemical\n"
     ]
    },
    {
     "name": "stderr",
     "output_type": "stream",
     "text": [
      "/usr/local/lib/python3.7/dist-packages/pyterrier/transformer.py:434: FutureWarning: .transform() should be passed a dataframe. Use .search() to execute a single query.\n",
      "  res1 = self.left.transform(topics_and_res)\n",
      "/usr/local/lib/python3.7/dist-packages/pyterrier/transformer.py:495: FutureWarning: .transform() should be passed a dataframe. Use .search() to execute a single query.\n",
      "  res = self.transformer.transform(topics_and_res)\n",
      "/usr/local/lib/python3.7/dist-packages/pyterrier/transformer.py:418: FutureWarning: .transform() should be passed a dataframe. Use .search() to execute a single query.\n",
      "  res1 = self.left.transform(topics)\n",
      "/usr/local/lib/python3.7/dist-packages/pyterrier/transformer.py:807: FutureWarning: .transform() should be passed a dataframe. Use .search() to execute a single query.\n",
      "  topics = m.transform(topics)\n"
     ]
    }
   ],
   "source": [
    "# YOUR SOLUTION\n",
    "# (a)\n",
    "tfidf = pt.BatchRetrieve(index, wmodel=\"TF_IDF\")\n",
    "# tfidf.transform(\"chemical\")\n",
    "tf = pt.BatchRetrieve(index, wmodel=\"Tf\")\n",
    "# tf.transform(\"chemical\")\n",
    "\n",
    "pipeline_1 = tfidf + 3*tf\n",
    "print(pipeline_1(\"chemical\").head(10))\n",
    "print()\n",
    "\n",
    "\n",
    "#(b)\n",
    "tfidf = pt.BatchRetrieve(index, wmodel=\"TF_IDF\", num_results=10)\n",
    "tf = pt.BatchRetrieve(index, wmodel=\"Tf\", num_results=10)\n",
    "both = pt.BatchRetrieve(index, wmodel=\"BM25\")\n",
    "\n",
    "pipeline_2 = tfidf & tf >> both\n",
    "print(pipeline_2(\"chemical\").head(10))\n",
    "\n"
   ]
  },
  {
   "cell_type": "markdown",
   "metadata": {
    "id": "YQ0j9lFfx-gO"
   },
   "source": [
    "### What is Success?\n",
    "\n",
    "So far, we have been creating search engine models, but we haven't decided if any of them ia actually any good. While we will study *evaluation measures* in Lecture 5, let's just investigate if we are getting a correct (\"relevant\") document at the first rank."
   ]
  },
  {
   "cell_type": "code",
   "execution_count": 114,
   "metadata": {
    "colab": {
     "base_uri": "https://localhost:8080/",
     "height": 359
    },
    "id": "iyShZYpwwNSx",
    "outputId": "b111f5b0-5085-42ec-a952-09c402df805d"
   },
   "outputs": [
    {
     "data": {
      "text/html": [
       "<div>\n",
       "<style scoped>\n",
       "    .dataframe tbody tr th:only-of-type {\n",
       "        vertical-align: middle;\n",
       "    }\n",
       "\n",
       "    .dataframe tbody tr th {\n",
       "        vertical-align: top;\n",
       "    }\n",
       "\n",
       "    .dataframe thead th {\n",
       "        text-align: right;\n",
       "    }\n",
       "</style>\n",
       "<table border=\"1\" class=\"dataframe\">\n",
       "  <thead>\n",
       "    <tr style=\"text-align: right;\">\n",
       "      <th></th>\n",
       "      <th>qid</th>\n",
       "      <th>docid</th>\n",
       "      <th>docno</th>\n",
       "      <th>rank</th>\n",
       "      <th>score</th>\n",
       "      <th>query</th>\n",
       "      <th>label</th>\n",
       "    </tr>\n",
       "  </thead>\n",
       "  <tbody>\n",
       "    <tr>\n",
       "      <th>0</th>\n",
       "      <td>1</td>\n",
       "      <td>7233</td>\n",
       "      <td>7234</td>\n",
       "      <td>0</td>\n",
       "      <td>9.0</td>\n",
       "      <td>measurement of dielectric constant of liquids by the use of microwave techniques</td>\n",
       "      <td>0.0</td>\n",
       "    </tr>\n",
       "    <tr>\n",
       "      <th>1</th>\n",
       "      <td>1</td>\n",
       "      <td>3692</td>\n",
       "      <td>3693</td>\n",
       "      <td>1</td>\n",
       "      <td>8.0</td>\n",
       "      <td>measurement of dielectric constant of liquids by the use of microwave techniques</td>\n",
       "      <td>0.0</td>\n",
       "    </tr>\n",
       "    <tr>\n",
       "      <th>2</th>\n",
       "      <td>1</td>\n",
       "      <td>5501</td>\n",
       "      <td>5502</td>\n",
       "      <td>2</td>\n",
       "      <td>7.0</td>\n",
       "      <td>measurement of dielectric constant of liquids by the use of microwave techniques</td>\n",
       "      <td>1.0</td>\n",
       "    </tr>\n",
       "    <tr>\n",
       "      <th>3</th>\n",
       "      <td>1</td>\n",
       "      <td>8907</td>\n",
       "      <td>8908</td>\n",
       "      <td>3</td>\n",
       "      <td>7.0</td>\n",
       "      <td>measurement of dielectric constant of liquids by the use of microwave techniques</td>\n",
       "      <td>0.0</td>\n",
       "    </tr>\n",
       "    <tr>\n",
       "      <th>4</th>\n",
       "      <td>1</td>\n",
       "      <td>6460</td>\n",
       "      <td>6461</td>\n",
       "      <td>4</td>\n",
       "      <td>6.0</td>\n",
       "      <td>measurement of dielectric constant of liquids by the use of microwave techniques</td>\n",
       "      <td>0.0</td>\n",
       "    </tr>\n",
       "    <tr>\n",
       "      <th>5</th>\n",
       "      <td>1</td>\n",
       "      <td>9858</td>\n",
       "      <td>9859</td>\n",
       "      <td>5</td>\n",
       "      <td>6.0</td>\n",
       "      <td>measurement of dielectric constant of liquids by the use of microwave techniques</td>\n",
       "      <td>1.0</td>\n",
       "    </tr>\n",
       "    <tr>\n",
       "      <th>6</th>\n",
       "      <td>1</td>\n",
       "      <td>7922</td>\n",
       "      <td>7923</td>\n",
       "      <td>6</td>\n",
       "      <td>6.0</td>\n",
       "      <td>measurement of dielectric constant of liquids by the use of microwave techniques</td>\n",
       "      <td>1.0</td>\n",
       "    </tr>\n",
       "    <tr>\n",
       "      <th>7</th>\n",
       "      <td>1</td>\n",
       "      <td>3333</td>\n",
       "      <td>3334</td>\n",
       "      <td>7</td>\n",
       "      <td>6.0</td>\n",
       "      <td>measurement of dielectric constant of liquids by the use of microwave techniques</td>\n",
       "      <td>0.0</td>\n",
       "    </tr>\n",
       "    <tr>\n",
       "      <th>8</th>\n",
       "      <td>1</td>\n",
       "      <td>5038</td>\n",
       "      <td>5039</td>\n",
       "      <td>8</td>\n",
       "      <td>5.0</td>\n",
       "      <td>measurement of dielectric constant of liquids by the use of microwave techniques</td>\n",
       "      <td>0.0</td>\n",
       "    </tr>\n",
       "    <tr>\n",
       "      <th>9</th>\n",
       "      <td>1</td>\n",
       "      <td>443</td>\n",
       "      <td>444</td>\n",
       "      <td>9</td>\n",
       "      <td>5.0</td>\n",
       "      <td>measurement of dielectric constant of liquids by the use of microwave techniques</td>\n",
       "      <td>0.0</td>\n",
       "    </tr>\n",
       "  </tbody>\n",
       "</table>\n",
       "</div>"
      ],
      "text/plain": [
       "  qid  ...  label\n",
       "0   1  ...    0.0\n",
       "1   1  ...    0.0\n",
       "2   1  ...    1.0\n",
       "3   1  ...    0.0\n",
       "4   1  ...    0.0\n",
       "5   1  ...    1.0\n",
       "6   1  ...    1.0\n",
       "7   1  ...    0.0\n",
       "8   1  ...    0.0\n",
       "9   1  ...    0.0\n",
       "\n",
       "[10 rows x 7 columns]"
      ]
     },
     "execution_count": 114,
     "metadata": {
      "tags": []
     },
     "output_type": "execute_result"
    }
   ],
   "source": [
    "qrels = vaswani_dataset.get_qrels()\n",
    "def get_res_with_labels(ranker, df):\n",
    "  #get the results for the query or queries\n",
    "  results = ranker( df )\n",
    "  # left outer join with the qrels\n",
    "  with_labels = results.merge(qrels, on=[\"qid\", \"docno\"], how=\"left\").fillna(0)\n",
    "  return with_labels\n",
    "\n",
    "#lets get the Tf results for the first query\n",
    "get_res_with_labels(tf, vaswani_dataset.get_topics().head(1) )\n",
    "\n"
   ]
  },
  {
   "cell_type": "markdown",
   "metadata": {
    "id": "qHlNDnHsegNz"
   },
   "source": [
    "So, we got a relevant document third ranked using Tf. Let's check TF_IDF to see whether it does better:"
   ]
  },
  {
   "cell_type": "code",
   "execution_count": 111,
   "metadata": {
    "colab": {
     "base_uri": "https://localhost:8080/",
     "height": 359
    },
    "id": "tScqYO0FeHMi",
    "outputId": "0c87cafd-ee47-48a3-c9e0-5cee62e02e38"
   },
   "outputs": [
    {
     "data": {
      "text/html": [
       "<div>\n",
       "<style scoped>\n",
       "    .dataframe tbody tr th:only-of-type {\n",
       "        vertical-align: middle;\n",
       "    }\n",
       "\n",
       "    .dataframe tbody tr th {\n",
       "        vertical-align: top;\n",
       "    }\n",
       "\n",
       "    .dataframe thead th {\n",
       "        text-align: right;\n",
       "    }\n",
       "</style>\n",
       "<table border=\"1\" class=\"dataframe\">\n",
       "  <thead>\n",
       "    <tr style=\"text-align: right;\">\n",
       "      <th></th>\n",
       "      <th>qid</th>\n",
       "      <th>docid</th>\n",
       "      <th>docno</th>\n",
       "      <th>rank</th>\n",
       "      <th>score</th>\n",
       "      <th>query</th>\n",
       "      <th>label</th>\n",
       "    </tr>\n",
       "  </thead>\n",
       "  <tbody>\n",
       "    <tr>\n",
       "      <th>0</th>\n",
       "      <td>1</td>\n",
       "      <td>8171</td>\n",
       "      <td>8172</td>\n",
       "      <td>0</td>\n",
       "      <td>13.746087</td>\n",
       "      <td>measurement of dielectric constant of liquids by the use of microwave techniques</td>\n",
       "      <td>1.0</td>\n",
       "    </tr>\n",
       "    <tr>\n",
       "      <th>1</th>\n",
       "      <td>1</td>\n",
       "      <td>9880</td>\n",
       "      <td>9881</td>\n",
       "      <td>1</td>\n",
       "      <td>12.352666</td>\n",
       "      <td>measurement of dielectric constant of liquids by the use of microwave techniques</td>\n",
       "      <td>0.0</td>\n",
       "    </tr>\n",
       "    <tr>\n",
       "      <th>2</th>\n",
       "      <td>1</td>\n",
       "      <td>5501</td>\n",
       "      <td>5502</td>\n",
       "      <td>2</td>\n",
       "      <td>12.178153</td>\n",
       "      <td>measurement of dielectric constant of liquids by the use of microwave techniques</td>\n",
       "      <td>1.0</td>\n",
       "    </tr>\n",
       "    <tr>\n",
       "      <th>3</th>\n",
       "      <td>1</td>\n",
       "      <td>1501</td>\n",
       "      <td>1502</td>\n",
       "      <td>3</td>\n",
       "      <td>10.993585</td>\n",
       "      <td>measurement of dielectric constant of liquids by the use of microwave techniques</td>\n",
       "      <td>1.0</td>\n",
       "    </tr>\n",
       "    <tr>\n",
       "      <th>4</th>\n",
       "      <td>1</td>\n",
       "      <td>9858</td>\n",
       "      <td>9859</td>\n",
       "      <td>4</td>\n",
       "      <td>10.271452</td>\n",
       "      <td>measurement of dielectric constant of liquids by the use of microwave techniques</td>\n",
       "      <td>1.0</td>\n",
       "    </tr>\n",
       "    <tr>\n",
       "      <th>5</th>\n",
       "      <td>1</td>\n",
       "      <td>4870</td>\n",
       "      <td>4871</td>\n",
       "      <td>5</td>\n",
       "      <td>10.092180</td>\n",
       "      <td>measurement of dielectric constant of liquids by the use of microwave techniques</td>\n",
       "      <td>0.0</td>\n",
       "    </tr>\n",
       "    <tr>\n",
       "      <th>6</th>\n",
       "      <td>1</td>\n",
       "      <td>4816</td>\n",
       "      <td>4817</td>\n",
       "      <td>6</td>\n",
       "      <td>9.755382</td>\n",
       "      <td>measurement of dielectric constant of liquids by the use of microwave techniques</td>\n",
       "      <td>0.0</td>\n",
       "    </tr>\n",
       "    <tr>\n",
       "      <th>7</th>\n",
       "      <td>1</td>\n",
       "      <td>8275</td>\n",
       "      <td>8276</td>\n",
       "      <td>7</td>\n",
       "      <td>9.615273</td>\n",
       "      <td>measurement of dielectric constant of liquids by the use of microwave techniques</td>\n",
       "      <td>0.0</td>\n",
       "    </tr>\n",
       "    <tr>\n",
       "      <th>8</th>\n",
       "      <td>1</td>\n",
       "      <td>7233</td>\n",
       "      <td>7234</td>\n",
       "      <td>8</td>\n",
       "      <td>9.501335</td>\n",
       "      <td>measurement of dielectric constant of liquids by the use of microwave techniques</td>\n",
       "      <td>0.0</td>\n",
       "    </tr>\n",
       "    <tr>\n",
       "      <th>9</th>\n",
       "      <td>1</td>\n",
       "      <td>7922</td>\n",
       "      <td>7923</td>\n",
       "      <td>9</td>\n",
       "      <td>9.180970</td>\n",
       "      <td>measurement of dielectric constant of liquids by the use of microwave techniques</td>\n",
       "      <td>1.0</td>\n",
       "    </tr>\n",
       "  </tbody>\n",
       "</table>\n",
       "</div>"
      ],
      "text/plain": [
       "  qid  ...  label\n",
       "0   1  ...    1.0\n",
       "1   1  ...    0.0\n",
       "2   1  ...    1.0\n",
       "3   1  ...    1.0\n",
       "4   1  ...    1.0\n",
       "5   1  ...    0.0\n",
       "6   1  ...    0.0\n",
       "7   1  ...    0.0\n",
       "8   1  ...    0.0\n",
       "9   1  ...    1.0\n",
       "\n",
       "[10 rows x 7 columns]"
      ]
     },
     "execution_count": 111,
     "metadata": {
      "tags": []
     },
     "output_type": "execute_result"
    }
   ],
   "source": [
    "#lets get the tfidf results for the first query\n",
    "get_res_with_labels(tfidf, vaswani_dataset.get_topics().head(1) )"
   ]
  },
  {
   "cell_type": "markdown",
   "metadata": {
    "id": "TH8qbvhFek5b"
   },
   "source": [
    "Interesting - it got a relevant document at the top rank. Think about what TF_IDF is doing compared to Tf. "
   ]
  },
  {
   "cell_type": "markdown",
   "metadata": {
    "id": "R41fzAkjzVl3"
   },
   "source": [
    "Keeping with the Tf ranking function, let's try to help it perform better by better formulating the query `'measurement of dielectric constant of liquids by the use of microwave techniques'`.\n",
    "\n",
    "In particular, Terrier can take into account how often a query term occurs in a query. In doing so, documents are actually scored like this:\n",
    "$$\n",
    "score(d,Q) = \\sum_{t \\in Q} tf_{t,q} * tf_{t,d}\n",
    "$$\n",
    "where $tf_{t,d}$ is the frequency of the term in *document* and $tf_{t,q}$ is the frequency of the term in the *query*.\n",
    "\n",
    "However, in our example query ( `'measurement of dielectric constant of liquids by the use of microwave techniques'`) all (non-stopword) query terms have a query term frequency of 1. \n",
    "\n",
    "We can try is to give more (or less) weight to some of these query terms, so as to place more or less emphasis on those terms, by appending a number such as `^2` (or `^0.1`) to some words in the query string."
   ]
  },
  {
   "cell_type": "code",
   "execution_count": 115,
   "metadata": {
    "colab": {
     "base_uri": "https://localhost:8080/",
     "height": 359
    },
    "id": "42pNBGLdytV-",
    "outputId": "895b8696-df50-459d-8f27-2fc1a4cd06f5"
   },
   "outputs": [
    {
     "data": {
      "text/html": [
       "<div>\n",
       "<style scoped>\n",
       "    .dataframe tbody tr th:only-of-type {\n",
       "        vertical-align: middle;\n",
       "    }\n",
       "\n",
       "    .dataframe tbody tr th {\n",
       "        vertical-align: top;\n",
       "    }\n",
       "\n",
       "    .dataframe thead th {\n",
       "        text-align: right;\n",
       "    }\n",
       "</style>\n",
       "<table border=\"1\" class=\"dataframe\">\n",
       "  <thead>\n",
       "    <tr style=\"text-align: right;\">\n",
       "      <th></th>\n",
       "      <th>qid</th>\n",
       "      <th>docid</th>\n",
       "      <th>docno</th>\n",
       "      <th>rank</th>\n",
       "      <th>score</th>\n",
       "      <th>query</th>\n",
       "      <th>label</th>\n",
       "    </tr>\n",
       "  </thead>\n",
       "  <tbody>\n",
       "    <tr>\n",
       "      <th>0</th>\n",
       "      <td>1</td>\n",
       "      <td>3692</td>\n",
       "      <td>3693</td>\n",
       "      <td>0</td>\n",
       "      <td>4.00</td>\n",
       "      <td>measurement^0.1 of dielectric constant of liquids by the use of microwave techniques^2</td>\n",
       "      <td>0.0</td>\n",
       "    </tr>\n",
       "    <tr>\n",
       "      <th>1</th>\n",
       "      <td>1</td>\n",
       "      <td>7233</td>\n",
       "      <td>7234</td>\n",
       "      <td>1</td>\n",
       "      <td>3.60</td>\n",
       "      <td>measurement^0.1 of dielectric constant of liquids by the use of microwave techniques^2</td>\n",
       "      <td>0.0</td>\n",
       "    </tr>\n",
       "    <tr>\n",
       "      <th>2</th>\n",
       "      <td>1</td>\n",
       "      <td>8907</td>\n",
       "      <td>8908</td>\n",
       "      <td>2</td>\n",
       "      <td>3.20</td>\n",
       "      <td>measurement^0.1 of dielectric constant of liquids by the use of microwave techniques^2</td>\n",
       "      <td>0.0</td>\n",
       "    </tr>\n",
       "    <tr>\n",
       "      <th>3</th>\n",
       "      <td>1</td>\n",
       "      <td>5501</td>\n",
       "      <td>5502</td>\n",
       "      <td>3</td>\n",
       "      <td>3.05</td>\n",
       "      <td>measurement^0.1 of dielectric constant of liquids by the use of microwave techniques^2</td>\n",
       "      <td>1.0</td>\n",
       "    </tr>\n",
       "    <tr>\n",
       "      <th>4</th>\n",
       "      <td>1</td>\n",
       "      <td>4571</td>\n",
       "      <td>4572</td>\n",
       "      <td>4</td>\n",
       "      <td>3.00</td>\n",
       "      <td>measurement^0.1 of dielectric constant of liquids by the use of microwave techniques^2</td>\n",
       "      <td>0.0</td>\n",
       "    </tr>\n",
       "    <tr>\n",
       "      <th>5</th>\n",
       "      <td>1</td>\n",
       "      <td>4570</td>\n",
       "      <td>4571</td>\n",
       "      <td>5</td>\n",
       "      <td>3.00</td>\n",
       "      <td>measurement^0.1 of dielectric constant of liquids by the use of microwave techniques^2</td>\n",
       "      <td>0.0</td>\n",
       "    </tr>\n",
       "    <tr>\n",
       "      <th>6</th>\n",
       "      <td>1</td>\n",
       "      <td>8662</td>\n",
       "      <td>8663</td>\n",
       "      <td>6</td>\n",
       "      <td>3.00</td>\n",
       "      <td>measurement^0.1 of dielectric constant of liquids by the use of microwave techniques^2</td>\n",
       "      <td>0.0</td>\n",
       "    </tr>\n",
       "    <tr>\n",
       "      <th>7</th>\n",
       "      <td>1</td>\n",
       "      <td>7463</td>\n",
       "      <td>7464</td>\n",
       "      <td>7</td>\n",
       "      <td>3.00</td>\n",
       "      <td>measurement^0.1 of dielectric constant of liquids by the use of microwave techniques^2</td>\n",
       "      <td>0.0</td>\n",
       "    </tr>\n",
       "    <tr>\n",
       "      <th>8</th>\n",
       "      <td>1</td>\n",
       "      <td>5576</td>\n",
       "      <td>5577</td>\n",
       "      <td>8</td>\n",
       "      <td>3.00</td>\n",
       "      <td>measurement^0.1 of dielectric constant of liquids by the use of microwave techniques^2</td>\n",
       "      <td>0.0</td>\n",
       "    </tr>\n",
       "    <tr>\n",
       "      <th>9</th>\n",
       "      <td>1</td>\n",
       "      <td>6339</td>\n",
       "      <td>6340</td>\n",
       "      <td>9</td>\n",
       "      <td>3.00</td>\n",
       "      <td>measurement^0.1 of dielectric constant of liquids by the use of microwave techniques^2</td>\n",
       "      <td>0.0</td>\n",
       "    </tr>\n",
       "  </tbody>\n",
       "</table>\n",
       "</div>"
      ],
      "text/plain": [
       "  qid  ...  label\n",
       "0   1  ...    0.0\n",
       "1   1  ...    0.0\n",
       "2   1  ...    0.0\n",
       "3   1  ...    1.0\n",
       "4   1  ...    0.0\n",
       "5   1  ...    0.0\n",
       "6   1  ...    0.0\n",
       "7   1  ...    0.0\n",
       "8   1  ...    0.0\n",
       "9   1  ...    0.0\n",
       "\n",
       "[10 rows x 7 columns]"
      ]
     },
     "execution_count": 115,
     "metadata": {
      "tags": []
     },
     "output_type": "execute_result"
    }
   ],
   "source": [
    "# here I try to change the emphasis on some words\n",
    "newQueryDf = pd.DataFrame([\n",
    "  [\"1\", \"measurement^0.1 of dielectric constant of liquids by \"+\n",
    "    \"the use of microwave techniques^2\"]\n",
    "  ], columns=[\"qid\", \"query\"])\n",
    "get_res_with_labels(tf, newQueryDf )\n"
   ]
  },
  {
   "cell_type": "markdown",
   "metadata": {
    "id": "F45OJVIO1AhS"
   },
   "source": [
    "#### **Task 5**\n",
    "\n",
    "Spend **up to 5 minutes** trying to reformulate the query by increasing or decreasing the weight of some query terms to get a relevant result at the first rank.\n",
    "\n",
    "Hint: You might want to inspect some of the relevant (or non-relevant!) documents to see what words they contain. E.g. you might want to look at the contents of docnos 7923 and 3693."
   ]
  },
  {
   "cell_type": "code",
   "execution_count": 134,
   "metadata": {
    "colab": {
     "base_uri": "https://localhost:8080/",
     "height": 359
    },
    "id": "SZc72D6Ezf5y",
    "outputId": "ca5096f9-c1cb-4357-d28f-a9cd2ac8817c"
   },
   "outputs": [
    {
     "data": {
      "text/html": [
       "<div>\n",
       "<style scoped>\n",
       "    .dataframe tbody tr th:only-of-type {\n",
       "        vertical-align: middle;\n",
       "    }\n",
       "\n",
       "    .dataframe tbody tr th {\n",
       "        vertical-align: top;\n",
       "    }\n",
       "\n",
       "    .dataframe thead th {\n",
       "        text-align: right;\n",
       "    }\n",
       "</style>\n",
       "<table border=\"1\" class=\"dataframe\">\n",
       "  <thead>\n",
       "    <tr style=\"text-align: right;\">\n",
       "      <th></th>\n",
       "      <th>qid</th>\n",
       "      <th>docid</th>\n",
       "      <th>docno</th>\n",
       "      <th>rank</th>\n",
       "      <th>score</th>\n",
       "      <th>query</th>\n",
       "      <th>label</th>\n",
       "    </tr>\n",
       "  </thead>\n",
       "  <tbody>\n",
       "    <tr>\n",
       "      <th>0</th>\n",
       "      <td>1</td>\n",
       "      <td>9858</td>\n",
       "      <td>9859</td>\n",
       "      <td>0</td>\n",
       "      <td>5.05</td>\n",
       "      <td>measurement^0.1 of dielectric^2 constant^0.1 of liquids^2 by the use of microwave^2 techniques^0.1</td>\n",
       "      <td>1.0</td>\n",
       "    </tr>\n",
       "    <tr>\n",
       "      <th>1</th>\n",
       "      <td>1</td>\n",
       "      <td>7922</td>\n",
       "      <td>7923</td>\n",
       "      <td>1</td>\n",
       "      <td>5.05</td>\n",
       "      <td>measurement^0.1 of dielectric^2 constant^0.1 of liquids^2 by the use of microwave^2 techniques^0.1</td>\n",
       "      <td>1.0</td>\n",
       "    </tr>\n",
       "    <tr>\n",
       "      <th>2</th>\n",
       "      <td>1</td>\n",
       "      <td>3692</td>\n",
       "      <td>3693</td>\n",
       "      <td>2</td>\n",
       "      <td>4.20</td>\n",
       "      <td>measurement^0.1 of dielectric^2 constant^0.1 of liquids^2 by the use of microwave^2 techniques^0.1</td>\n",
       "      <td>0.0</td>\n",
       "    </tr>\n",
       "    <tr>\n",
       "      <th>3</th>\n",
       "      <td>1</td>\n",
       "      <td>5501</td>\n",
       "      <td>5502</td>\n",
       "      <td>3</td>\n",
       "      <td>4.15</td>\n",
       "      <td>measurement^0.1 of dielectric^2 constant^0.1 of liquids^2 by the use of microwave^2 techniques^0.1</td>\n",
       "      <td>1.0</td>\n",
       "    </tr>\n",
       "    <tr>\n",
       "      <th>4</th>\n",
       "      <td>1</td>\n",
       "      <td>4570</td>\n",
       "      <td>4571</td>\n",
       "      <td>4</td>\n",
       "      <td>4.05</td>\n",
       "      <td>measurement^0.1 of dielectric^2 constant^0.1 of liquids^2 by the use of microwave^2 techniques^0.1</td>\n",
       "      <td>0.0</td>\n",
       "    </tr>\n",
       "    <tr>\n",
       "      <th>5</th>\n",
       "      <td>1</td>\n",
       "      <td>7830</td>\n",
       "      <td>7831</td>\n",
       "      <td>5</td>\n",
       "      <td>4.05</td>\n",
       "      <td>measurement^0.1 of dielectric^2 constant^0.1 of liquids^2 by the use of microwave^2 techniques^0.1</td>\n",
       "      <td>0.0</td>\n",
       "    </tr>\n",
       "    <tr>\n",
       "      <th>6</th>\n",
       "      <td>1</td>\n",
       "      <td>7940</td>\n",
       "      <td>7941</td>\n",
       "      <td>6</td>\n",
       "      <td>4.05</td>\n",
       "      <td>measurement^0.1 of dielectric^2 constant^0.1 of liquids^2 by the use of microwave^2 techniques^0.1</td>\n",
       "      <td>0.0</td>\n",
       "    </tr>\n",
       "    <tr>\n",
       "      <th>7</th>\n",
       "      <td>1</td>\n",
       "      <td>9732</td>\n",
       "      <td>9733</td>\n",
       "      <td>7</td>\n",
       "      <td>4.00</td>\n",
       "      <td>measurement^0.1 of dielectric^2 constant^0.1 of liquids^2 by the use of microwave^2 techniques^0.1</td>\n",
       "      <td>0.0</td>\n",
       "    </tr>\n",
       "    <tr>\n",
       "      <th>8</th>\n",
       "      <td>1</td>\n",
       "      <td>3993</td>\n",
       "      <td>3994</td>\n",
       "      <td>8</td>\n",
       "      <td>3.10</td>\n",
       "      <td>measurement^0.1 of dielectric^2 constant^0.1 of liquids^2 by the use of microwave^2 techniques^0.1</td>\n",
       "      <td>0.0</td>\n",
       "    </tr>\n",
       "    <tr>\n",
       "      <th>9</th>\n",
       "      <td>1</td>\n",
       "      <td>6823</td>\n",
       "      <td>6824</td>\n",
       "      <td>9</td>\n",
       "      <td>3.10</td>\n",
       "      <td>measurement^0.1 of dielectric^2 constant^0.1 of liquids^2 by the use of microwave^2 techniques^0.1</td>\n",
       "      <td>1.0</td>\n",
       "    </tr>\n",
       "  </tbody>\n",
       "</table>\n",
       "</div>"
      ],
      "text/plain": [
       "  qid  ...  label\n",
       "0   1  ...    1.0\n",
       "1   1  ...    1.0\n",
       "2   1  ...    0.0\n",
       "3   1  ...    1.0\n",
       "4   1  ...    0.0\n",
       "5   1  ...    0.0\n",
       "6   1  ...    0.0\n",
       "7   1  ...    0.0\n",
       "8   1  ...    0.0\n",
       "9   1  ...    1.0\n",
       "\n",
       "[10 rows x 7 columns]"
      ]
     },
     "execution_count": 134,
     "metadata": {
      "tags": []
     },
     "output_type": "execute_result"
    }
   ],
   "source": [
    "#YOUR SOLUTION\n",
    "# print(get_document_direct(index, docno=\"7923\"))\n",
    "# print(get_document_direct(index, docno=\"3693\"))\n",
    "\n",
    "newQueryDf = pd.DataFrame([\n",
    "  [\"1\", \"measurement^0.1 of dielectric^2 constant^0.1 of liquids^2 by \"+\n",
    "    \"the use of microwave^2 techniques^0.1\"]\n",
    "  ], columns=[\"qid\", \"query\"])\n",
    "get_res_with_labels(tf, newQueryDf )\n",
    "\n"
   ]
  },
  {
   "cell_type": "code",
   "execution_count": 113,
   "metadata": {
    "id": "YobrIo5-L31t"
   },
   "outputs": [],
   "source": []
  }
 ],
 "metadata": {
  "colab": {
   "collapsed_sections": [],
   "name": "Information Retrieval (M) - Ex1 TEMPLATE",
   "provenance": []
  },
  "kernelspec": {
   "display_name": "Python 3",
   "language": "python",
   "name": "python3"
  },
  "language_info": {
   "codemirror_mode": {
    "name": "ipython",
    "version": 3
   },
   "file_extension": ".py",
   "mimetype": "text/x-python",
   "name": "python",
   "nbconvert_exporter": "python",
   "pygments_lexer": "ipython3",
   "version": "3.8.10"
  }
 },
 "nbformat": 4,
 "nbformat_minor": 1
}
